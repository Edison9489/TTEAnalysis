{
 "cells": [
  {
   "cell_type": "code",
   "execution_count": 1,
   "metadata": {
    "scrolled": false
   },
   "outputs": [
    {
     "name": "stderr",
     "output_type": "stream",
     "text": [
      "\u001b[33;20m2024-05-17 15:07:48,489 - pymlrf - WARNING - pymlrf environment variable not set. Logging to file will not be performed (__init__.py:51)\u001b[0m\n"
     ]
    }
   ],
   "source": [
    "import os\n",
    "import sys\n",
    "import logging\n",
    "\n",
    "# sys.path.append('/home/el2522/.local/lib/python3.8/site-packages')\n",
    "sys.path.append('/data/master/DS217/users/el2522')\n",
    "\n",
    "import numpy as np\n",
    "import pandas as pd\n",
    "import pickle\n",
    "import matplotlib.pyplot as plt\n",
    "pd.set_option('display.max_columns', None)\n",
    "\n",
    "from sklearn.preprocessing import MinMaxScaler\n",
    "from sklearn.model_selection import train_test_split, GridSearchCV\n",
    "\n",
    "import torch\n",
    "import torchtuples as tt\n",
    "from torch.utils.data import DataLoader\n",
    "from torch.optim import Adam\n",
    "\n",
    "np.random.seed(1234)\n",
    "_ = torch.manual_seed(123)\n",
    "\n",
    "\n",
    "from pymlrf.SupervisedLearning.torch import train, train_single_epoch, validate_single_epoch\n",
    "from pymlrf.SupervisedLearning.torch import MetricOrchestrator\n",
    "from ehr_ts_representations.Models.torch.AE import AutoEncoder as AE\n",
    "from ehr_ts_representations.Models.torch.encoders.MLP import MLPEncoder as MLP\n",
    "from ehr_ts_representations.Loss import Loss\n",
    "from ehr_ts_representations.Datasets.ClustDataset import (\n",
    "    ClustDataset, ClustDatasetLkbck, ClustCollector\n",
    "    )"
   ]
  },
  {
   "cell_type": "code",
   "execution_count": 2,
   "metadata": {},
   "outputs": [],
   "source": [
    "# Load the data\n",
    "data_dir = '/data/master/DS217/users/el2522/'\n",
    "file_path = os.path.join(data_dir, 'ventDataPrep/intermediate/df_imputed.pkl')\n",
    "df = pd.read_pickle(file_path)"
   ]
  },
  {
   "cell_type": "code",
   "execution_count": 3,
   "metadata": {},
   "outputs": [
    {
     "name": "stderr",
     "output_type": "stream",
     "text": [
      "/data/master/DS217/users/el2522/TTEAnalysis/TTE_env/lib/python3.11/site-packages/sklearn/base.py:348: InconsistentVersionWarning: Trying to unpickle estimator MinMaxScaler from version 1.2.2 when using version 1.3.2. This might lead to breaking code or invalid results. Use at your own risk. For more info please refer to:\n",
      "https://scikit-learn.org/stable/model_persistence.html#security-maintainability-limitations\n",
      "  warnings.warn(\n"
     ]
    }
   ],
   "source": [
    "# Open the file for reading\n",
    "data_dir = '/data/master/DS217/users/el2522/'\n",
    "file_path = os.path.join(data_dir, 'EF_test_data_record.pkl')\n",
    "\n",
    "with open(file_path, 'rb') as file:\n",
    "    EF_data = pickle.load(file)\n",
    "\n",
    "EF_id_list = EF_data['encounterId']\n"
   ]
  },
  {
   "cell_type": "code",
   "execution_count": 4,
   "metadata": {},
   "outputs": [],
   "source": [
    "df = pd.get_dummies(df, columns=['diagnosis', 'ethnicity'])"
   ]
  },
  {
   "cell_type": "code",
   "execution_count": 5,
   "metadata": {},
   "outputs": [],
   "source": [
    "# define vars\n",
    "demo_cols = ['gender','age', 'weight', 'PIM'] + [x for x in df.columns if \n",
    "                                            x.startswith(('ethnicity', 'diagnosis'))]\n",
    "\n",
    "age_dependent_cols = ['HR', 'systolicBP', 'meanBP', 'diastolicBP']\n",
    "\n",
    "categoric_cols = ['NMB', 'sedation', 'furosemide', 'vasoActive', 'steroid', \n",
    "                  'ventMode_PC', 'ventMode_PS'] # 'ventMode_NIV', 'ventMode_NoSupport'\n",
    "\n",
    "numerical_cols = ['timestamp', 'MAP','RR(measured)', 'etCO2', 'temp', 'HR', 'SpO2',\n",
    "       'systolicBP', 'meanBP', 'diastolicBP', 'pH', 'PCO2', 'baseExcess',\n",
    "       'lactate', 'HCO3', 'WBC', 'Neutrophil', 'Hb', 'fluidBalance', 'FiO2', 'PIP',\n",
    "       'RR(set)', 'PEEP(set)', 'inspTime', 'PS', 'TVbyWeight'] # 'RRRatio', 'IERatio', 'deltaP', 'mPower', 'SFRatio'\n",
    "\n"
   ]
  },
  {
   "cell_type": "code",
   "execution_count": 6,
   "metadata": {},
   "outputs": [],
   "source": [
    "# Convert data type\n",
    "for col in categoric_cols+['gender','age']+[x for x in df.columns if \n",
    "                                            x.startswith(('ethnicity', 'diagnosis'))]:\n",
    "    df[col] = df[col].astype('int')\n",
    "\n",
    "# Round the timestamp to the nearest whole number and then convert to int\n",
    "df[['timestamp', 'LOV']] = np.round(df[['timestamp', 'LOV']]).astype(int)\n",
    "    \n",
    "# Identify the timestep of the first instance of NIV or NoSupport for each encounterId:\n",
    "first_extubation_time = df.groupby('encounterId').apply(\n",
    "    lambda group: group[(group['airwayStatus_Extubated'] == 1)]['timestamp'].min() \n",
    "                  if not group[(group['airwayStatus_Extubated'] == 1)]['timestamp'].empty \n",
    "                  else group['timestamp'].iloc[-1],\n",
    "    include_groups=False\n",
    ")\n",
    "df['first_extubation_time'] = df['encounterId'].map(first_extubation_time)"
   ]
  },
  {
   "cell_type": "code",
   "execution_count": 7,
   "metadata": {},
   "outputs": [],
   "source": [
    "def compute_outcomes_with_censoring(group, cut_off=24*28):\n",
    "    group.set_index('timestamp', inplace=True)\n",
    "    \n",
    "    # Identify the timestep of the first instance of NIV or NoSupport for each encounterId:\n",
    "    vent_start = group[group.airwayStatus_Intubated==1].first_valid_index()\n",
    "    vent_end = group[group.airwayStatus_Extubated==1].last_valid_index()\n",
    "    \n",
    "    \n",
    "    # Censoring indicator\n",
    "    # It's event (0) if we don't have a complete 48-hour observation window post-extubation,\n",
    "    if (vent_end is None) | (group[['airwayStatus_Intubated', 'airwayStatus_TubeKeptIn']].iloc[-1].sum()!=0):\n",
    "        if group['ifDeceased'].iloc[0]==1:\n",
    "            event_description = 'Not Extubated - Deceased'\n",
    "        else:\n",
    "            event_description = 'Not Extubated - Alive'\n",
    "    elif (group['airwayStatus_TubeKeptOut'].iloc[-48:].sum()!=48):\n",
    "        if group['ifDeceased'].iloc[0]==1:\n",
    "            event_description = 'No 48h Observation - Deceased'\n",
    "        else:\n",
    "            event_description = f'No 48h Observation - Alive'\n",
    "    elif group['airwayStatus_TubeKeptOut'].iloc[-48:].sum()==48:\n",
    "        event_description = \"Successful Extubation\"\n",
    "    \n",
    "    vent_end = int(vent_end) if not event_description.startswith('Not Extubated') else int(group.index[-1])\n",
    "    if (vent_end-vent_start) > cut_off:\n",
    "        event_description = f'Not Extubated - Cut Off at {cut_off}H'\n",
    "        vent_end = int(cut_off + vent_start)\n",
    "        \n",
    "    num_intub = group.loc[:vent_end].airwayStatus_Intubated.sum()\n",
    "\n",
    "    return pd.Series({\n",
    "        'vent_start_time': int(vent_start),\n",
    "        'vent_end_time': int(vent_end),\n",
    "        'num_intub': int(num_intub),\n",
    "        'event_description': event_description,\n",
    "    })\n",
    "\n",
    "# Apply function and merge results\n",
    "cut_off = 24*28\n",
    "vent_outcome = df.groupby('encounterId').apply(\n",
    "    lambda x: compute_outcomes_with_censoring(x, cut_off = cut_off),\n",
    "    include_groups=False\n",
    ").reset_index()\n",
    "df = df.merge(vent_outcome, on='encounterId', how='left')\n"
   ]
  },
  {
   "cell_type": "code",
   "execution_count": 8,
   "metadata": {},
   "outputs": [],
   "source": [
    "df_pred = df.copy() \n",
    "# re-align timestamp\n",
    "df_pred['timestamp_original'] = df_pred['timestamp']\n",
    "df_pred['timestamp'] = df_pred.timestamp - df_pred.vent_start_time\n",
    "df_pred = df_pred[(df_pred.timestamp_original >= df_pred.vent_start_time)]\n",
    "\n",
    "# left out extra test dataset for comparing with extubation failure task\n",
    "df_ef = df_pred[df_pred.encounterId.isin(EF_id_list)].copy()\n",
    "df_ef['encounterId_ordered'] = pd.Categorical(df_ef['encounterId'], categories=EF_id_list, ordered=True)\n",
    "df_ef = df_ef.sort_values('encounterId_ordered')\n",
    "df_ef.drop('encounterId_ordered', axis=1, inplace=True)\n"
   ]
  },
  {
   "cell_type": "code",
   "execution_count": 9,
   "metadata": {},
   "outputs": [],
   "source": [
    "df_baseline = df_pred[(~df_pred.encounterId.isin(EF_id_list)) & \n",
    "                      (~df_pred.event_description.str.contains('Deceased'))].copy() # should include competing risk after\n",
    "\n",
    "df_baseline['vent_end_time_tmp'] =  np.minimum(df_baseline.first_extubation_time, df_baseline.vent_end_time)\n",
    "df_baseline = df_baseline[df_baseline.timestamp_original < df_baseline.vent_end_time_tmp] \n",
    "        # here we cut-off at first extubation\n",
    "df_baseline['time_to_event'] = (df_baseline.vent_end_time_tmp-df_baseline.timestamp_original).astype(int)\n",
    "df_baseline.drop(columns='vent_end_time_tmp', inplace=True)\n",
    "\n",
    "df_baseline['event'] = ~(df_baseline.event_description.str.startswith('Not Extubated') | (df_baseline.num_intub>1)) \n",
    "df_baseline.loc[df_baseline.num_intub>1, 'event_description'] = 'Extubation Failure'\n"
   ]
  },
  {
   "cell_type": "code",
   "execution_count": 10,
   "metadata": {},
   "outputs": [
    {
     "name": "stderr",
     "output_type": "stream",
     "text": [
      "/tmp/ipykernel_3668109/2863315832.py:22: SettingWithCopyWarning: \n",
      "A value is trying to be set on a copy of a slice from a DataFrame.\n",
      "Try using .loc[row_indexer,col_indexer] = value instead\n",
      "\n",
      "See the caveats in the documentation: https://pandas.pydata.org/pandas-docs/stable/user_guide/indexing.html#returning-a-view-versus-a-copy\n",
      "  df_train[cols_to_transform] = scaler.fit_transform(df_train[cols_to_transform])\n",
      "/tmp/ipykernel_3668109/2863315832.py:23: SettingWithCopyWarning: \n",
      "A value is trying to be set on a copy of a slice from a DataFrame.\n",
      "Try using .loc[row_indexer,col_indexer] = value instead\n",
      "\n",
      "See the caveats in the documentation: https://pandas.pydata.org/pandas-docs/stable/user_guide/indexing.html#returning-a-view-versus-a-copy\n",
      "  df_val[cols_to_transform] = scaler.transform(df_val[cols_to_transform])\n",
      "/tmp/ipykernel_3668109/2863315832.py:24: SettingWithCopyWarning: \n",
      "A value is trying to be set on a copy of a slice from a DataFrame.\n",
      "Try using .loc[row_indexer,col_indexer] = value instead\n",
      "\n",
      "See the caveats in the documentation: https://pandas.pydata.org/pandas-docs/stable/user_guide/indexing.html#returning-a-view-versus-a-copy\n",
      "  df_test[cols_to_transform] = scaler.transform(df_test[cols_to_transform]) # Apply same transformation to test data\n"
     ]
    }
   ],
   "source": [
    "# Get unique encounterIds\n",
    "id_df = df_baseline[['encounterId', 'event', 'event_description']].drop_duplicates()\n",
    "\n",
    "# Split the unique encounterIds into train and test sets\n",
    "id_df_train_val, id_df_test = train_test_split(id_df, stratify = id_df['event_description'],\n",
    "                                               test_size=0.2)\n",
    "id_df_train, id_df_val = train_test_split(id_df_train_val, stratify = id_df_train_val['event_description'],\n",
    "                                               test_size=0.2)\n",
    "\n",
    "# Filter the original dataframe based on the splits of encounterIds\n",
    "df_train = df_baseline[df_baseline['encounterId'].isin(id_df_train['encounterId'])]\n",
    "df_val = df_baseline[df_baseline['encounterId'].isin(id_df_val['encounterId'])]\n",
    "df_test = df_baseline[df_baseline['encounterId'].isin(id_df_test['encounterId'])]\n",
    "\n",
    "# # Ensure that the maximum time_to_final_weaning in the test set is less than in the train set\n",
    "# max_train_time = df_train['time_to_final_weaning'].max()\n",
    "# df_test = df_test[df_test['time_to_final_weaning'] < max_train_time]\n",
    "\n",
    "# Standardization for other numerical columns\n",
    "scaler = MinMaxScaler()\n",
    "cols_to_transform = demo_cols + categoric_cols + numerical_cols\n",
    "df_train[cols_to_transform] = scaler.fit_transform(df_train[cols_to_transform])\n",
    "df_val[cols_to_transform] = scaler.transform(df_val[cols_to_transform])\n",
    "df_test[cols_to_transform] = scaler.transform(df_test[cols_to_transform]) # Apply same transformation to test data\n"
   ]
  },
  {
   "cell_type": "code",
   "execution_count": 11,
   "metadata": {},
   "outputs": [],
   "source": [
    "step=12"
   ]
  },
  {
   "cell_type": "code",
   "execution_count": 12,
   "metadata": {},
   "outputs": [],
   "source": [
    "# def prepare_tabular_data(df, selected_features, tte_col, event_col, step=12):\n",
    "#     # Calculate trajectory lengths for dynamic stepping\n",
    "#     df['trajectory_length'] = df.groupby('encounterId')[tte_col].transform('count')\n",
    "    \n",
    "\n",
    "#     # Filter the DataFrame by stepping through each group\n",
    "#     sampled_data = df.groupby('encounterId').apply(lambda group: group.iloc[::step], include_groups=False)\n",
    "        \n",
    "#     # Select the required features along with TTE and event columns\n",
    "#     tabulars_np = sampled_data[selected_features].values.astype('float32')\n",
    "#     ttes_np = sampled_data[tte_col].values\n",
    "#     events_np = sampled_data[event_col].values.astype('float32')\n",
    "    \n",
    "#     return tabulars_np, (ttes_np, events_np)\n",
    "\n",
    "\n",
    "def prepare_tabular_data(df, selected_features, tte_col, event_col, step=24):\n",
    "\n",
    "    # Function to process each group\n",
    "    def process_group(group):\n",
    "        # Define bins based on the TTE column using the step size\n",
    "        bins = np.arange(0, group[tte_col].max() + step, step)\n",
    "        \n",
    "        # Digitize the TTE values to find out which bin they fall into\n",
    "        group['bin_index'] = np.digitize(group[tte_col], bins, right=True) - 1  # Subtract 1 to align with zero indexing\n",
    "        \n",
    "        # Select a random occurrence within each bin\n",
    "        sampled = group.groupby('bin_index').apply(lambda x: x.sample(1), include_groups=False).reset_index(drop=False)\n",
    "        # Set the TTE to the right edge of the bins (using bin_index to find the right edge)\n",
    "        sampled['tte'] = (sampled['bin_index'] + 1) * step\n",
    "                \n",
    "        return sampled[selected_features + ['tte', tte_col, event_col]]\n",
    "\n",
    "    # Apply the function to each group and combine results\n",
    "    sampled_data = df.groupby('encounterId').apply(process_group, include_groups=False).reset_index(drop=False)\n",
    "        \n",
    "    # Prepare arrays for machine learning input\n",
    "    tabulars_np = sampled_data[selected_features].values.astype('float32')\n",
    "    ttes_np = sampled_data['tte'].values.astype('int')\n",
    "    events_np = sampled_data[event_col].values.astype('float32')\n",
    "    y_tracker = sampled_data[['encounterId', tte_col, event_col]]\n",
    "    \n",
    "    return tabulars_np, (ttes_np, events_np), y_tracker\n",
    "\n",
    "\n",
    "# Example usage assuming 'df' is your DataFrame sorted by 'encounterId' and 'timestamp'\n",
    "X_train, y_train, y_tracker_train = prepare_tabular_data(\n",
    "    df_train.sort_values(by=['encounterId', 'time_to_event']),  # Make sure data is sorted appropriately\n",
    "    cols_to_transform,  # Features selected for training\n",
    "    'time_to_event', \n",
    "    'event',\n",
    "    step=step\n",
    ")\n",
    "\n",
    "X_val, y_val, y_tracker_val = prepare_tabular_data(\n",
    "    df_val.sort_values(by=['encounterId', 'time_to_event']),  # Make sure data is sorted appropriately\n",
    "    cols_to_transform,  # Features selected for training\n",
    "    'time_to_event', \n",
    "    'event',\n",
    "    step=step\n",
    ")\n",
    "\n",
    "X_test, y_test, y_tracker_test = prepare_tabular_data(\n",
    "    df_test.sort_values(by=['encounterId', 'time_to_event']),  # Make sure data is sorted appropriately\n",
    "    cols_to_transform,  # Features selected for training\n",
    "    'time_to_event', \n",
    "    'event',\n",
    "    step=step\n",
    ")\n",
    "########\n",
    "# tmp\n",
    "def tmp_handler(labels):\n",
    "    new_durations = labels[0]\n",
    "    mask1 = new_durations>240\n",
    "    new_durations[mask1] = np.ceil(new_durations[mask1]/24)*24\n",
    "    mask2 = new_durations>360\n",
    "    new_durations[mask2] = np.ceil(new_durations[mask2]/48)*48\n",
    "    \n",
    "    return (new_durations, labels[1])\n",
    "\n",
    "y_train = tmp_handler(y_train)\n",
    "y_val = tmp_handler(y_val)\n",
    "y_test = tmp_handler(y_test)\n",
    "\n",
    "\n",
    "#########\n",
    "\n",
    "X_train_val = np.concatenate([X_train, X_val], axis=0)\n",
    "y_train_val = (np.concatenate([y_train[0], y_val[0]]), np.concatenate([y_train[1], y_val[1]]))\n",
    "\n",
    "durations_test, events_test = y_test\n",
    "\n"
   ]
  },
  {
   "cell_type": "code",
   "execution_count": 13,
   "metadata": {},
   "outputs": [],
   "source": [
    "# refine time steps to take consideration, taking a conservative approach\n",
    "lower, upper = np.percentile(durations_test, [0, 99])\n",
    "time_grid = np.arange(lower, upper+1, step=step)"
   ]
  },
  {
   "cell_type": "code",
   "execution_count": null,
   "metadata": {},
   "outputs": [],
   "source": []
  },
  {
   "cell_type": "code",
   "execution_count": null,
   "metadata": {},
   "outputs": [],
   "source": []
  },
  {
   "cell_type": "code",
   "execution_count": null,
   "metadata": {},
   "outputs": [],
   "source": []
  },
  {
   "cell_type": "code",
   "execution_count": 14,
   "metadata": {},
   "outputs": [],
   "source": [
    "df_train_sampled = df_train\n",
    "df_val_sampled = df_val\n",
    "\n",
    "x_y_train = ClustDataset(\n",
    "    X=pd.DataFrame(X_train),\n",
    "    y=pd.DataFrame(X_train)\n",
    "    )\n",
    "x_y_val = ClustDataset(\n",
    "    X=pd.DataFrame(X_val),\n",
    "    y=pd.DataFrame(X_val)\n",
    "    )\n",
    "\n",
    "# Wrap the ClustDataset into a DataLoader\n",
    "clust_collector = ClustCollector()\n",
    "train_data_loader = DataLoader(x_y_train, batch_size=128, shuffle=True, collate_fn=clust_collector)\n",
    "val_data_loader = DataLoader(x_y_val, batch_size=128, shuffle=False, collate_fn=clust_collector)"
   ]
  },
  {
   "cell_type": "code",
   "execution_count": null,
   "metadata": {},
   "outputs": [],
   "source": []
  },
  {
   "cell_type": "code",
   "execution_count": null,
   "metadata": {},
   "outputs": [],
   "source": []
  },
  {
   "cell_type": "code",
   "execution_count": 15,
   "metadata": {},
   "outputs": [],
   "source": [
    "# Define the dimensions for the MLP encoder and decoder\n",
    "in_features = X_train.shape[-1]\n",
    "hidden_dims = [in_features, int(in_features/2)]\n",
    "batch_norm = True\n",
    "dropout = 0.1\n",
    "out_features = int(in_features/2)\n",
    "\n",
    "# Create instances of the MLP class for the encoder and decoder\n",
    "# encoder = tt.practical.MLPVanilla(in_features, hidden_dims, out_features, batch_norm, dropout)\n",
    "# decoder = tt.practical.MLPVanilla(out_features, hidden_dims[::-1], in_features, batch_norm, dropout)\n",
    "\n",
    "encoder = MLP(in_features, hidden_dims, out_features)\n",
    "decoder = MLP(out_features, hidden_dims[::-1], in_features)\n",
    "\n",
    "# Define the number of clusters for the AutoEncoder\n",
    "n_clusters = 10\n",
    "\n",
    "# Create an instance of the AutoEncoder class\n",
    "ae_model = AE(encoder=encoder, decoder=decoder, n_clusters=n_clusters)"
   ]
  },
  {
   "cell_type": "code",
   "execution_count": 16,
   "metadata": {},
   "outputs": [],
   "source": [
    "\n",
    "# Initialize your model, optimizer, and loss function\n",
    "lr = 1e-4\n",
    "optimizer = Adam(ae_model.parameters(), lr=lr)\n",
    "\n",
    "mo = MetricOrchestrator()\n",
    "mo.reset_orchestrator()\n",
    "#todo: mo.setup_orchestrator()??\n",
    "\n",
    "gpu = True\n",
    "criterion_dict = {}\n",
    "for i in [\"train\", \"val\"]:\n",
    "    mo.add_metric(f'{i}_reconstruct', {})\n",
    "#     mo.add_metric(f'{i}_clust', {})\n",
    "#     mo.add_metric(f'{i}_spread', {})\n",
    "    _loss_functions = [\n",
    "        Loss.MultiOutputMSE(mo, prefix=i), \n",
    "#         Loss.MultiOutputMSEClust(mo, prefix=i), \n",
    "#         Loss.MultiOutputSpread(mo, prefix=i)\n",
    "    ]\n",
    "    weights = [1.0]  # These should sum to 1\n",
    "#     weights = [0.7, 0.1, 0.2]  # These should sum to 1\n",
    "    criterion_dict[i] = Loss.BalancedLoss(*_loss_functions, lam=weights, gpu=gpu)\n",
    "    criterion_dict[i].reset_exc_counter()\n"
   ]
  },
  {
   "cell_type": "code",
   "execution_count": 151,
   "metadata": {},
   "outputs": [],
   "source": [
    "class EarlyStopping:\n",
    "    def __init__(self, patience=10, tolerance=0.01, direction= \"ls\", verbose=False):\n",
    "        \"\"\"\n",
    "        Args:\n",
    "            patience (int): How many epochs to wait after last time validation loss improved.\n",
    "                            Default: 10\n",
    "            tolerance (float): Minimum change in the monitored quantity to qualify as an improvement.\n",
    "                            Default: 0.01\n",
    "            direction (Literal[\"ls\", \"gr\"]): Direction of improvement; \"ls\" for less (minimizing a metric like loss),\n",
    "                                            \"gr\" for greater (maximizing a metric like accuracy).\n",
    "            verbose (bool): If True, prints a message for each validation loss improvement. \n",
    "                            Default: False\n",
    "        \"\"\"\n",
    "        self.patience = patience\n",
    "        self.tolerance = tolerance\n",
    "        self.verbose = verbose\n",
    "        self.best_value = None\n",
    "        self.counter = 0\n",
    "        self.direction = direction\n",
    "        self.__dir_func = (lambda a, b: a < b) if direction == \"ls\" else (lambda a, b: a > b)\n",
    "\n",
    "    def __call__(self, current, previous=None):\n",
    "        if previous is None:\n",
    "            # If no previous value given, always continue training\n",
    "            return False\n",
    "        if self.best_value is None or self.__dir_func(current, self.best_value - self.tolerance):\n",
    "            self.best_value = current\n",
    "            self.counter = 0\n",
    "            if self.verbose:\n",
    "                print(f\"Improved metric to {current:.6f}, resetting counter.\")\n",
    "        else:\n",
    "            self.counter += 1\n",
    "            if self.verbose:\n",
    "                print(f\"No improvement. Counter at {self.counter}/{self.patience}\")\n",
    "            if self.counter >= self.patience:\n",
    "                return True\n",
    "        return False\n"
   ]
  },
  {
   "cell_type": "code",
   "execution_count": 153,
   "metadata": {
    "scrolled": true
   },
   "outputs": [
    {
     "data": {
      "application/vnd.jupyter.widget-view+json": {
       "model_id": "398f268991f94ffdae61d7edca8163eb",
       "version_major": 2,
       "version_minor": 0
      },
      "text/plain": [
       "0it [00:00, ?it/s]"
      ]
     },
     "metadata": {},
     "output_type": "display_data"
    },
    {
     "name": "stderr",
     "output_type": "stream",
     "text": [
      "\u001b[38;20m2024-05-17 13:59:40,195 - pymlrf - DEBUG - First epoch so skipping early stopping evaluation (EarlyStopper.py:60)\u001b[0m\n",
      "Implement final epoch properly\n"
     ]
    },
    {
     "data": {
      "application/vnd.jupyter.widget-view+json": {
       "model_id": "7c544117eb2046079c2a512b862ff52c",
       "version_major": 2,
       "version_minor": 0
      },
      "text/plain": [
       "0it [00:00, ?it/s]"
      ]
     },
     "metadata": {},
     "output_type": "display_data"
    },
    {
     "name": "stderr",
     "output_type": "stream",
     "text": [
      "Implement final epoch properly\n"
     ]
    },
    {
     "name": "stdout",
     "output_type": "stream",
     "text": [
      "Improved metric to 3.424782, resetting counter.\n"
     ]
    },
    {
     "data": {
      "application/vnd.jupyter.widget-view+json": {
       "model_id": "65f0c0181df04f25b4578abb637b6340",
       "version_major": 2,
       "version_minor": 0
      },
      "text/plain": [
       "0it [00:00, ?it/s]"
      ]
     },
     "metadata": {},
     "output_type": "display_data"
    },
    {
     "name": "stderr",
     "output_type": "stream",
     "text": [
      "Implement final epoch properly\n"
     ]
    },
    {
     "name": "stdout",
     "output_type": "stream",
     "text": [
      "Improved metric to 2.977381, resetting counter.\n"
     ]
    },
    {
     "data": {
      "application/vnd.jupyter.widget-view+json": {
       "model_id": "a8795e0cde2648b793f4a50a5002c003",
       "version_major": 2,
       "version_minor": 0
      },
      "text/plain": [
       "0it [00:00, ?it/s]"
      ]
     },
     "metadata": {},
     "output_type": "display_data"
    },
    {
     "name": "stderr",
     "output_type": "stream",
     "text": [
      "Implement final epoch properly\n"
     ]
    },
    {
     "name": "stdout",
     "output_type": "stream",
     "text": [
      "Improved metric to 2.926595, resetting counter.\n"
     ]
    },
    {
     "data": {
      "application/vnd.jupyter.widget-view+json": {
       "model_id": "2e78be1b447f4c1cb1cc620f0a92de7d",
       "version_major": 2,
       "version_minor": 0
      },
      "text/plain": [
       "0it [00:00, ?it/s]"
      ]
     },
     "metadata": {},
     "output_type": "display_data"
    },
    {
     "name": "stderr",
     "output_type": "stream",
     "text": [
      "Implement final epoch properly\n"
     ]
    },
    {
     "name": "stdout",
     "output_type": "stream",
     "text": [
      "Improved metric to 2.824262, resetting counter.\n"
     ]
    },
    {
     "data": {
      "application/vnd.jupyter.widget-view+json": {
       "model_id": "33d4dbc4594b411388807d28feba07eb",
       "version_major": 2,
       "version_minor": 0
      },
      "text/plain": [
       "0it [00:00, ?it/s]"
      ]
     },
     "metadata": {},
     "output_type": "display_data"
    },
    {
     "name": "stderr",
     "output_type": "stream",
     "text": [
      "Implement final epoch properly\n"
     ]
    },
    {
     "name": "stdout",
     "output_type": "stream",
     "text": [
      "Improved metric to 2.553609, resetting counter.\n"
     ]
    },
    {
     "data": {
      "application/vnd.jupyter.widget-view+json": {
       "model_id": "d066d954fa304bab86b249a357ffd536",
       "version_major": 2,
       "version_minor": 0
      },
      "text/plain": [
       "0it [00:00, ?it/s]"
      ]
     },
     "metadata": {},
     "output_type": "display_data"
    },
    {
     "name": "stderr",
     "output_type": "stream",
     "text": [
      "Implement final epoch properly\n"
     ]
    },
    {
     "name": "stdout",
     "output_type": "stream",
     "text": [
      "Improved metric to 2.400349, resetting counter.\n"
     ]
    },
    {
     "data": {
      "application/vnd.jupyter.widget-view+json": {
       "model_id": "f3066b0d1238497b8d2f98b5259a9ce2",
       "version_major": 2,
       "version_minor": 0
      },
      "text/plain": [
       "0it [00:00, ?it/s]"
      ]
     },
     "metadata": {},
     "output_type": "display_data"
    },
    {
     "name": "stderr",
     "output_type": "stream",
     "text": [
      "Implement final epoch properly\n"
     ]
    },
    {
     "name": "stdout",
     "output_type": "stream",
     "text": [
      "Improved metric to 2.296603, resetting counter.\n"
     ]
    },
    {
     "data": {
      "application/vnd.jupyter.widget-view+json": {
       "model_id": "cfb6393fb7084d5aa23a722db134f1af",
       "version_major": 2,
       "version_minor": 0
      },
      "text/plain": [
       "0it [00:00, ?it/s]"
      ]
     },
     "metadata": {},
     "output_type": "display_data"
    },
    {
     "name": "stderr",
     "output_type": "stream",
     "text": [
      "Implement final epoch properly\n"
     ]
    },
    {
     "name": "stdout",
     "output_type": "stream",
     "text": [
      "Improved metric to 2.147240, resetting counter.\n"
     ]
    },
    {
     "data": {
      "application/vnd.jupyter.widget-view+json": {
       "model_id": "575ab47fcbef4120b2b0781c7d11139f",
       "version_major": 2,
       "version_minor": 0
      },
      "text/plain": [
       "0it [00:00, ?it/s]"
      ]
     },
     "metadata": {},
     "output_type": "display_data"
    },
    {
     "name": "stderr",
     "output_type": "stream",
     "text": [
      "Implement final epoch properly\n"
     ]
    },
    {
     "name": "stdout",
     "output_type": "stream",
     "text": [
      "Improved metric to 1.963368, resetting counter.\n"
     ]
    },
    {
     "data": {
      "application/vnd.jupyter.widget-view+json": {
       "model_id": "0e6e5fc829124111b77a2cd5c326ce80",
       "version_major": 2,
       "version_minor": 0
      },
      "text/plain": [
       "0it [00:00, ?it/s]"
      ]
     },
     "metadata": {},
     "output_type": "display_data"
    },
    {
     "name": "stderr",
     "output_type": "stream",
     "text": [
      "Implement final epoch properly\n"
     ]
    },
    {
     "name": "stdout",
     "output_type": "stream",
     "text": [
      "Improved metric to 1.760636, resetting counter.\n"
     ]
    },
    {
     "data": {
      "application/vnd.jupyter.widget-view+json": {
       "model_id": "3f6354f99cde4b73bb80c6e30f42fee9",
       "version_major": 2,
       "version_minor": 0
      },
      "text/plain": [
       "0it [00:00, ?it/s]"
      ]
     },
     "metadata": {},
     "output_type": "display_data"
    },
    {
     "name": "stderr",
     "output_type": "stream",
     "text": [
      "Implement final epoch properly\n"
     ]
    },
    {
     "name": "stdout",
     "output_type": "stream",
     "text": [
      "Improved metric to 1.645203, resetting counter.\n"
     ]
    },
    {
     "data": {
      "application/vnd.jupyter.widget-view+json": {
       "model_id": "2158754901e441eeb0c2f6f78df77eb5",
       "version_major": 2,
       "version_minor": 0
      },
      "text/plain": [
       "0it [00:00, ?it/s]"
      ]
     },
     "metadata": {},
     "output_type": "display_data"
    },
    {
     "name": "stderr",
     "output_type": "stream",
     "text": [
      "Implement final epoch properly\n"
     ]
    },
    {
     "name": "stdout",
     "output_type": "stream",
     "text": [
      "Improved metric to 1.545854, resetting counter.\n"
     ]
    },
    {
     "data": {
      "application/vnd.jupyter.widget-view+json": {
       "model_id": "47dfeca919c64ce085a0a0dab3d23be1",
       "version_major": 2,
       "version_minor": 0
      },
      "text/plain": [
       "0it [00:00, ?it/s]"
      ]
     },
     "metadata": {},
     "output_type": "display_data"
    },
    {
     "name": "stderr",
     "output_type": "stream",
     "text": [
      "Implement final epoch properly\n"
     ]
    },
    {
     "name": "stdout",
     "output_type": "stream",
     "text": [
      "Improved metric to 1.440737, resetting counter.\n"
     ]
    },
    {
     "data": {
      "application/vnd.jupyter.widget-view+json": {
       "model_id": "4666754b9bc34738a4c19d700f7766db",
       "version_major": 2,
       "version_minor": 0
      },
      "text/plain": [
       "0it [00:00, ?it/s]"
      ]
     },
     "metadata": {},
     "output_type": "display_data"
    },
    {
     "name": "stderr",
     "output_type": "stream",
     "text": [
      "Implement final epoch properly\n"
     ]
    },
    {
     "name": "stdout",
     "output_type": "stream",
     "text": [
      "Improved metric to 1.312901, resetting counter.\n"
     ]
    },
    {
     "data": {
      "application/vnd.jupyter.widget-view+json": {
       "model_id": "7d4b6fdc7f1a494a8ce958be75e9f989",
       "version_major": 2,
       "version_minor": 0
      },
      "text/plain": [
       "0it [00:00, ?it/s]"
      ]
     },
     "metadata": {},
     "output_type": "display_data"
    },
    {
     "name": "stderr",
     "output_type": "stream",
     "text": [
      "Implement final epoch properly\n"
     ]
    },
    {
     "name": "stdout",
     "output_type": "stream",
     "text": [
      "Improved metric to 1.194452, resetting counter.\n"
     ]
    },
    {
     "data": {
      "application/vnd.jupyter.widget-view+json": {
       "model_id": "368349a25f934ec29fcd0b8e7390bfc6",
       "version_major": 2,
       "version_minor": 0
      },
      "text/plain": [
       "0it [00:00, ?it/s]"
      ]
     },
     "metadata": {},
     "output_type": "display_data"
    },
    {
     "name": "stderr",
     "output_type": "stream",
     "text": [
      "Implement final epoch properly\n"
     ]
    },
    {
     "name": "stdout",
     "output_type": "stream",
     "text": [
      "Improved metric to 1.094998, resetting counter.\n"
     ]
    },
    {
     "data": {
      "application/vnd.jupyter.widget-view+json": {
       "model_id": "9188189b9fd944e69a8f1250593fcf17",
       "version_major": 2,
       "version_minor": 0
      },
      "text/plain": [
       "0it [00:00, ?it/s]"
      ]
     },
     "metadata": {},
     "output_type": "display_data"
    },
    {
     "name": "stderr",
     "output_type": "stream",
     "text": [
      "Implement final epoch properly\n"
     ]
    },
    {
     "name": "stdout",
     "output_type": "stream",
     "text": [
      "Improved metric to 1.001302, resetting counter.\n"
     ]
    },
    {
     "data": {
      "application/vnd.jupyter.widget-view+json": {
       "model_id": "0af92d839e7645ad91581f2894492af5",
       "version_major": 2,
       "version_minor": 0
      },
      "text/plain": [
       "0it [00:00, ?it/s]"
      ]
     },
     "metadata": {},
     "output_type": "display_data"
    },
    {
     "name": "stderr",
     "output_type": "stream",
     "text": [
      "Implement final epoch properly\n"
     ]
    },
    {
     "name": "stdout",
     "output_type": "stream",
     "text": [
      "Improved metric to 0.925592, resetting counter.\n"
     ]
    },
    {
     "data": {
      "application/vnd.jupyter.widget-view+json": {
       "model_id": "4e47a143a06f4ca1ae69bd19895bc490",
       "version_major": 2,
       "version_minor": 0
      },
      "text/plain": [
       "0it [00:00, ?it/s]"
      ]
     },
     "metadata": {},
     "output_type": "display_data"
    },
    {
     "name": "stderr",
     "output_type": "stream",
     "text": [
      "Implement final epoch properly\n"
     ]
    },
    {
     "name": "stdout",
     "output_type": "stream",
     "text": [
      "Improved metric to 0.885991, resetting counter.\n"
     ]
    },
    {
     "data": {
      "application/vnd.jupyter.widget-view+json": {
       "model_id": "800b270f3fea4d29bc4786637c001db5",
       "version_major": 2,
       "version_minor": 0
      },
      "text/plain": [
       "0it [00:00, ?it/s]"
      ]
     },
     "metadata": {},
     "output_type": "display_data"
    },
    {
     "name": "stderr",
     "output_type": "stream",
     "text": [
      "Implement final epoch properly\n"
     ]
    },
    {
     "name": "stdout",
     "output_type": "stream",
     "text": [
      "Improved metric to 0.861000, resetting counter.\n"
     ]
    },
    {
     "data": {
      "application/vnd.jupyter.widget-view+json": {
       "model_id": "ade6c5921ac64784b8a3d2063c2b83e0",
       "version_major": 2,
       "version_minor": 0
      },
      "text/plain": [
       "0it [00:00, ?it/s]"
      ]
     },
     "metadata": {},
     "output_type": "display_data"
    },
    {
     "name": "stderr",
     "output_type": "stream",
     "text": [
      "Implement final epoch properly\n"
     ]
    },
    {
     "name": "stdout",
     "output_type": "stream",
     "text": [
      "Improved metric to 0.843151, resetting counter.\n"
     ]
    },
    {
     "data": {
      "application/vnd.jupyter.widget-view+json": {
       "model_id": "ae3d7bcba66248ba8ea780695de34b83",
       "version_major": 2,
       "version_minor": 0
      },
      "text/plain": [
       "0it [00:00, ?it/s]"
      ]
     },
     "metadata": {},
     "output_type": "display_data"
    },
    {
     "name": "stderr",
     "output_type": "stream",
     "text": [
      "Implement final epoch properly\n"
     ]
    },
    {
     "name": "stdout",
     "output_type": "stream",
     "text": [
      "Improved metric to 0.826818, resetting counter.\n"
     ]
    },
    {
     "data": {
      "application/vnd.jupyter.widget-view+json": {
       "model_id": "e7065896d54a4570a039fd46117a4e18",
       "version_major": 2,
       "version_minor": 0
      },
      "text/plain": [
       "0it [00:00, ?it/s]"
      ]
     },
     "metadata": {},
     "output_type": "display_data"
    },
    {
     "name": "stderr",
     "output_type": "stream",
     "text": [
      "Implement final epoch properly\n"
     ]
    },
    {
     "name": "stdout",
     "output_type": "stream",
     "text": [
      "Improved metric to 0.812891, resetting counter.\n"
     ]
    },
    {
     "data": {
      "application/vnd.jupyter.widget-view+json": {
       "model_id": "0d704dcb650c482b8bf894280f5f7ac3",
       "version_major": 2,
       "version_minor": 0
      },
      "text/plain": [
       "0it [00:00, ?it/s]"
      ]
     },
     "metadata": {},
     "output_type": "display_data"
    },
    {
     "name": "stderr",
     "output_type": "stream",
     "text": [
      "Implement final epoch properly\n"
     ]
    },
    {
     "name": "stdout",
     "output_type": "stream",
     "text": [
      "Improved metric to 0.800213, resetting counter.\n"
     ]
    },
    {
     "data": {
      "application/vnd.jupyter.widget-view+json": {
       "model_id": "1cfb08f8ad5640128339817625144471",
       "version_major": 2,
       "version_minor": 0
      },
      "text/plain": [
       "0it [00:00, ?it/s]"
      ]
     },
     "metadata": {},
     "output_type": "display_data"
    },
    {
     "name": "stderr",
     "output_type": "stream",
     "text": [
      "Implement final epoch properly\n"
     ]
    },
    {
     "name": "stdout",
     "output_type": "stream",
     "text": [
      "Improved metric to 0.788742, resetting counter.\n"
     ]
    },
    {
     "data": {
      "application/vnd.jupyter.widget-view+json": {
       "model_id": "b20383ca163848c3b688b3755057cf97",
       "version_major": 2,
       "version_minor": 0
      },
      "text/plain": [
       "0it [00:00, ?it/s]"
      ]
     },
     "metadata": {},
     "output_type": "display_data"
    },
    {
     "name": "stderr",
     "output_type": "stream",
     "text": [
      "Implement final epoch properly\n"
     ]
    },
    {
     "name": "stdout",
     "output_type": "stream",
     "text": [
      "Improved metric to 0.776377, resetting counter.\n"
     ]
    },
    {
     "data": {
      "application/vnd.jupyter.widget-view+json": {
       "model_id": "57c70936c8bd4168bcec45716e5b6ad7",
       "version_major": 2,
       "version_minor": 0
      },
      "text/plain": [
       "0it [00:00, ?it/s]"
      ]
     },
     "metadata": {},
     "output_type": "display_data"
    },
    {
     "name": "stderr",
     "output_type": "stream",
     "text": [
      "Implement final epoch properly\n"
     ]
    },
    {
     "name": "stdout",
     "output_type": "stream",
     "text": [
      "Improved metric to 0.764980, resetting counter.\n"
     ]
    },
    {
     "data": {
      "application/vnd.jupyter.widget-view+json": {
       "model_id": "851461037d0c435ca1e57066de875c2f",
       "version_major": 2,
       "version_minor": 0
      },
      "text/plain": [
       "0it [00:00, ?it/s]"
      ]
     },
     "metadata": {},
     "output_type": "display_data"
    },
    {
     "name": "stderr",
     "output_type": "stream",
     "text": [
      "Implement final epoch properly\n"
     ]
    },
    {
     "name": "stdout",
     "output_type": "stream",
     "text": [
      "Improved metric to 0.754010, resetting counter.\n"
     ]
    },
    {
     "data": {
      "application/vnd.jupyter.widget-view+json": {
       "model_id": "f94704a598e94785a9ee3f1f55dcbbaa",
       "version_major": 2,
       "version_minor": 0
      },
      "text/plain": [
       "0it [00:00, ?it/s]"
      ]
     },
     "metadata": {},
     "output_type": "display_data"
    },
    {
     "name": "stderr",
     "output_type": "stream",
     "text": [
      "Implement final epoch properly\n"
     ]
    },
    {
     "name": "stdout",
     "output_type": "stream",
     "text": [
      "Improved metric to 0.740732, resetting counter.\n"
     ]
    },
    {
     "data": {
      "application/vnd.jupyter.widget-view+json": {
       "model_id": "a0e1983122e6471789fe385bed3ee8e2",
       "version_major": 2,
       "version_minor": 0
      },
      "text/plain": [
       "0it [00:00, ?it/s]"
      ]
     },
     "metadata": {},
     "output_type": "display_data"
    },
    {
     "name": "stderr",
     "output_type": "stream",
     "text": [
      "Implement final epoch properly\n"
     ]
    },
    {
     "name": "stdout",
     "output_type": "stream",
     "text": [
      "Improved metric to 0.730240, resetting counter.\n"
     ]
    },
    {
     "data": {
      "application/vnd.jupyter.widget-view+json": {
       "model_id": "1e3c102932c54108af97b072360370dd",
       "version_major": 2,
       "version_minor": 0
      },
      "text/plain": [
       "0it [00:00, ?it/s]"
      ]
     },
     "metadata": {},
     "output_type": "display_data"
    },
    {
     "name": "stderr",
     "output_type": "stream",
     "text": [
      "Implement final epoch properly\n"
     ]
    },
    {
     "name": "stdout",
     "output_type": "stream",
     "text": [
      "Improved metric to 0.717228, resetting counter.\n"
     ]
    },
    {
     "data": {
      "application/vnd.jupyter.widget-view+json": {
       "model_id": "ad91d5c06aa143ffba88d5fc92ffe190",
       "version_major": 2,
       "version_minor": 0
      },
      "text/plain": [
       "0it [00:00, ?it/s]"
      ]
     },
     "metadata": {},
     "output_type": "display_data"
    },
    {
     "name": "stderr",
     "output_type": "stream",
     "text": [
      "Implement final epoch properly\n"
     ]
    },
    {
     "name": "stdout",
     "output_type": "stream",
     "text": [
      "Improved metric to 0.704728, resetting counter.\n"
     ]
    },
    {
     "data": {
      "application/vnd.jupyter.widget-view+json": {
       "model_id": "fbae162f10a24c4ba0259383be337042",
       "version_major": 2,
       "version_minor": 0
      },
      "text/plain": [
       "0it [00:00, ?it/s]"
      ]
     },
     "metadata": {},
     "output_type": "display_data"
    },
    {
     "name": "stderr",
     "output_type": "stream",
     "text": [
      "Implement final epoch properly\n"
     ]
    },
    {
     "name": "stdout",
     "output_type": "stream",
     "text": [
      "Improved metric to 0.692785, resetting counter.\n"
     ]
    },
    {
     "data": {
      "application/vnd.jupyter.widget-view+json": {
       "model_id": "cb223849186d4a95936a8858f61e6f08",
       "version_major": 2,
       "version_minor": 0
      },
      "text/plain": [
       "0it [00:00, ?it/s]"
      ]
     },
     "metadata": {},
     "output_type": "display_data"
    },
    {
     "name": "stderr",
     "output_type": "stream",
     "text": [
      "Implement final epoch properly\n"
     ]
    },
    {
     "name": "stdout",
     "output_type": "stream",
     "text": [
      "Improved metric to 0.680274, resetting counter.\n"
     ]
    },
    {
     "data": {
      "application/vnd.jupyter.widget-view+json": {
       "model_id": "af525e51a5c940f98724dc372b105c16",
       "version_major": 2,
       "version_minor": 0
      },
      "text/plain": [
       "0it [00:00, ?it/s]"
      ]
     },
     "metadata": {},
     "output_type": "display_data"
    },
    {
     "name": "stderr",
     "output_type": "stream",
     "text": [
      "Implement final epoch properly\n"
     ]
    },
    {
     "name": "stdout",
     "output_type": "stream",
     "text": [
      "Improved metric to 0.669444, resetting counter.\n"
     ]
    },
    {
     "data": {
      "application/vnd.jupyter.widget-view+json": {
       "model_id": "1ec459946df94589a6e21b79b65eb223",
       "version_major": 2,
       "version_minor": 0
      },
      "text/plain": [
       "0it [00:00, ?it/s]"
      ]
     },
     "metadata": {},
     "output_type": "display_data"
    },
    {
     "name": "stderr",
     "output_type": "stream",
     "text": [
      "Implement final epoch properly\n"
     ]
    },
    {
     "name": "stdout",
     "output_type": "stream",
     "text": [
      "Improved metric to 0.655465, resetting counter.\n"
     ]
    },
    {
     "data": {
      "application/vnd.jupyter.widget-view+json": {
       "model_id": "d770d0d522174525b934b57f7b58f786",
       "version_major": 2,
       "version_minor": 0
      },
      "text/plain": [
       "0it [00:00, ?it/s]"
      ]
     },
     "metadata": {},
     "output_type": "display_data"
    },
    {
     "name": "stderr",
     "output_type": "stream",
     "text": [
      "Implement final epoch properly\n"
     ]
    },
    {
     "name": "stdout",
     "output_type": "stream",
     "text": [
      "Improved metric to 0.644202, resetting counter.\n"
     ]
    },
    {
     "data": {
      "application/vnd.jupyter.widget-view+json": {
       "model_id": "1c715c181ffd4906a3adaf66ca74369b",
       "version_major": 2,
       "version_minor": 0
      },
      "text/plain": [
       "0it [00:00, ?it/s]"
      ]
     },
     "metadata": {},
     "output_type": "display_data"
    },
    {
     "name": "stderr",
     "output_type": "stream",
     "text": [
      "Implement final epoch properly\n"
     ]
    },
    {
     "name": "stdout",
     "output_type": "stream",
     "text": [
      "Improved metric to 0.632372, resetting counter.\n"
     ]
    },
    {
     "data": {
      "application/vnd.jupyter.widget-view+json": {
       "model_id": "a9aa4d8ac04645dd955ed2372f61b614",
       "version_major": 2,
       "version_minor": 0
      },
      "text/plain": [
       "0it [00:00, ?it/s]"
      ]
     },
     "metadata": {},
     "output_type": "display_data"
    },
    {
     "name": "stderr",
     "output_type": "stream",
     "text": [
      "Implement final epoch properly\n"
     ]
    },
    {
     "name": "stdout",
     "output_type": "stream",
     "text": [
      "Improved metric to 0.619665, resetting counter.\n"
     ]
    },
    {
     "data": {
      "application/vnd.jupyter.widget-view+json": {
       "model_id": "d117f253c2b948649740d42f1a492b6a",
       "version_major": 2,
       "version_minor": 0
      },
      "text/plain": [
       "0it [00:00, ?it/s]"
      ]
     },
     "metadata": {},
     "output_type": "display_data"
    },
    {
     "name": "stderr",
     "output_type": "stream",
     "text": [
      "Implement final epoch properly\n"
     ]
    },
    {
     "name": "stdout",
     "output_type": "stream",
     "text": [
      "Improved metric to 0.607258, resetting counter.\n"
     ]
    },
    {
     "data": {
      "application/vnd.jupyter.widget-view+json": {
       "model_id": "0524c8a90b6d4dd5a0148d86adab4276",
       "version_major": 2,
       "version_minor": 0
      },
      "text/plain": [
       "0it [00:00, ?it/s]"
      ]
     },
     "metadata": {},
     "output_type": "display_data"
    },
    {
     "name": "stderr",
     "output_type": "stream",
     "text": [
      "Implement final epoch properly\n"
     ]
    },
    {
     "name": "stdout",
     "output_type": "stream",
     "text": [
      "Improved metric to 0.594496, resetting counter.\n"
     ]
    },
    {
     "data": {
      "application/vnd.jupyter.widget-view+json": {
       "model_id": "454ef46a1ac94776bc0722c9dd5e42d4",
       "version_major": 2,
       "version_minor": 0
      },
      "text/plain": [
       "0it [00:00, ?it/s]"
      ]
     },
     "metadata": {},
     "output_type": "display_data"
    },
    {
     "name": "stderr",
     "output_type": "stream",
     "text": [
      "Implement final epoch properly\n"
     ]
    },
    {
     "name": "stdout",
     "output_type": "stream",
     "text": [
      "Improved metric to 0.582371, resetting counter.\n"
     ]
    },
    {
     "data": {
      "application/vnd.jupyter.widget-view+json": {
       "model_id": "8e86f4a12b5d45c69320b195d4060ab5",
       "version_major": 2,
       "version_minor": 0
      },
      "text/plain": [
       "0it [00:00, ?it/s]"
      ]
     },
     "metadata": {},
     "output_type": "display_data"
    },
    {
     "name": "stderr",
     "output_type": "stream",
     "text": [
      "Implement final epoch properly\n"
     ]
    },
    {
     "name": "stdout",
     "output_type": "stream",
     "text": [
      "Improved metric to 0.572620, resetting counter.\n"
     ]
    },
    {
     "data": {
      "application/vnd.jupyter.widget-view+json": {
       "model_id": "6ebfe4c51c3b415e8ab9bd95c263300b",
       "version_major": 2,
       "version_minor": 0
      },
      "text/plain": [
       "0it [00:00, ?it/s]"
      ]
     },
     "metadata": {},
     "output_type": "display_data"
    },
    {
     "name": "stderr",
     "output_type": "stream",
     "text": [
      "Implement final epoch properly\n"
     ]
    },
    {
     "name": "stdout",
     "output_type": "stream",
     "text": [
      "Improved metric to 0.561332, resetting counter.\n"
     ]
    },
    {
     "data": {
      "application/vnd.jupyter.widget-view+json": {
       "model_id": "2bd2fb0425a3484fb42e241a8ccd4c38",
       "version_major": 2,
       "version_minor": 0
      },
      "text/plain": [
       "0it [00:00, ?it/s]"
      ]
     },
     "metadata": {},
     "output_type": "display_data"
    },
    {
     "name": "stderr",
     "output_type": "stream",
     "text": [
      "Implement final epoch properly\n"
     ]
    },
    {
     "name": "stdout",
     "output_type": "stream",
     "text": [
      "Improved metric to 0.552306, resetting counter.\n"
     ]
    },
    {
     "data": {
      "application/vnd.jupyter.widget-view+json": {
       "model_id": "4dcb67378506460aa2d8d191dc2e80f6",
       "version_major": 2,
       "version_minor": 0
      },
      "text/plain": [
       "0it [00:00, ?it/s]"
      ]
     },
     "metadata": {},
     "output_type": "display_data"
    },
    {
     "name": "stderr",
     "output_type": "stream",
     "text": [
      "Implement final epoch properly\n"
     ]
    },
    {
     "name": "stdout",
     "output_type": "stream",
     "text": [
      "Improved metric to 0.542333, resetting counter.\n"
     ]
    },
    {
     "data": {
      "application/vnd.jupyter.widget-view+json": {
       "model_id": "bf159a009dcd438eaf5de00a227c49c7",
       "version_major": 2,
       "version_minor": 0
      },
      "text/plain": [
       "0it [00:00, ?it/s]"
      ]
     },
     "metadata": {},
     "output_type": "display_data"
    },
    {
     "name": "stderr",
     "output_type": "stream",
     "text": [
      "Implement final epoch properly\n"
     ]
    },
    {
     "name": "stdout",
     "output_type": "stream",
     "text": [
      "Improved metric to 0.534480, resetting counter.\n"
     ]
    },
    {
     "data": {
      "application/vnd.jupyter.widget-view+json": {
       "model_id": "adae35c654b04abda812a7b43c611d33",
       "version_major": 2,
       "version_minor": 0
      },
      "text/plain": [
       "0it [00:00, ?it/s]"
      ]
     },
     "metadata": {},
     "output_type": "display_data"
    },
    {
     "name": "stderr",
     "output_type": "stream",
     "text": [
      "Implement final epoch properly\n"
     ]
    },
    {
     "name": "stdout",
     "output_type": "stream",
     "text": [
      "Improved metric to 0.526663, resetting counter.\n"
     ]
    },
    {
     "data": {
      "application/vnd.jupyter.widget-view+json": {
       "model_id": "91532ef5ff5743509dbd267bd1a2255a",
       "version_major": 2,
       "version_minor": 0
      },
      "text/plain": [
       "0it [00:00, ?it/s]"
      ]
     },
     "metadata": {},
     "output_type": "display_data"
    },
    {
     "name": "stderr",
     "output_type": "stream",
     "text": [
      "Implement final epoch properly\n"
     ]
    },
    {
     "name": "stdout",
     "output_type": "stream",
     "text": [
      "Improved metric to 0.519987, resetting counter.\n"
     ]
    },
    {
     "data": {
      "application/vnd.jupyter.widget-view+json": {
       "model_id": "694d935bc28c4f84a72ca88f80672510",
       "version_major": 2,
       "version_minor": 0
      },
      "text/plain": [
       "0it [00:00, ?it/s]"
      ]
     },
     "metadata": {},
     "output_type": "display_data"
    },
    {
     "name": "stderr",
     "output_type": "stream",
     "text": [
      "Implement final epoch properly\n"
     ]
    },
    {
     "name": "stdout",
     "output_type": "stream",
     "text": [
      "Improved metric to 0.513757, resetting counter.\n"
     ]
    },
    {
     "data": {
      "application/vnd.jupyter.widget-view+json": {
       "model_id": "05fc7d99fae341c8bdac90f9ffb8172d",
       "version_major": 2,
       "version_minor": 0
      },
      "text/plain": [
       "0it [00:00, ?it/s]"
      ]
     },
     "metadata": {},
     "output_type": "display_data"
    },
    {
     "name": "stderr",
     "output_type": "stream",
     "text": [
      "Implement final epoch properly\n"
     ]
    },
    {
     "name": "stdout",
     "output_type": "stream",
     "text": [
      "Improved metric to 0.507313, resetting counter.\n"
     ]
    },
    {
     "data": {
      "application/vnd.jupyter.widget-view+json": {
       "model_id": "3937de7a239b4ea8b5d8c73c953e8def",
       "version_major": 2,
       "version_minor": 0
      },
      "text/plain": [
       "0it [00:00, ?it/s]"
      ]
     },
     "metadata": {},
     "output_type": "display_data"
    },
    {
     "name": "stderr",
     "output_type": "stream",
     "text": [
      "Implement final epoch properly\n"
     ]
    },
    {
     "name": "stdout",
     "output_type": "stream",
     "text": [
      "Improved metric to 0.502272, resetting counter.\n"
     ]
    },
    {
     "data": {
      "application/vnd.jupyter.widget-view+json": {
       "model_id": "0aaa09f1074d41afb8210a1b6cbacb34",
       "version_major": 2,
       "version_minor": 0
      },
      "text/plain": [
       "0it [00:00, ?it/s]"
      ]
     },
     "metadata": {},
     "output_type": "display_data"
    },
    {
     "name": "stderr",
     "output_type": "stream",
     "text": [
      "Implement final epoch properly\n"
     ]
    },
    {
     "name": "stdout",
     "output_type": "stream",
     "text": [
      "Improved metric to 0.496877, resetting counter.\n"
     ]
    },
    {
     "data": {
      "application/vnd.jupyter.widget-view+json": {
       "model_id": "d2d8dae2f354452ca6468775f206e937",
       "version_major": 2,
       "version_minor": 0
      },
      "text/plain": [
       "0it [00:00, ?it/s]"
      ]
     },
     "metadata": {},
     "output_type": "display_data"
    },
    {
     "name": "stderr",
     "output_type": "stream",
     "text": [
      "Implement final epoch properly\n"
     ]
    },
    {
     "name": "stdout",
     "output_type": "stream",
     "text": [
      "Improved metric to 0.492737, resetting counter.\n"
     ]
    },
    {
     "data": {
      "application/vnd.jupyter.widget-view+json": {
       "model_id": "785855730341407399a250b0789a571c",
       "version_major": 2,
       "version_minor": 0
      },
      "text/plain": [
       "0it [00:00, ?it/s]"
      ]
     },
     "metadata": {},
     "output_type": "display_data"
    },
    {
     "name": "stderr",
     "output_type": "stream",
     "text": [
      "Implement final epoch properly\n"
     ]
    },
    {
     "name": "stdout",
     "output_type": "stream",
     "text": [
      "Improved metric to 0.486834, resetting counter.\n"
     ]
    },
    {
     "data": {
      "application/vnd.jupyter.widget-view+json": {
       "model_id": "de5ee7e46d3e4d0ba2dc0d6d6d0d00ff",
       "version_major": 2,
       "version_minor": 0
      },
      "text/plain": [
       "0it [00:00, ?it/s]"
      ]
     },
     "metadata": {},
     "output_type": "display_data"
    },
    {
     "name": "stderr",
     "output_type": "stream",
     "text": [
      "Implement final epoch properly\n"
     ]
    },
    {
     "name": "stdout",
     "output_type": "stream",
     "text": [
      "Improved metric to 0.482849, resetting counter.\n"
     ]
    },
    {
     "data": {
      "application/vnd.jupyter.widget-view+json": {
       "model_id": "2331fd00386c401ab9939f16f5df0973",
       "version_major": 2,
       "version_minor": 0
      },
      "text/plain": [
       "0it [00:00, ?it/s]"
      ]
     },
     "metadata": {},
     "output_type": "display_data"
    },
    {
     "name": "stderr",
     "output_type": "stream",
     "text": [
      "Implement final epoch properly\n"
     ]
    },
    {
     "name": "stdout",
     "output_type": "stream",
     "text": [
      "Improved metric to 0.480381, resetting counter.\n"
     ]
    },
    {
     "data": {
      "application/vnd.jupyter.widget-view+json": {
       "model_id": "06584679c9af42e9ba2c9b2725e7c8b1",
       "version_major": 2,
       "version_minor": 0
      },
      "text/plain": [
       "0it [00:00, ?it/s]"
      ]
     },
     "metadata": {},
     "output_type": "display_data"
    },
    {
     "name": "stderr",
     "output_type": "stream",
     "text": [
      "Implement final epoch properly\n"
     ]
    },
    {
     "name": "stdout",
     "output_type": "stream",
     "text": [
      "Improved metric to 0.475041, resetting counter.\n"
     ]
    },
    {
     "data": {
      "application/vnd.jupyter.widget-view+json": {
       "model_id": "79f81d74bd9847508e30485a7adfddcf",
       "version_major": 2,
       "version_minor": 0
      },
      "text/plain": [
       "0it [00:00, ?it/s]"
      ]
     },
     "metadata": {},
     "output_type": "display_data"
    },
    {
     "name": "stderr",
     "output_type": "stream",
     "text": [
      "Implement final epoch properly\n"
     ]
    },
    {
     "name": "stdout",
     "output_type": "stream",
     "text": [
      "Improved metric to 0.470412, resetting counter.\n"
     ]
    },
    {
     "data": {
      "application/vnd.jupyter.widget-view+json": {
       "model_id": "8c830b28080e4d90b3567edded8f6ae0",
       "version_major": 2,
       "version_minor": 0
      },
      "text/plain": [
       "0it [00:00, ?it/s]"
      ]
     },
     "metadata": {},
     "output_type": "display_data"
    },
    {
     "name": "stderr",
     "output_type": "stream",
     "text": [
      "Implement final epoch properly\n"
     ]
    },
    {
     "name": "stdout",
     "output_type": "stream",
     "text": [
      "Improved metric to 0.466182, resetting counter.\n"
     ]
    },
    {
     "data": {
      "application/vnd.jupyter.widget-view+json": {
       "model_id": "e087f2ce1c1b44e9b9cc859c7b4557d6",
       "version_major": 2,
       "version_minor": 0
      },
      "text/plain": [
       "0it [00:00, ?it/s]"
      ]
     },
     "metadata": {},
     "output_type": "display_data"
    },
    {
     "name": "stderr",
     "output_type": "stream",
     "text": [
      "Implement final epoch properly\n"
     ]
    },
    {
     "name": "stdout",
     "output_type": "stream",
     "text": [
      "Improved metric to 0.462851, resetting counter.\n"
     ]
    },
    {
     "data": {
      "application/vnd.jupyter.widget-view+json": {
       "model_id": "a7c9901bf6b14cc8988108d8e25282c9",
       "version_major": 2,
       "version_minor": 0
      },
      "text/plain": [
       "0it [00:00, ?it/s]"
      ]
     },
     "metadata": {},
     "output_type": "display_data"
    },
    {
     "name": "stderr",
     "output_type": "stream",
     "text": [
      "Implement final epoch properly\n"
     ]
    },
    {
     "name": "stdout",
     "output_type": "stream",
     "text": [
      "Improved metric to 0.459044, resetting counter.\n"
     ]
    },
    {
     "data": {
      "application/vnd.jupyter.widget-view+json": {
       "model_id": "00b2fadb5d304e458cd990fa191ae749",
       "version_major": 2,
       "version_minor": 0
      },
      "text/plain": [
       "0it [00:00, ?it/s]"
      ]
     },
     "metadata": {},
     "output_type": "display_data"
    },
    {
     "name": "stderr",
     "output_type": "stream",
     "text": [
      "Implement final epoch properly\n"
     ]
    },
    {
     "name": "stdout",
     "output_type": "stream",
     "text": [
      "Improved metric to 0.455787, resetting counter.\n"
     ]
    },
    {
     "data": {
      "application/vnd.jupyter.widget-view+json": {
       "model_id": "e1bde2969c1944dc80afe2fe1e264947",
       "version_major": 2,
       "version_minor": 0
      },
      "text/plain": [
       "0it [00:00, ?it/s]"
      ]
     },
     "metadata": {},
     "output_type": "display_data"
    },
    {
     "name": "stderr",
     "output_type": "stream",
     "text": [
      "Implement final epoch properly\n"
     ]
    },
    {
     "name": "stdout",
     "output_type": "stream",
     "text": [
      "Improved metric to 0.452225, resetting counter.\n"
     ]
    },
    {
     "data": {
      "application/vnd.jupyter.widget-view+json": {
       "model_id": "ebdc45ee8a6f4d2383f9f766d8baf486",
       "version_major": 2,
       "version_minor": 0
      },
      "text/plain": [
       "0it [00:00, ?it/s]"
      ]
     },
     "metadata": {},
     "output_type": "display_data"
    },
    {
     "name": "stderr",
     "output_type": "stream",
     "text": [
      "Implement final epoch properly\n"
     ]
    },
    {
     "name": "stdout",
     "output_type": "stream",
     "text": [
      "Improved metric to 0.449011, resetting counter.\n"
     ]
    },
    {
     "data": {
      "application/vnd.jupyter.widget-view+json": {
       "model_id": "ad69db6f3ef64d4c9ac9a7700f90fa72",
       "version_major": 2,
       "version_minor": 0
      },
      "text/plain": [
       "0it [00:00, ?it/s]"
      ]
     },
     "metadata": {},
     "output_type": "display_data"
    },
    {
     "name": "stderr",
     "output_type": "stream",
     "text": [
      "Implement final epoch properly\n"
     ]
    },
    {
     "name": "stdout",
     "output_type": "stream",
     "text": [
      "Improved metric to 0.445529, resetting counter.\n"
     ]
    },
    {
     "data": {
      "application/vnd.jupyter.widget-view+json": {
       "model_id": "b21606e4155d4fd5aac2beab0b59bd13",
       "version_major": 2,
       "version_minor": 0
      },
      "text/plain": [
       "0it [00:00, ?it/s]"
      ]
     },
     "metadata": {},
     "output_type": "display_data"
    },
    {
     "name": "stderr",
     "output_type": "stream",
     "text": [
      "Implement final epoch properly\n"
     ]
    },
    {
     "name": "stdout",
     "output_type": "stream",
     "text": [
      "Improved metric to 0.441216, resetting counter.\n"
     ]
    },
    {
     "data": {
      "application/vnd.jupyter.widget-view+json": {
       "model_id": "4e928b05a7ca425cbf8b4aa14578275c",
       "version_major": 2,
       "version_minor": 0
      },
      "text/plain": [
       "0it [00:00, ?it/s]"
      ]
     },
     "metadata": {},
     "output_type": "display_data"
    },
    {
     "name": "stderr",
     "output_type": "stream",
     "text": [
      "Implement final epoch properly\n"
     ]
    },
    {
     "name": "stdout",
     "output_type": "stream",
     "text": [
      "Improved metric to 0.438109, resetting counter.\n"
     ]
    },
    {
     "data": {
      "application/vnd.jupyter.widget-view+json": {
       "model_id": "93747b13059b49b68b5fe6f1c4f92c4c",
       "version_major": 2,
       "version_minor": 0
      },
      "text/plain": [
       "0it [00:00, ?it/s]"
      ]
     },
     "metadata": {},
     "output_type": "display_data"
    },
    {
     "name": "stderr",
     "output_type": "stream",
     "text": [
      "Implement final epoch properly\n"
     ]
    },
    {
     "name": "stdout",
     "output_type": "stream",
     "text": [
      "Improved metric to 0.435013, resetting counter.\n"
     ]
    },
    {
     "data": {
      "application/vnd.jupyter.widget-view+json": {
       "model_id": "6781a5f8941c411db380cead7bff2962",
       "version_major": 2,
       "version_minor": 0
      },
      "text/plain": [
       "0it [00:00, ?it/s]"
      ]
     },
     "metadata": {},
     "output_type": "display_data"
    },
    {
     "name": "stderr",
     "output_type": "stream",
     "text": [
      "Implement final epoch properly\n"
     ]
    },
    {
     "name": "stdout",
     "output_type": "stream",
     "text": [
      "Improved metric to 0.430496, resetting counter.\n"
     ]
    },
    {
     "data": {
      "application/vnd.jupyter.widget-view+json": {
       "model_id": "c0e55ce7671f4126b2103745e652e3fb",
       "version_major": 2,
       "version_minor": 0
      },
      "text/plain": [
       "0it [00:00, ?it/s]"
      ]
     },
     "metadata": {},
     "output_type": "display_data"
    },
    {
     "name": "stderr",
     "output_type": "stream",
     "text": [
      "Implement final epoch properly\n"
     ]
    },
    {
     "name": "stdout",
     "output_type": "stream",
     "text": [
      "Improved metric to 0.427523, resetting counter.\n"
     ]
    },
    {
     "data": {
      "application/vnd.jupyter.widget-view+json": {
       "model_id": "6397c042ba634fc1be71e635f886415f",
       "version_major": 2,
       "version_minor": 0
      },
      "text/plain": [
       "0it [00:00, ?it/s]"
      ]
     },
     "metadata": {},
     "output_type": "display_data"
    },
    {
     "name": "stderr",
     "output_type": "stream",
     "text": [
      "Implement final epoch properly\n"
     ]
    },
    {
     "name": "stdout",
     "output_type": "stream",
     "text": [
      "Improved metric to 0.423302, resetting counter.\n"
     ]
    },
    {
     "data": {
      "application/vnd.jupyter.widget-view+json": {
       "model_id": "492999fc9f75499295826dd2d89c10fa",
       "version_major": 2,
       "version_minor": 0
      },
      "text/plain": [
       "0it [00:00, ?it/s]"
      ]
     },
     "metadata": {},
     "output_type": "display_data"
    },
    {
     "name": "stderr",
     "output_type": "stream",
     "text": [
      "Implement final epoch properly\n"
     ]
    },
    {
     "name": "stdout",
     "output_type": "stream",
     "text": [
      "Improved metric to 0.419328, resetting counter.\n"
     ]
    },
    {
     "data": {
      "application/vnd.jupyter.widget-view+json": {
       "model_id": "844c603324fc47a29931384d5b761c8e",
       "version_major": 2,
       "version_minor": 0
      },
      "text/plain": [
       "0it [00:00, ?it/s]"
      ]
     },
     "metadata": {},
     "output_type": "display_data"
    },
    {
     "name": "stderr",
     "output_type": "stream",
     "text": [
      "Implement final epoch properly\n"
     ]
    },
    {
     "name": "stdout",
     "output_type": "stream",
     "text": [
      "Improved metric to 0.415961, resetting counter.\n"
     ]
    },
    {
     "data": {
      "application/vnd.jupyter.widget-view+json": {
       "model_id": "66429162b97348ee9f697546968f28f5",
       "version_major": 2,
       "version_minor": 0
      },
      "text/plain": [
       "0it [00:00, ?it/s]"
      ]
     },
     "metadata": {},
     "output_type": "display_data"
    },
    {
     "name": "stderr",
     "output_type": "stream",
     "text": [
      "Implement final epoch properly\n"
     ]
    },
    {
     "name": "stdout",
     "output_type": "stream",
     "text": [
      "Improved metric to 0.411245, resetting counter.\n"
     ]
    },
    {
     "data": {
      "application/vnd.jupyter.widget-view+json": {
       "model_id": "ac042513e9724becbcda9b4ad386c3a7",
       "version_major": 2,
       "version_minor": 0
      },
      "text/plain": [
       "0it [00:00, ?it/s]"
      ]
     },
     "metadata": {},
     "output_type": "display_data"
    },
    {
     "name": "stderr",
     "output_type": "stream",
     "text": [
      "Implement final epoch properly\n"
     ]
    },
    {
     "name": "stdout",
     "output_type": "stream",
     "text": [
      "Improved metric to 0.408788, resetting counter.\n"
     ]
    },
    {
     "data": {
      "application/vnd.jupyter.widget-view+json": {
       "model_id": "74e08a50fc8a471ab03e8322a596c72e",
       "version_major": 2,
       "version_minor": 0
      },
      "text/plain": [
       "0it [00:00, ?it/s]"
      ]
     },
     "metadata": {},
     "output_type": "display_data"
    },
    {
     "name": "stderr",
     "output_type": "stream",
     "text": [
      "Implement final epoch properly\n"
     ]
    },
    {
     "name": "stdout",
     "output_type": "stream",
     "text": [
      "Improved metric to 0.404209, resetting counter.\n"
     ]
    },
    {
     "data": {
      "application/vnd.jupyter.widget-view+json": {
       "model_id": "57c6282b1fcc4b92bbecdddc69481718",
       "version_major": 2,
       "version_minor": 0
      },
      "text/plain": [
       "0it [00:00, ?it/s]"
      ]
     },
     "metadata": {},
     "output_type": "display_data"
    },
    {
     "name": "stderr",
     "output_type": "stream",
     "text": [
      "Implement final epoch properly\n"
     ]
    },
    {
     "name": "stdout",
     "output_type": "stream",
     "text": [
      "Improved metric to 0.400759, resetting counter.\n"
     ]
    },
    {
     "data": {
      "application/vnd.jupyter.widget-view+json": {
       "model_id": "aee376650e3f4acb822603bb39b27265",
       "version_major": 2,
       "version_minor": 0
      },
      "text/plain": [
       "0it [00:00, ?it/s]"
      ]
     },
     "metadata": {},
     "output_type": "display_data"
    },
    {
     "name": "stderr",
     "output_type": "stream",
     "text": [
      "Implement final epoch properly\n"
     ]
    },
    {
     "name": "stdout",
     "output_type": "stream",
     "text": [
      "Improved metric to 0.396366, resetting counter.\n"
     ]
    },
    {
     "data": {
      "application/vnd.jupyter.widget-view+json": {
       "model_id": "17bbd46553854481abcae401331a1d63",
       "version_major": 2,
       "version_minor": 0
      },
      "text/plain": [
       "0it [00:00, ?it/s]"
      ]
     },
     "metadata": {},
     "output_type": "display_data"
    },
    {
     "name": "stderr",
     "output_type": "stream",
     "text": [
      "Implement final epoch properly\n"
     ]
    },
    {
     "name": "stdout",
     "output_type": "stream",
     "text": [
      "Improved metric to 0.392887, resetting counter.\n"
     ]
    },
    {
     "data": {
      "application/vnd.jupyter.widget-view+json": {
       "model_id": "85d2c942a8c64d85ba4976c8e9e585ec",
       "version_major": 2,
       "version_minor": 0
      },
      "text/plain": [
       "0it [00:00, ?it/s]"
      ]
     },
     "metadata": {},
     "output_type": "display_data"
    },
    {
     "name": "stderr",
     "output_type": "stream",
     "text": [
      "Implement final epoch properly\n"
     ]
    },
    {
     "name": "stdout",
     "output_type": "stream",
     "text": [
      "Improved metric to 0.389939, resetting counter.\n"
     ]
    },
    {
     "data": {
      "application/vnd.jupyter.widget-view+json": {
       "model_id": "10782ae5db6e435486154c2632015895",
       "version_major": 2,
       "version_minor": 0
      },
      "text/plain": [
       "0it [00:00, ?it/s]"
      ]
     },
     "metadata": {},
     "output_type": "display_data"
    },
    {
     "name": "stderr",
     "output_type": "stream",
     "text": [
      "Implement final epoch properly\n"
     ]
    },
    {
     "name": "stdout",
     "output_type": "stream",
     "text": [
      "Improved metric to 0.386811, resetting counter.\n"
     ]
    },
    {
     "data": {
      "application/vnd.jupyter.widget-view+json": {
       "model_id": "c54f326de4c54dcd894c848c3c2331c8",
       "version_major": 2,
       "version_minor": 0
      },
      "text/plain": [
       "0it [00:00, ?it/s]"
      ]
     },
     "metadata": {},
     "output_type": "display_data"
    },
    {
     "name": "stderr",
     "output_type": "stream",
     "text": [
      "Implement final epoch properly\n"
     ]
    },
    {
     "name": "stdout",
     "output_type": "stream",
     "text": [
      "Improved metric to 0.383286, resetting counter.\n"
     ]
    },
    {
     "data": {
      "application/vnd.jupyter.widget-view+json": {
       "model_id": "78729bd51546472981795f71eb47512a",
       "version_major": 2,
       "version_minor": 0
      },
      "text/plain": [
       "0it [00:00, ?it/s]"
      ]
     },
     "metadata": {},
     "output_type": "display_data"
    },
    {
     "name": "stderr",
     "output_type": "stream",
     "text": [
      "Implement final epoch properly\n"
     ]
    },
    {
     "name": "stdout",
     "output_type": "stream",
     "text": [
      "Improved metric to 0.380586, resetting counter.\n"
     ]
    },
    {
     "data": {
      "application/vnd.jupyter.widget-view+json": {
       "model_id": "5ee988945e9b4974a747caad6fc4912e",
       "version_major": 2,
       "version_minor": 0
      },
      "text/plain": [
       "0it [00:00, ?it/s]"
      ]
     },
     "metadata": {},
     "output_type": "display_data"
    },
    {
     "name": "stderr",
     "output_type": "stream",
     "text": [
      "Implement final epoch properly\n"
     ]
    },
    {
     "name": "stdout",
     "output_type": "stream",
     "text": [
      "Improved metric to 0.376957, resetting counter.\n"
     ]
    },
    {
     "data": {
      "application/vnd.jupyter.widget-view+json": {
       "model_id": "d750acf2668c42bbbf117ac2943ca74e",
       "version_major": 2,
       "version_minor": 0
      },
      "text/plain": [
       "0it [00:00, ?it/s]"
      ]
     },
     "metadata": {},
     "output_type": "display_data"
    },
    {
     "name": "stderr",
     "output_type": "stream",
     "text": [
      "Implement final epoch properly\n"
     ]
    },
    {
     "name": "stdout",
     "output_type": "stream",
     "text": [
      "Improved metric to 0.374034, resetting counter.\n"
     ]
    },
    {
     "data": {
      "application/vnd.jupyter.widget-view+json": {
       "model_id": "22ef234a9cb241fda0913c22ecba85a4",
       "version_major": 2,
       "version_minor": 0
      },
      "text/plain": [
       "0it [00:00, ?it/s]"
      ]
     },
     "metadata": {},
     "output_type": "display_data"
    },
    {
     "name": "stderr",
     "output_type": "stream",
     "text": [
      "Implement final epoch properly\n"
     ]
    },
    {
     "name": "stdout",
     "output_type": "stream",
     "text": [
      "Improved metric to 0.370953, resetting counter.\n"
     ]
    },
    {
     "data": {
      "application/vnd.jupyter.widget-view+json": {
       "model_id": "f06787582e9b4376809e909430a6282b",
       "version_major": 2,
       "version_minor": 0
      },
      "text/plain": [
       "0it [00:00, ?it/s]"
      ]
     },
     "metadata": {},
     "output_type": "display_data"
    },
    {
     "name": "stderr",
     "output_type": "stream",
     "text": [
      "Implement final epoch properly\n"
     ]
    },
    {
     "name": "stdout",
     "output_type": "stream",
     "text": [
      "Improved metric to 0.368178, resetting counter.\n"
     ]
    },
    {
     "data": {
      "application/vnd.jupyter.widget-view+json": {
       "model_id": "ff687bfdc84248ec834ff90b96420e4a",
       "version_major": 2,
       "version_minor": 0
      },
      "text/plain": [
       "0it [00:00, ?it/s]"
      ]
     },
     "metadata": {},
     "output_type": "display_data"
    },
    {
     "name": "stderr",
     "output_type": "stream",
     "text": [
      "Implement final epoch properly\n"
     ]
    },
    {
     "name": "stdout",
     "output_type": "stream",
     "text": [
      "Improved metric to 0.365497, resetting counter.\n"
     ]
    },
    {
     "data": {
      "application/vnd.jupyter.widget-view+json": {
       "model_id": "ff5844d80ec949628f28ed466099d354",
       "version_major": 2,
       "version_minor": 0
      },
      "text/plain": [
       "0it [00:00, ?it/s]"
      ]
     },
     "metadata": {},
     "output_type": "display_data"
    },
    {
     "name": "stderr",
     "output_type": "stream",
     "text": [
      "Implement final epoch properly\n"
     ]
    },
    {
     "name": "stdout",
     "output_type": "stream",
     "text": [
      "Improved metric to 0.363008, resetting counter.\n"
     ]
    },
    {
     "data": {
      "application/vnd.jupyter.widget-view+json": {
       "model_id": "3e96cd3617e44fe0805801d2943a68ea",
       "version_major": 2,
       "version_minor": 0
      },
      "text/plain": [
       "0it [00:00, ?it/s]"
      ]
     },
     "metadata": {},
     "output_type": "display_data"
    },
    {
     "name": "stderr",
     "output_type": "stream",
     "text": [
      "Implement final epoch properly\n"
     ]
    },
    {
     "name": "stdout",
     "output_type": "stream",
     "text": [
      "Improved metric to 0.360998, resetting counter.\n"
     ]
    },
    {
     "data": {
      "application/vnd.jupyter.widget-view+json": {
       "model_id": "83fdb1b8b9694608b3e2cb65f64355db",
       "version_major": 2,
       "version_minor": 0
      },
      "text/plain": [
       "0it [00:00, ?it/s]"
      ]
     },
     "metadata": {},
     "output_type": "display_data"
    },
    {
     "name": "stderr",
     "output_type": "stream",
     "text": [
      "Implement final epoch properly\n"
     ]
    },
    {
     "name": "stdout",
     "output_type": "stream",
     "text": [
      "Improved metric to 0.357905, resetting counter.\n"
     ]
    },
    {
     "data": {
      "application/vnd.jupyter.widget-view+json": {
       "model_id": "ad2cc423eab64f7188f1d67fbf20ffae",
       "version_major": 2,
       "version_minor": 0
      },
      "text/plain": [
       "0it [00:00, ?it/s]"
      ]
     },
     "metadata": {},
     "output_type": "display_data"
    },
    {
     "name": "stderr",
     "output_type": "stream",
     "text": [
      "Implement final epoch properly\n"
     ]
    },
    {
     "name": "stdout",
     "output_type": "stream",
     "text": [
      "Improved metric to 0.355421, resetting counter.\n"
     ]
    },
    {
     "data": {
      "application/vnd.jupyter.widget-view+json": {
       "model_id": "8d9046949807483c9bd7c8ac55bd6c21",
       "version_major": 2,
       "version_minor": 0
      },
      "text/plain": [
       "0it [00:00, ?it/s]"
      ]
     },
     "metadata": {},
     "output_type": "display_data"
    },
    {
     "name": "stderr",
     "output_type": "stream",
     "text": [
      "Implement final epoch properly\n"
     ]
    },
    {
     "name": "stdout",
     "output_type": "stream",
     "text": [
      "Improved metric to 0.352559, resetting counter.\n"
     ]
    },
    {
     "data": {
      "application/vnd.jupyter.widget-view+json": {
       "model_id": "0892684967a64c8eb2f229b09b92d187",
       "version_major": 2,
       "version_minor": 0
      },
      "text/plain": [
       "0it [00:00, ?it/s]"
      ]
     },
     "metadata": {},
     "output_type": "display_data"
    },
    {
     "name": "stderr",
     "output_type": "stream",
     "text": [
      "Implement final epoch properly\n"
     ]
    },
    {
     "name": "stdout",
     "output_type": "stream",
     "text": [
      "Improved metric to 0.350872, resetting counter.\n"
     ]
    },
    {
     "data": {
      "application/vnd.jupyter.widget-view+json": {
       "model_id": "e3fc203503fb4706bc9cecd8810ccfc8",
       "version_major": 2,
       "version_minor": 0
      },
      "text/plain": [
       "0it [00:00, ?it/s]"
      ]
     },
     "metadata": {},
     "output_type": "display_data"
    },
    {
     "name": "stderr",
     "output_type": "stream",
     "text": [
      "Implement final epoch properly\n"
     ]
    },
    {
     "name": "stdout",
     "output_type": "stream",
     "text": [
      "Improved metric to 0.348950, resetting counter.\n"
     ]
    },
    {
     "data": {
      "application/vnd.jupyter.widget-view+json": {
       "model_id": "3baff777756b4f26a752605becf066db",
       "version_major": 2,
       "version_minor": 0
      },
      "text/plain": [
       "0it [00:00, ?it/s]"
      ]
     },
     "metadata": {},
     "output_type": "display_data"
    },
    {
     "name": "stderr",
     "output_type": "stream",
     "text": [
      "Implement final epoch properly\n"
     ]
    },
    {
     "name": "stdout",
     "output_type": "stream",
     "text": [
      "Improved metric to 0.347165, resetting counter.\n"
     ]
    },
    {
     "data": {
      "application/vnd.jupyter.widget-view+json": {
       "model_id": "63b7fb25601b47afa1e1ee64ec7ce524",
       "version_major": 2,
       "version_minor": 0
      },
      "text/plain": [
       "0it [00:00, ?it/s]"
      ]
     },
     "metadata": {},
     "output_type": "display_data"
    },
    {
     "name": "stderr",
     "output_type": "stream",
     "text": [
      "Implement final epoch properly\n"
     ]
    },
    {
     "name": "stdout",
     "output_type": "stream",
     "text": [
      "Improved metric to 0.345248, resetting counter.\n"
     ]
    },
    {
     "data": {
      "application/vnd.jupyter.widget-view+json": {
       "model_id": "7bd35156d52c41b9a3d0e98162d28a1e",
       "version_major": 2,
       "version_minor": 0
      },
      "text/plain": [
       "0it [00:00, ?it/s]"
      ]
     },
     "metadata": {},
     "output_type": "display_data"
    },
    {
     "name": "stderr",
     "output_type": "stream",
     "text": [
      "Implement final epoch properly\n"
     ]
    },
    {
     "name": "stdout",
     "output_type": "stream",
     "text": [
      "Improved metric to 0.342863, resetting counter.\n"
     ]
    },
    {
     "data": {
      "application/vnd.jupyter.widget-view+json": {
       "model_id": "23841dda5aac4246a3f87794e02a064b",
       "version_major": 2,
       "version_minor": 0
      },
      "text/plain": [
       "0it [00:00, ?it/s]"
      ]
     },
     "metadata": {},
     "output_type": "display_data"
    },
    {
     "name": "stderr",
     "output_type": "stream",
     "text": [
      "Implement final epoch properly\n"
     ]
    },
    {
     "name": "stdout",
     "output_type": "stream",
     "text": [
      "Improved metric to 0.340060, resetting counter.\n"
     ]
    },
    {
     "data": {
      "application/vnd.jupyter.widget-view+json": {
       "model_id": "3973d20aa6434d7baf316c9ff003fea3",
       "version_major": 2,
       "version_minor": 0
      },
      "text/plain": [
       "0it [00:00, ?it/s]"
      ]
     },
     "metadata": {},
     "output_type": "display_data"
    },
    {
     "name": "stderr",
     "output_type": "stream",
     "text": [
      "Implement final epoch properly\n"
     ]
    },
    {
     "name": "stdout",
     "output_type": "stream",
     "text": [
      "Improved metric to 0.338668, resetting counter.\n"
     ]
    },
    {
     "data": {
      "application/vnd.jupyter.widget-view+json": {
       "model_id": "184242f36c204ce2b8f9fbbd03a27aeb",
       "version_major": 2,
       "version_minor": 0
      },
      "text/plain": [
       "0it [00:00, ?it/s]"
      ]
     },
     "metadata": {},
     "output_type": "display_data"
    },
    {
     "name": "stderr",
     "output_type": "stream",
     "text": [
      "Implement final epoch properly\n"
     ]
    },
    {
     "name": "stdout",
     "output_type": "stream",
     "text": [
      "Improved metric to 0.337400, resetting counter.\n"
     ]
    },
    {
     "data": {
      "application/vnd.jupyter.widget-view+json": {
       "model_id": "76c51df962a7400382cc751b64f5fe63",
       "version_major": 2,
       "version_minor": 0
      },
      "text/plain": [
       "0it [00:00, ?it/s]"
      ]
     },
     "metadata": {},
     "output_type": "display_data"
    },
    {
     "name": "stderr",
     "output_type": "stream",
     "text": [
      "Implement final epoch properly\n"
     ]
    },
    {
     "name": "stdout",
     "output_type": "stream",
     "text": [
      "Improved metric to 0.335582, resetting counter.\n"
     ]
    },
    {
     "data": {
      "application/vnd.jupyter.widget-view+json": {
       "model_id": "1eb8a9fbe7fe488992db1f27f24119f7",
       "version_major": 2,
       "version_minor": 0
      },
      "text/plain": [
       "0it [00:00, ?it/s]"
      ]
     },
     "metadata": {},
     "output_type": "display_data"
    },
    {
     "name": "stderr",
     "output_type": "stream",
     "text": [
      "Implement final epoch properly\n"
     ]
    },
    {
     "name": "stdout",
     "output_type": "stream",
     "text": [
      "Improved metric to 0.334269, resetting counter.\n"
     ]
    },
    {
     "data": {
      "application/vnd.jupyter.widget-view+json": {
       "model_id": "3a587549a6df48de9ac4110192eccaf4",
       "version_major": 2,
       "version_minor": 0
      },
      "text/plain": [
       "0it [00:00, ?it/s]"
      ]
     },
     "metadata": {},
     "output_type": "display_data"
    },
    {
     "name": "stderr",
     "output_type": "stream",
     "text": [
      "Implement final epoch properly\n"
     ]
    },
    {
     "name": "stdout",
     "output_type": "stream",
     "text": [
      "Improved metric to 0.331628, resetting counter.\n"
     ]
    },
    {
     "data": {
      "application/vnd.jupyter.widget-view+json": {
       "model_id": "dfccce6c93ca4aea962bf182543c6ab8",
       "version_major": 2,
       "version_minor": 0
      },
      "text/plain": [
       "0it [00:00, ?it/s]"
      ]
     },
     "metadata": {},
     "output_type": "display_data"
    },
    {
     "name": "stderr",
     "output_type": "stream",
     "text": [
      "Implement final epoch properly\n"
     ]
    },
    {
     "name": "stdout",
     "output_type": "stream",
     "text": [
      "Improved metric to 0.329592, resetting counter.\n"
     ]
    },
    {
     "data": {
      "application/vnd.jupyter.widget-view+json": {
       "model_id": "e16205a0e7524d0ba841d56954fa7b4b",
       "version_major": 2,
       "version_minor": 0
      },
      "text/plain": [
       "0it [00:00, ?it/s]"
      ]
     },
     "metadata": {},
     "output_type": "display_data"
    },
    {
     "name": "stderr",
     "output_type": "stream",
     "text": [
      "Implement final epoch properly\n"
     ]
    },
    {
     "name": "stdout",
     "output_type": "stream",
     "text": [
      "Improved metric to 0.328193, resetting counter.\n"
     ]
    },
    {
     "data": {
      "application/vnd.jupyter.widget-view+json": {
       "model_id": "18785fe5847349398065be8bb21e52b0",
       "version_major": 2,
       "version_minor": 0
      },
      "text/plain": [
       "0it [00:00, ?it/s]"
      ]
     },
     "metadata": {},
     "output_type": "display_data"
    },
    {
     "name": "stderr",
     "output_type": "stream",
     "text": [
      "Implement final epoch properly\n"
     ]
    },
    {
     "name": "stdout",
     "output_type": "stream",
     "text": [
      "Improved metric to 0.326209, resetting counter.\n"
     ]
    },
    {
     "data": {
      "application/vnd.jupyter.widget-view+json": {
       "model_id": "db1b928a380b4257ab60006f06decd4f",
       "version_major": 2,
       "version_minor": 0
      },
      "text/plain": [
       "0it [00:00, ?it/s]"
      ]
     },
     "metadata": {},
     "output_type": "display_data"
    },
    {
     "name": "stderr",
     "output_type": "stream",
     "text": [
      "Implement final epoch properly\n"
     ]
    },
    {
     "name": "stdout",
     "output_type": "stream",
     "text": [
      "Improved metric to 0.325084, resetting counter.\n"
     ]
    },
    {
     "data": {
      "application/vnd.jupyter.widget-view+json": {
       "model_id": "db063eb4dcaf40e0a94ab4c73ae0a011",
       "version_major": 2,
       "version_minor": 0
      },
      "text/plain": [
       "0it [00:00, ?it/s]"
      ]
     },
     "metadata": {},
     "output_type": "display_data"
    },
    {
     "name": "stderr",
     "output_type": "stream",
     "text": [
      "Implement final epoch properly\n"
     ]
    },
    {
     "name": "stdout",
     "output_type": "stream",
     "text": [
      "No improvement. Counter at 1/5\n"
     ]
    },
    {
     "data": {
      "application/vnd.jupyter.widget-view+json": {
       "model_id": "2e3a54dad38049ae97738d6ce8732b7d",
       "version_major": 2,
       "version_minor": 0
      },
      "text/plain": [
       "0it [00:00, ?it/s]"
      ]
     },
     "metadata": {},
     "output_type": "display_data"
    },
    {
     "name": "stderr",
     "output_type": "stream",
     "text": [
      "Implement final epoch properly\n"
     ]
    },
    {
     "name": "stdout",
     "output_type": "stream",
     "text": [
      "Improved metric to 0.321531, resetting counter.\n"
     ]
    },
    {
     "data": {
      "application/vnd.jupyter.widget-view+json": {
       "model_id": "fe70c1633c7d423786db8eef30642bb1",
       "version_major": 2,
       "version_minor": 0
      },
      "text/plain": [
       "0it [00:00, ?it/s]"
      ]
     },
     "metadata": {},
     "output_type": "display_data"
    },
    {
     "name": "stderr",
     "output_type": "stream",
     "text": [
      "Implement final epoch properly\n"
     ]
    },
    {
     "name": "stdout",
     "output_type": "stream",
     "text": [
      "Improved metric to 0.318973, resetting counter.\n"
     ]
    },
    {
     "data": {
      "application/vnd.jupyter.widget-view+json": {
       "model_id": "5fccf3fbd6d64742ada38aca23b3398b",
       "version_major": 2,
       "version_minor": 0
      },
      "text/plain": [
       "0it [00:00, ?it/s]"
      ]
     },
     "metadata": {},
     "output_type": "display_data"
    },
    {
     "name": "stderr",
     "output_type": "stream",
     "text": [
      "Implement final epoch properly\n"
     ]
    },
    {
     "name": "stdout",
     "output_type": "stream",
     "text": [
      "Improved metric to 0.317462, resetting counter.\n"
     ]
    },
    {
     "data": {
      "application/vnd.jupyter.widget-view+json": {
       "model_id": "d5c07988d2874ab68b5cb64ee404e5e1",
       "version_major": 2,
       "version_minor": 0
      },
      "text/plain": [
       "0it [00:00, ?it/s]"
      ]
     },
     "metadata": {},
     "output_type": "display_data"
    },
    {
     "name": "stderr",
     "output_type": "stream",
     "text": [
      "Implement final epoch properly\n"
     ]
    },
    {
     "name": "stdout",
     "output_type": "stream",
     "text": [
      "Improved metric to 0.315698, resetting counter.\n"
     ]
    },
    {
     "data": {
      "application/vnd.jupyter.widget-view+json": {
       "model_id": "7b494430348a484d8526521eee417474",
       "version_major": 2,
       "version_minor": 0
      },
      "text/plain": [
       "0it [00:00, ?it/s]"
      ]
     },
     "metadata": {},
     "output_type": "display_data"
    },
    {
     "name": "stderr",
     "output_type": "stream",
     "text": [
      "Implement final epoch properly\n"
     ]
    },
    {
     "name": "stdout",
     "output_type": "stream",
     "text": [
      "Improved metric to 0.314225, resetting counter.\n"
     ]
    },
    {
     "data": {
      "application/vnd.jupyter.widget-view+json": {
       "model_id": "57dccb99953a4dd290110562a8b0dcdb",
       "version_major": 2,
       "version_minor": 0
      },
      "text/plain": [
       "0it [00:00, ?it/s]"
      ]
     },
     "metadata": {},
     "output_type": "display_data"
    },
    {
     "name": "stderr",
     "output_type": "stream",
     "text": [
      "Implement final epoch properly\n"
     ]
    },
    {
     "name": "stdout",
     "output_type": "stream",
     "text": [
      "Improved metric to 0.311038, resetting counter.\n"
     ]
    },
    {
     "data": {
      "application/vnd.jupyter.widget-view+json": {
       "model_id": "78499667ed384e6b8b6631366bcb3621",
       "version_major": 2,
       "version_minor": 0
      },
      "text/plain": [
       "0it [00:00, ?it/s]"
      ]
     },
     "metadata": {},
     "output_type": "display_data"
    },
    {
     "name": "stderr",
     "output_type": "stream",
     "text": [
      "Implement final epoch properly\n"
     ]
    },
    {
     "name": "stdout",
     "output_type": "stream",
     "text": [
      "Improved metric to 0.309920, resetting counter.\n"
     ]
    },
    {
     "data": {
      "application/vnd.jupyter.widget-view+json": {
       "model_id": "010f505c08d248e7ae4ad5902d0ff2fe",
       "version_major": 2,
       "version_minor": 0
      },
      "text/plain": [
       "0it [00:00, ?it/s]"
      ]
     },
     "metadata": {},
     "output_type": "display_data"
    },
    {
     "name": "stderr",
     "output_type": "stream",
     "text": [
      "Implement final epoch properly\n"
     ]
    },
    {
     "name": "stdout",
     "output_type": "stream",
     "text": [
      "Improved metric to 0.308061, resetting counter.\n"
     ]
    },
    {
     "data": {
      "application/vnd.jupyter.widget-view+json": {
       "model_id": "576dfd58b01c462489fbc045a877e615",
       "version_major": 2,
       "version_minor": 0
      },
      "text/plain": [
       "0it [00:00, ?it/s]"
      ]
     },
     "metadata": {},
     "output_type": "display_data"
    },
    {
     "name": "stderr",
     "output_type": "stream",
     "text": [
      "Implement final epoch properly\n"
     ]
    },
    {
     "name": "stdout",
     "output_type": "stream",
     "text": [
      "Improved metric to 0.305602, resetting counter.\n"
     ]
    },
    {
     "data": {
      "application/vnd.jupyter.widget-view+json": {
       "model_id": "f71f6f90c917495db18b5ec74d1cb6dd",
       "version_major": 2,
       "version_minor": 0
      },
      "text/plain": [
       "0it [00:00, ?it/s]"
      ]
     },
     "metadata": {},
     "output_type": "display_data"
    },
    {
     "name": "stderr",
     "output_type": "stream",
     "text": [
      "Implement final epoch properly\n"
     ]
    },
    {
     "name": "stdout",
     "output_type": "stream",
     "text": [
      "Improved metric to 0.304276, resetting counter.\n"
     ]
    },
    {
     "data": {
      "application/vnd.jupyter.widget-view+json": {
       "model_id": "2d0370c68119426b991d2dc9048cd4f4",
       "version_major": 2,
       "version_minor": 0
      },
      "text/plain": [
       "0it [00:00, ?it/s]"
      ]
     },
     "metadata": {},
     "output_type": "display_data"
    },
    {
     "name": "stderr",
     "output_type": "stream",
     "text": [
      "Implement final epoch properly\n"
     ]
    },
    {
     "name": "stdout",
     "output_type": "stream",
     "text": [
      "Improved metric to 0.303000, resetting counter.\n"
     ]
    },
    {
     "data": {
      "application/vnd.jupyter.widget-view+json": {
       "model_id": "ff5478d8e7d842b6b1702f1676286e7c",
       "version_major": 2,
       "version_minor": 0
      },
      "text/plain": [
       "0it [00:00, ?it/s]"
      ]
     },
     "metadata": {},
     "output_type": "display_data"
    },
    {
     "name": "stderr",
     "output_type": "stream",
     "text": [
      "Implement final epoch properly\n"
     ]
    },
    {
     "name": "stdout",
     "output_type": "stream",
     "text": [
      "Improved metric to 0.301406, resetting counter.\n"
     ]
    },
    {
     "data": {
      "application/vnd.jupyter.widget-view+json": {
       "model_id": "f5790a0e1caf4804bba5063f910a0f80",
       "version_major": 2,
       "version_minor": 0
      },
      "text/plain": [
       "0it [00:00, ?it/s]"
      ]
     },
     "metadata": {},
     "output_type": "display_data"
    },
    {
     "name": "stderr",
     "output_type": "stream",
     "text": [
      "Implement final epoch properly\n"
     ]
    },
    {
     "name": "stdout",
     "output_type": "stream",
     "text": [
      "Improved metric to 0.298676, resetting counter.\n"
     ]
    },
    {
     "data": {
      "application/vnd.jupyter.widget-view+json": {
       "model_id": "68b1ab3a3f4c49afaab5a9df850d18ad",
       "version_major": 2,
       "version_minor": 0
      },
      "text/plain": [
       "0it [00:00, ?it/s]"
      ]
     },
     "metadata": {},
     "output_type": "display_data"
    },
    {
     "name": "stderr",
     "output_type": "stream",
     "text": [
      "Implement final epoch properly\n"
     ]
    },
    {
     "name": "stdout",
     "output_type": "stream",
     "text": [
      "Improved metric to 0.297989, resetting counter.\n"
     ]
    },
    {
     "data": {
      "application/vnd.jupyter.widget-view+json": {
       "model_id": "3f661049947441b79f0a45d51e95187d",
       "version_major": 2,
       "version_minor": 0
      },
      "text/plain": [
       "0it [00:00, ?it/s]"
      ]
     },
     "metadata": {},
     "output_type": "display_data"
    },
    {
     "name": "stderr",
     "output_type": "stream",
     "text": [
      "Implement final epoch properly\n"
     ]
    },
    {
     "name": "stdout",
     "output_type": "stream",
     "text": [
      "Improved metric to 0.296909, resetting counter.\n"
     ]
    },
    {
     "data": {
      "application/vnd.jupyter.widget-view+json": {
       "model_id": "7ac7bd28d9424547b3b8849f2ac8df9e",
       "version_major": 2,
       "version_minor": 0
      },
      "text/plain": [
       "0it [00:00, ?it/s]"
      ]
     },
     "metadata": {},
     "output_type": "display_data"
    },
    {
     "name": "stderr",
     "output_type": "stream",
     "text": [
      "Implement final epoch properly\n"
     ]
    },
    {
     "name": "stdout",
     "output_type": "stream",
     "text": [
      "Improved metric to 0.295257, resetting counter.\n"
     ]
    },
    {
     "data": {
      "application/vnd.jupyter.widget-view+json": {
       "model_id": "4b497d6d30ae41e3bfdca960fcd8e428",
       "version_major": 2,
       "version_minor": 0
      },
      "text/plain": [
       "0it [00:00, ?it/s]"
      ]
     },
     "metadata": {},
     "output_type": "display_data"
    },
    {
     "name": "stderr",
     "output_type": "stream",
     "text": [
      "Implement final epoch properly\n"
     ]
    },
    {
     "name": "stdout",
     "output_type": "stream",
     "text": [
      "Improved metric to 0.293203, resetting counter.\n"
     ]
    },
    {
     "data": {
      "application/vnd.jupyter.widget-view+json": {
       "model_id": "9716800b6dd8496c9deea091187b8c0f",
       "version_major": 2,
       "version_minor": 0
      },
      "text/plain": [
       "0it [00:00, ?it/s]"
      ]
     },
     "metadata": {},
     "output_type": "display_data"
    },
    {
     "name": "stderr",
     "output_type": "stream",
     "text": [
      "Implement final epoch properly\n"
     ]
    },
    {
     "name": "stdout",
     "output_type": "stream",
     "text": [
      "Improved metric to 0.292776, resetting counter.\n"
     ]
    },
    {
     "data": {
      "application/vnd.jupyter.widget-view+json": {
       "model_id": "36be42b13b564bcd90d31e06a7c41e58",
       "version_major": 2,
       "version_minor": 0
      },
      "text/plain": [
       "0it [00:00, ?it/s]"
      ]
     },
     "metadata": {},
     "output_type": "display_data"
    },
    {
     "name": "stderr",
     "output_type": "stream",
     "text": [
      "Implement final epoch properly\n"
     ]
    },
    {
     "name": "stdout",
     "output_type": "stream",
     "text": [
      "Improved metric to 0.291481, resetting counter.\n"
     ]
    },
    {
     "data": {
      "application/vnd.jupyter.widget-view+json": {
       "model_id": "f0874f03b0c5489c8d7938f56d2e73e3",
       "version_major": 2,
       "version_minor": 0
      },
      "text/plain": [
       "0it [00:00, ?it/s]"
      ]
     },
     "metadata": {},
     "output_type": "display_data"
    },
    {
     "name": "stderr",
     "output_type": "stream",
     "text": [
      "Implement final epoch properly\n"
     ]
    },
    {
     "name": "stdout",
     "output_type": "stream",
     "text": [
      "Improved metric to 0.290981, resetting counter.\n"
     ]
    },
    {
     "data": {
      "application/vnd.jupyter.widget-view+json": {
       "model_id": "b320c6721da94e7d90ec683121d1974b",
       "version_major": 2,
       "version_minor": 0
      },
      "text/plain": [
       "0it [00:00, ?it/s]"
      ]
     },
     "metadata": {},
     "output_type": "display_data"
    },
    {
     "name": "stderr",
     "output_type": "stream",
     "text": [
      "Implement final epoch properly\n"
     ]
    },
    {
     "name": "stdout",
     "output_type": "stream",
     "text": [
      "Improved metric to 0.289337, resetting counter.\n"
     ]
    },
    {
     "data": {
      "application/vnd.jupyter.widget-view+json": {
       "model_id": "e876edcae7ab4227bdd2041096e7cda4",
       "version_major": 2,
       "version_minor": 0
      },
      "text/plain": [
       "0it [00:00, ?it/s]"
      ]
     },
     "metadata": {},
     "output_type": "display_data"
    },
    {
     "name": "stderr",
     "output_type": "stream",
     "text": [
      "Implement final epoch properly\n"
     ]
    },
    {
     "name": "stdout",
     "output_type": "stream",
     "text": [
      "Improved metric to 0.288240, resetting counter.\n"
     ]
    },
    {
     "data": {
      "application/vnd.jupyter.widget-view+json": {
       "model_id": "3e8a0dd68b11463798a9a8c85b97af73",
       "version_major": 2,
       "version_minor": 0
      },
      "text/plain": [
       "0it [00:00, ?it/s]"
      ]
     },
     "metadata": {},
     "output_type": "display_data"
    },
    {
     "name": "stderr",
     "output_type": "stream",
     "text": [
      "Implement final epoch properly\n"
     ]
    },
    {
     "name": "stdout",
     "output_type": "stream",
     "text": [
      "Improved metric to 0.287443, resetting counter.\n"
     ]
    },
    {
     "data": {
      "application/vnd.jupyter.widget-view+json": {
       "model_id": "43b0d91c897a49d6b7cf30c1ab42e60d",
       "version_major": 2,
       "version_minor": 0
      },
      "text/plain": [
       "0it [00:00, ?it/s]"
      ]
     },
     "metadata": {},
     "output_type": "display_data"
    },
    {
     "name": "stderr",
     "output_type": "stream",
     "text": [
      "Implement final epoch properly\n"
     ]
    },
    {
     "name": "stdout",
     "output_type": "stream",
     "text": [
      "No improvement. Counter at 1/5\n"
     ]
    },
    {
     "data": {
      "application/vnd.jupyter.widget-view+json": {
       "model_id": "bb8a33e83e43463d94a92aad2103d10a",
       "version_major": 2,
       "version_minor": 0
      },
      "text/plain": [
       "0it [00:00, ?it/s]"
      ]
     },
     "metadata": {},
     "output_type": "display_data"
    },
    {
     "name": "stderr",
     "output_type": "stream",
     "text": [
      "Implement final epoch properly\n"
     ]
    },
    {
     "name": "stdout",
     "output_type": "stream",
     "text": [
      "Improved metric to 0.286334, resetting counter.\n"
     ]
    },
    {
     "data": {
      "application/vnd.jupyter.widget-view+json": {
       "model_id": "7c89bf6cb4dc43b4852e5859ce18c919",
       "version_major": 2,
       "version_minor": 0
      },
      "text/plain": [
       "0it [00:00, ?it/s]"
      ]
     },
     "metadata": {},
     "output_type": "display_data"
    },
    {
     "name": "stderr",
     "output_type": "stream",
     "text": [
      "Implement final epoch properly\n"
     ]
    },
    {
     "name": "stdout",
     "output_type": "stream",
     "text": [
      "Improved metric to 0.285967, resetting counter.\n"
     ]
    },
    {
     "data": {
      "application/vnd.jupyter.widget-view+json": {
       "model_id": "43364b8d599c43d8af098f8f17239714",
       "version_major": 2,
       "version_minor": 0
      },
      "text/plain": [
       "0it [00:00, ?it/s]"
      ]
     },
     "metadata": {},
     "output_type": "display_data"
    },
    {
     "name": "stderr",
     "output_type": "stream",
     "text": [
      "Implement final epoch properly\n"
     ]
    },
    {
     "name": "stdout",
     "output_type": "stream",
     "text": [
      "Improved metric to 0.284210, resetting counter.\n"
     ]
    },
    {
     "data": {
      "application/vnd.jupyter.widget-view+json": {
       "model_id": "d7f4970141d947898d7afeb64c29fe63",
       "version_major": 2,
       "version_minor": 0
      },
      "text/plain": [
       "0it [00:00, ?it/s]"
      ]
     },
     "metadata": {},
     "output_type": "display_data"
    },
    {
     "name": "stderr",
     "output_type": "stream",
     "text": [
      "Implement final epoch properly\n"
     ]
    },
    {
     "name": "stdout",
     "output_type": "stream",
     "text": [
      "Improved metric to 0.283920, resetting counter.\n"
     ]
    },
    {
     "data": {
      "application/vnd.jupyter.widget-view+json": {
       "model_id": "06f40b97ac684334b04a90a46b36c74e",
       "version_major": 2,
       "version_minor": 0
      },
      "text/plain": [
       "0it [00:00, ?it/s]"
      ]
     },
     "metadata": {},
     "output_type": "display_data"
    },
    {
     "name": "stderr",
     "output_type": "stream",
     "text": [
      "Implement final epoch properly\n"
     ]
    },
    {
     "name": "stdout",
     "output_type": "stream",
     "text": [
      "Improved metric to 0.283297, resetting counter.\n"
     ]
    },
    {
     "data": {
      "application/vnd.jupyter.widget-view+json": {
       "model_id": "22ae7c7619c1453b96e934cd5a494188",
       "version_major": 2,
       "version_minor": 0
      },
      "text/plain": [
       "0it [00:00, ?it/s]"
      ]
     },
     "metadata": {},
     "output_type": "display_data"
    },
    {
     "name": "stderr",
     "output_type": "stream",
     "text": [
      "Implement final epoch properly\n"
     ]
    },
    {
     "name": "stdout",
     "output_type": "stream",
     "text": [
      "Improved metric to 0.282924, resetting counter.\n"
     ]
    },
    {
     "data": {
      "application/vnd.jupyter.widget-view+json": {
       "model_id": "3c8bdb5c0b0f4f149cf0fd9ea3273239",
       "version_major": 2,
       "version_minor": 0
      },
      "text/plain": [
       "0it [00:00, ?it/s]"
      ]
     },
     "metadata": {},
     "output_type": "display_data"
    },
    {
     "name": "stderr",
     "output_type": "stream",
     "text": [
      "Implement final epoch properly\n"
     ]
    },
    {
     "name": "stdout",
     "output_type": "stream",
     "text": [
      "Improved metric to 0.282070, resetting counter.\n"
     ]
    },
    {
     "data": {
      "application/vnd.jupyter.widget-view+json": {
       "model_id": "6ec44106219d477b979afc27c3b59aa8",
       "version_major": 2,
       "version_minor": 0
      },
      "text/plain": [
       "0it [00:00, ?it/s]"
      ]
     },
     "metadata": {},
     "output_type": "display_data"
    },
    {
     "name": "stderr",
     "output_type": "stream",
     "text": [
      "Implement final epoch properly\n"
     ]
    },
    {
     "name": "stdout",
     "output_type": "stream",
     "text": [
      "Improved metric to 0.281389, resetting counter.\n"
     ]
    },
    {
     "data": {
      "application/vnd.jupyter.widget-view+json": {
       "model_id": "e6809ef209344ba6918bd92e11a9e14a",
       "version_major": 2,
       "version_minor": 0
      },
      "text/plain": [
       "0it [00:00, ?it/s]"
      ]
     },
     "metadata": {},
     "output_type": "display_data"
    },
    {
     "name": "stderr",
     "output_type": "stream",
     "text": [
      "Implement final epoch properly\n"
     ]
    },
    {
     "name": "stdout",
     "output_type": "stream",
     "text": [
      "Improved metric to 0.279957, resetting counter.\n"
     ]
    },
    {
     "data": {
      "application/vnd.jupyter.widget-view+json": {
       "model_id": "9933a1529b3c438a909c869922fb6de9",
       "version_major": 2,
       "version_minor": 0
      },
      "text/plain": [
       "0it [00:00, ?it/s]"
      ]
     },
     "metadata": {},
     "output_type": "display_data"
    },
    {
     "name": "stderr",
     "output_type": "stream",
     "text": [
      "Implement final epoch properly\n"
     ]
    },
    {
     "name": "stdout",
     "output_type": "stream",
     "text": [
      "Improved metric to 0.279155, resetting counter.\n"
     ]
    },
    {
     "data": {
      "application/vnd.jupyter.widget-view+json": {
       "model_id": "a49fa48e84e84d14905c020381b71196",
       "version_major": 2,
       "version_minor": 0
      },
      "text/plain": [
       "0it [00:00, ?it/s]"
      ]
     },
     "metadata": {},
     "output_type": "display_data"
    },
    {
     "name": "stderr",
     "output_type": "stream",
     "text": [
      "Implement final epoch properly\n"
     ]
    },
    {
     "name": "stdout",
     "output_type": "stream",
     "text": [
      "No improvement. Counter at 1/5\n"
     ]
    },
    {
     "data": {
      "application/vnd.jupyter.widget-view+json": {
       "model_id": "1c8bdd181c18405484c84a56547dfea4",
       "version_major": 2,
       "version_minor": 0
      },
      "text/plain": [
       "0it [00:00, ?it/s]"
      ]
     },
     "metadata": {},
     "output_type": "display_data"
    },
    {
     "name": "stderr",
     "output_type": "stream",
     "text": [
      "Implement final epoch properly\n"
     ]
    },
    {
     "name": "stdout",
     "output_type": "stream",
     "text": [
      "Improved metric to 0.278592, resetting counter.\n"
     ]
    },
    {
     "data": {
      "application/vnd.jupyter.widget-view+json": {
       "model_id": "8c70a698ca83440a9fe58815a707c48f",
       "version_major": 2,
       "version_minor": 0
      },
      "text/plain": [
       "0it [00:00, ?it/s]"
      ]
     },
     "metadata": {},
     "output_type": "display_data"
    },
    {
     "name": "stderr",
     "output_type": "stream",
     "text": [
      "Implement final epoch properly\n"
     ]
    },
    {
     "name": "stdout",
     "output_type": "stream",
     "text": [
      "Improved metric to 0.277961, resetting counter.\n"
     ]
    },
    {
     "data": {
      "application/vnd.jupyter.widget-view+json": {
       "model_id": "2bfb9cdb9404490a995978b611f7fbc5",
       "version_major": 2,
       "version_minor": 0
      },
      "text/plain": [
       "0it [00:00, ?it/s]"
      ]
     },
     "metadata": {},
     "output_type": "display_data"
    },
    {
     "name": "stderr",
     "output_type": "stream",
     "text": [
      "Implement final epoch properly\n"
     ]
    },
    {
     "name": "stdout",
     "output_type": "stream",
     "text": [
      "No improvement. Counter at 1/5\n"
     ]
    },
    {
     "data": {
      "application/vnd.jupyter.widget-view+json": {
       "model_id": "81ae07e3b7cb49bdb2e3e8ef7451d8c3",
       "version_major": 2,
       "version_minor": 0
      },
      "text/plain": [
       "0it [00:00, ?it/s]"
      ]
     },
     "metadata": {},
     "output_type": "display_data"
    },
    {
     "name": "stderr",
     "output_type": "stream",
     "text": [
      "Implement final epoch properly\n"
     ]
    },
    {
     "name": "stdout",
     "output_type": "stream",
     "text": [
      "Improved metric to 0.276498, resetting counter.\n"
     ]
    },
    {
     "data": {
      "application/vnd.jupyter.widget-view+json": {
       "model_id": "46ffca89011c44b88c1a7ef229ead456",
       "version_major": 2,
       "version_minor": 0
      },
      "text/plain": [
       "0it [00:00, ?it/s]"
      ]
     },
     "metadata": {},
     "output_type": "display_data"
    },
    {
     "name": "stderr",
     "output_type": "stream",
     "text": [
      "Implement final epoch properly\n"
     ]
    },
    {
     "name": "stdout",
     "output_type": "stream",
     "text": [
      "No improvement. Counter at 1/5\n"
     ]
    },
    {
     "data": {
      "application/vnd.jupyter.widget-view+json": {
       "model_id": "55c113b6d0614749adcee6a2f8e2ff44",
       "version_major": 2,
       "version_minor": 0
      },
      "text/plain": [
       "0it [00:00, ?it/s]"
      ]
     },
     "metadata": {},
     "output_type": "display_data"
    },
    {
     "name": "stderr",
     "output_type": "stream",
     "text": [
      "Implement final epoch properly\n"
     ]
    },
    {
     "name": "stdout",
     "output_type": "stream",
     "text": [
      "Improved metric to 0.274861, resetting counter.\n"
     ]
    },
    {
     "data": {
      "application/vnd.jupyter.widget-view+json": {
       "model_id": "9da9d021e8334c848662a14dea615543",
       "version_major": 2,
       "version_minor": 0
      },
      "text/plain": [
       "0it [00:00, ?it/s]"
      ]
     },
     "metadata": {},
     "output_type": "display_data"
    },
    {
     "name": "stderr",
     "output_type": "stream",
     "text": [
      "Implement final epoch properly\n"
     ]
    },
    {
     "name": "stdout",
     "output_type": "stream",
     "text": [
      "No improvement. Counter at 1/5\n"
     ]
    },
    {
     "data": {
      "application/vnd.jupyter.widget-view+json": {
       "model_id": "17038b0b843a4fbfaf384f909ec2b233",
       "version_major": 2,
       "version_minor": 0
      },
      "text/plain": [
       "0it [00:00, ?it/s]"
      ]
     },
     "metadata": {},
     "output_type": "display_data"
    },
    {
     "name": "stderr",
     "output_type": "stream",
     "text": [
      "Implement final epoch properly\n"
     ]
    },
    {
     "name": "stdout",
     "output_type": "stream",
     "text": [
      "Improved metric to 0.274255, resetting counter.\n"
     ]
    },
    {
     "data": {
      "application/vnd.jupyter.widget-view+json": {
       "model_id": "05ef972a922e415fb8509ec6d600ab79",
       "version_major": 2,
       "version_minor": 0
      },
      "text/plain": [
       "0it [00:00, ?it/s]"
      ]
     },
     "metadata": {},
     "output_type": "display_data"
    },
    {
     "name": "stderr",
     "output_type": "stream",
     "text": [
      "Implement final epoch properly\n"
     ]
    },
    {
     "name": "stdout",
     "output_type": "stream",
     "text": [
      "Improved metric to 0.273667, resetting counter.\n"
     ]
    },
    {
     "data": {
      "application/vnd.jupyter.widget-view+json": {
       "model_id": "15b78d53eac24576bb43816654d5d332",
       "version_major": 2,
       "version_minor": 0
      },
      "text/plain": [
       "0it [00:00, ?it/s]"
      ]
     },
     "metadata": {},
     "output_type": "display_data"
    },
    {
     "name": "stderr",
     "output_type": "stream",
     "text": [
      "Implement final epoch properly\n"
     ]
    },
    {
     "name": "stdout",
     "output_type": "stream",
     "text": [
      "Improved metric to 0.272214, resetting counter.\n"
     ]
    },
    {
     "data": {
      "application/vnd.jupyter.widget-view+json": {
       "model_id": "83cbb0bb79534fb0a75166b2e8175f86",
       "version_major": 2,
       "version_minor": 0
      },
      "text/plain": [
       "0it [00:00, ?it/s]"
      ]
     },
     "metadata": {},
     "output_type": "display_data"
    },
    {
     "name": "stderr",
     "output_type": "stream",
     "text": [
      "Implement final epoch properly\n"
     ]
    },
    {
     "name": "stdout",
     "output_type": "stream",
     "text": [
      "Improved metric to 0.271535, resetting counter.\n"
     ]
    },
    {
     "data": {
      "application/vnd.jupyter.widget-view+json": {
       "model_id": "2ea83713fb0143c19463f51a405db3a7",
       "version_major": 2,
       "version_minor": 0
      },
      "text/plain": [
       "0it [00:00, ?it/s]"
      ]
     },
     "metadata": {},
     "output_type": "display_data"
    },
    {
     "name": "stderr",
     "output_type": "stream",
     "text": [
      "Implement final epoch properly\n"
     ]
    },
    {
     "name": "stdout",
     "output_type": "stream",
     "text": [
      "Improved metric to 0.270503, resetting counter.\n"
     ]
    },
    {
     "data": {
      "application/vnd.jupyter.widget-view+json": {
       "model_id": "f344344fb5014b8b81229912c9fdbce6",
       "version_major": 2,
       "version_minor": 0
      },
      "text/plain": [
       "0it [00:00, ?it/s]"
      ]
     },
     "metadata": {},
     "output_type": "display_data"
    },
    {
     "name": "stderr",
     "output_type": "stream",
     "text": [
      "Implement final epoch properly\n"
     ]
    },
    {
     "name": "stdout",
     "output_type": "stream",
     "text": [
      "No improvement. Counter at 1/5\n"
     ]
    },
    {
     "data": {
      "application/vnd.jupyter.widget-view+json": {
       "model_id": "ff164e74c24a4d8d9b0562b936c7fc63",
       "version_major": 2,
       "version_minor": 0
      },
      "text/plain": [
       "0it [00:00, ?it/s]"
      ]
     },
     "metadata": {},
     "output_type": "display_data"
    },
    {
     "name": "stderr",
     "output_type": "stream",
     "text": [
      "Implement final epoch properly\n"
     ]
    },
    {
     "name": "stdout",
     "output_type": "stream",
     "text": [
      "Improved metric to 0.269685, resetting counter.\n"
     ]
    },
    {
     "data": {
      "application/vnd.jupyter.widget-view+json": {
       "model_id": "76d86b5e1dff42bc910037264fb28a33",
       "version_major": 2,
       "version_minor": 0
      },
      "text/plain": [
       "0it [00:00, ?it/s]"
      ]
     },
     "metadata": {},
     "output_type": "display_data"
    },
    {
     "name": "stderr",
     "output_type": "stream",
     "text": [
      "Implement final epoch properly\n"
     ]
    },
    {
     "name": "stdout",
     "output_type": "stream",
     "text": [
      "Improved metric to 0.267856, resetting counter.\n"
     ]
    },
    {
     "data": {
      "application/vnd.jupyter.widget-view+json": {
       "model_id": "dd9e1cf344de400cb3f844a3c0287f8a",
       "version_major": 2,
       "version_minor": 0
      },
      "text/plain": [
       "0it [00:00, ?it/s]"
      ]
     },
     "metadata": {},
     "output_type": "display_data"
    },
    {
     "name": "stderr",
     "output_type": "stream",
     "text": [
      "Implement final epoch properly\n"
     ]
    },
    {
     "name": "stdout",
     "output_type": "stream",
     "text": [
      "No improvement. Counter at 1/5\n"
     ]
    },
    {
     "data": {
      "application/vnd.jupyter.widget-view+json": {
       "model_id": "08d1ba4e9e33418babdc36a8fe7081f9",
       "version_major": 2,
       "version_minor": 0
      },
      "text/plain": [
       "0it [00:00, ?it/s]"
      ]
     },
     "metadata": {},
     "output_type": "display_data"
    },
    {
     "name": "stderr",
     "output_type": "stream",
     "text": [
      "Implement final epoch properly\n"
     ]
    },
    {
     "name": "stdout",
     "output_type": "stream",
     "text": [
      "No improvement. Counter at 2/5\n"
     ]
    },
    {
     "data": {
      "application/vnd.jupyter.widget-view+json": {
       "model_id": "10fefbd0145f4bb88910fbf07aa00f7e",
       "version_major": 2,
       "version_minor": 0
      },
      "text/plain": [
       "0it [00:00, ?it/s]"
      ]
     },
     "metadata": {},
     "output_type": "display_data"
    },
    {
     "name": "stderr",
     "output_type": "stream",
     "text": [
      "Implement final epoch properly\n"
     ]
    },
    {
     "name": "stdout",
     "output_type": "stream",
     "text": [
      "Improved metric to 0.266262, resetting counter.\n"
     ]
    },
    {
     "data": {
      "application/vnd.jupyter.widget-view+json": {
       "model_id": "3945850391a54926b7ca3992c8be9fb8",
       "version_major": 2,
       "version_minor": 0
      },
      "text/plain": [
       "0it [00:00, ?it/s]"
      ]
     },
     "metadata": {},
     "output_type": "display_data"
    },
    {
     "name": "stderr",
     "output_type": "stream",
     "text": [
      "Implement final epoch properly\n"
     ]
    },
    {
     "name": "stdout",
     "output_type": "stream",
     "text": [
      "Improved metric to 0.265871, resetting counter.\n"
     ]
    },
    {
     "data": {
      "application/vnd.jupyter.widget-view+json": {
       "model_id": "4fb75320c5c84b1ab4eac33ff42d5f73",
       "version_major": 2,
       "version_minor": 0
      },
      "text/plain": [
       "0it [00:00, ?it/s]"
      ]
     },
     "metadata": {},
     "output_type": "display_data"
    },
    {
     "name": "stderr",
     "output_type": "stream",
     "text": [
      "Implement final epoch properly\n"
     ]
    },
    {
     "name": "stdout",
     "output_type": "stream",
     "text": [
      "Improved metric to 0.265141, resetting counter.\n"
     ]
    },
    {
     "data": {
      "application/vnd.jupyter.widget-view+json": {
       "model_id": "e496bcc18ee641aebd4df35dae5ca2df",
       "version_major": 2,
       "version_minor": 0
      },
      "text/plain": [
       "0it [00:00, ?it/s]"
      ]
     },
     "metadata": {},
     "output_type": "display_data"
    },
    {
     "name": "stderr",
     "output_type": "stream",
     "text": [
      "Implement final epoch properly\n"
     ]
    },
    {
     "name": "stdout",
     "output_type": "stream",
     "text": [
      "Improved metric to 0.263984, resetting counter.\n"
     ]
    },
    {
     "data": {
      "application/vnd.jupyter.widget-view+json": {
       "model_id": "55ce15b3cea9497db01d6c46ffc75752",
       "version_major": 2,
       "version_minor": 0
      },
      "text/plain": [
       "0it [00:00, ?it/s]"
      ]
     },
     "metadata": {},
     "output_type": "display_data"
    },
    {
     "name": "stderr",
     "output_type": "stream",
     "text": [
      "Implement final epoch properly\n"
     ]
    },
    {
     "name": "stdout",
     "output_type": "stream",
     "text": [
      "Improved metric to 0.263752, resetting counter.\n"
     ]
    },
    {
     "data": {
      "application/vnd.jupyter.widget-view+json": {
       "model_id": "8c714cb6375f4cedabd3b768939e44fe",
       "version_major": 2,
       "version_minor": 0
      },
      "text/plain": [
       "0it [00:00, ?it/s]"
      ]
     },
     "metadata": {},
     "output_type": "display_data"
    },
    {
     "name": "stderr",
     "output_type": "stream",
     "text": [
      "Implement final epoch properly\n"
     ]
    },
    {
     "name": "stdout",
     "output_type": "stream",
     "text": [
      "Improved metric to 0.262361, resetting counter.\n"
     ]
    },
    {
     "data": {
      "application/vnd.jupyter.widget-view+json": {
       "model_id": "d98826b32bd241e895bca8716f7236dd",
       "version_major": 2,
       "version_minor": 0
      },
      "text/plain": [
       "0it [00:00, ?it/s]"
      ]
     },
     "metadata": {},
     "output_type": "display_data"
    },
    {
     "name": "stderr",
     "output_type": "stream",
     "text": [
      "Implement final epoch properly\n"
     ]
    },
    {
     "name": "stdout",
     "output_type": "stream",
     "text": [
      "No improvement. Counter at 1/5\n"
     ]
    },
    {
     "data": {
      "application/vnd.jupyter.widget-view+json": {
       "model_id": "2eff6b351fdc4574a975d424d40d6adf",
       "version_major": 2,
       "version_minor": 0
      },
      "text/plain": [
       "0it [00:00, ?it/s]"
      ]
     },
     "metadata": {},
     "output_type": "display_data"
    },
    {
     "name": "stderr",
     "output_type": "stream",
     "text": [
      "Implement final epoch properly\n"
     ]
    },
    {
     "name": "stdout",
     "output_type": "stream",
     "text": [
      "Improved metric to 0.261444, resetting counter.\n"
     ]
    },
    {
     "data": {
      "application/vnd.jupyter.widget-view+json": {
       "model_id": "22d870a2cca74fa796c30283b4d386d3",
       "version_major": 2,
       "version_minor": 0
      },
      "text/plain": [
       "0it [00:00, ?it/s]"
      ]
     },
     "metadata": {},
     "output_type": "display_data"
    },
    {
     "name": "stderr",
     "output_type": "stream",
     "text": [
      "Implement final epoch properly\n"
     ]
    },
    {
     "name": "stdout",
     "output_type": "stream",
     "text": [
      "Improved metric to 0.260627, resetting counter.\n"
     ]
    },
    {
     "data": {
      "application/vnd.jupyter.widget-view+json": {
       "model_id": "777acbbe03924f53a1009328e448dde3",
       "version_major": 2,
       "version_minor": 0
      },
      "text/plain": [
       "0it [00:00, ?it/s]"
      ]
     },
     "metadata": {},
     "output_type": "display_data"
    },
    {
     "name": "stderr",
     "output_type": "stream",
     "text": [
      "Implement final epoch properly\n"
     ]
    },
    {
     "name": "stdout",
     "output_type": "stream",
     "text": [
      "Improved metric to 0.259859, resetting counter.\n"
     ]
    },
    {
     "data": {
      "application/vnd.jupyter.widget-view+json": {
       "model_id": "5b61af83ae084f428aac967a3364bc75",
       "version_major": 2,
       "version_minor": 0
      },
      "text/plain": [
       "0it [00:00, ?it/s]"
      ]
     },
     "metadata": {},
     "output_type": "display_data"
    },
    {
     "name": "stderr",
     "output_type": "stream",
     "text": [
      "Implement final epoch properly\n"
     ]
    },
    {
     "name": "stdout",
     "output_type": "stream",
     "text": [
      "Improved metric to 0.259301, resetting counter.\n"
     ]
    },
    {
     "data": {
      "application/vnd.jupyter.widget-view+json": {
       "model_id": "ab71f3bfdff84b6e99a2a429df17f21e",
       "version_major": 2,
       "version_minor": 0
      },
      "text/plain": [
       "0it [00:00, ?it/s]"
      ]
     },
     "metadata": {},
     "output_type": "display_data"
    },
    {
     "name": "stderr",
     "output_type": "stream",
     "text": [
      "Implement final epoch properly\n"
     ]
    },
    {
     "name": "stdout",
     "output_type": "stream",
     "text": [
      "Improved metric to 0.258595, resetting counter.\n"
     ]
    },
    {
     "data": {
      "application/vnd.jupyter.widget-view+json": {
       "model_id": "f2b14efcc94947118ef4aac20d3b85b5",
       "version_major": 2,
       "version_minor": 0
      },
      "text/plain": [
       "0it [00:00, ?it/s]"
      ]
     },
     "metadata": {},
     "output_type": "display_data"
    },
    {
     "name": "stderr",
     "output_type": "stream",
     "text": [
      "Implement final epoch properly\n"
     ]
    },
    {
     "name": "stdout",
     "output_type": "stream",
     "text": [
      "Improved metric to 0.258292, resetting counter.\n"
     ]
    },
    {
     "data": {
      "application/vnd.jupyter.widget-view+json": {
       "model_id": "aed6357157c648468fa6c9699448b667",
       "version_major": 2,
       "version_minor": 0
      },
      "text/plain": [
       "0it [00:00, ?it/s]"
      ]
     },
     "metadata": {},
     "output_type": "display_data"
    },
    {
     "name": "stderr",
     "output_type": "stream",
     "text": [
      "Implement final epoch properly\n"
     ]
    },
    {
     "name": "stdout",
     "output_type": "stream",
     "text": [
      "Improved metric to 0.257873, resetting counter.\n"
     ]
    },
    {
     "data": {
      "application/vnd.jupyter.widget-view+json": {
       "model_id": "d37212c25774415bbb6aaf4240cbb34e",
       "version_major": 2,
       "version_minor": 0
      },
      "text/plain": [
       "0it [00:00, ?it/s]"
      ]
     },
     "metadata": {},
     "output_type": "display_data"
    },
    {
     "name": "stderr",
     "output_type": "stream",
     "text": [
      "Implement final epoch properly\n"
     ]
    },
    {
     "name": "stdout",
     "output_type": "stream",
     "text": [
      "Improved metric to 0.256644, resetting counter.\n"
     ]
    },
    {
     "data": {
      "application/vnd.jupyter.widget-view+json": {
       "model_id": "519ac850fa65493a8de7ca308506a716",
       "version_major": 2,
       "version_minor": 0
      },
      "text/plain": [
       "0it [00:00, ?it/s]"
      ]
     },
     "metadata": {},
     "output_type": "display_data"
    },
    {
     "name": "stderr",
     "output_type": "stream",
     "text": [
      "Implement final epoch properly\n"
     ]
    },
    {
     "name": "stdout",
     "output_type": "stream",
     "text": [
      "Improved metric to 0.256296, resetting counter.\n"
     ]
    },
    {
     "data": {
      "application/vnd.jupyter.widget-view+json": {
       "model_id": "34b9e270d3d94e88b2b427c3be439c10",
       "version_major": 2,
       "version_minor": 0
      },
      "text/plain": [
       "0it [00:00, ?it/s]"
      ]
     },
     "metadata": {},
     "output_type": "display_data"
    },
    {
     "name": "stderr",
     "output_type": "stream",
     "text": [
      "Implement final epoch properly\n"
     ]
    },
    {
     "name": "stdout",
     "output_type": "stream",
     "text": [
      "Improved metric to 0.255297, resetting counter.\n"
     ]
    },
    {
     "data": {
      "application/vnd.jupyter.widget-view+json": {
       "model_id": "8f670acc8af444869691bcab4762e9d6",
       "version_major": 2,
       "version_minor": 0
      },
      "text/plain": [
       "0it [00:00, ?it/s]"
      ]
     },
     "metadata": {},
     "output_type": "display_data"
    },
    {
     "name": "stderr",
     "output_type": "stream",
     "text": [
      "Implement final epoch properly\n"
     ]
    },
    {
     "name": "stdout",
     "output_type": "stream",
     "text": [
      "Improved metric to 0.255165, resetting counter.\n"
     ]
    },
    {
     "data": {
      "application/vnd.jupyter.widget-view+json": {
       "model_id": "2db3b0ec29064605ba3c9e4959cc1476",
       "version_major": 2,
       "version_minor": 0
      },
      "text/plain": [
       "0it [00:00, ?it/s]"
      ]
     },
     "metadata": {},
     "output_type": "display_data"
    },
    {
     "name": "stderr",
     "output_type": "stream",
     "text": [
      "Implement final epoch properly\n"
     ]
    },
    {
     "name": "stdout",
     "output_type": "stream",
     "text": [
      "Improved metric to 0.254959, resetting counter.\n"
     ]
    },
    {
     "data": {
      "application/vnd.jupyter.widget-view+json": {
       "model_id": "b2d78036e13d464a9dfb51d0d7f12503",
       "version_major": 2,
       "version_minor": 0
      },
      "text/plain": [
       "0it [00:00, ?it/s]"
      ]
     },
     "metadata": {},
     "output_type": "display_data"
    },
    {
     "name": "stderr",
     "output_type": "stream",
     "text": [
      "Implement final epoch properly\n"
     ]
    },
    {
     "name": "stdout",
     "output_type": "stream",
     "text": [
      "Improved metric to 0.253951, resetting counter.\n"
     ]
    },
    {
     "data": {
      "application/vnd.jupyter.widget-view+json": {
       "model_id": "352ae9d151bf4e8ba9966e3d6d7d1fc5",
       "version_major": 2,
       "version_minor": 0
      },
      "text/plain": [
       "0it [00:00, ?it/s]"
      ]
     },
     "metadata": {},
     "output_type": "display_data"
    },
    {
     "name": "stderr",
     "output_type": "stream",
     "text": [
      "Implement final epoch properly\n"
     ]
    },
    {
     "name": "stdout",
     "output_type": "stream",
     "text": [
      "Improved metric to 0.253555, resetting counter.\n"
     ]
    },
    {
     "data": {
      "application/vnd.jupyter.widget-view+json": {
       "model_id": "d3dead5de6184f5aadc387864f423e2c",
       "version_major": 2,
       "version_minor": 0
      },
      "text/plain": [
       "0it [00:00, ?it/s]"
      ]
     },
     "metadata": {},
     "output_type": "display_data"
    },
    {
     "name": "stderr",
     "output_type": "stream",
     "text": [
      "Implement final epoch properly\n"
     ]
    },
    {
     "name": "stdout",
     "output_type": "stream",
     "text": [
      "Improved metric to 0.252333, resetting counter.\n"
     ]
    },
    {
     "data": {
      "application/vnd.jupyter.widget-view+json": {
       "model_id": "7ff3233ce1a54bc0ba83ef6750170ec2",
       "version_major": 2,
       "version_minor": 0
      },
      "text/plain": [
       "0it [00:00, ?it/s]"
      ]
     },
     "metadata": {},
     "output_type": "display_data"
    },
    {
     "name": "stderr",
     "output_type": "stream",
     "text": [
      "Implement final epoch properly\n"
     ]
    },
    {
     "name": "stdout",
     "output_type": "stream",
     "text": [
      "Improved metric to 0.252214, resetting counter.\n"
     ]
    },
    {
     "data": {
      "application/vnd.jupyter.widget-view+json": {
       "model_id": "2bc329882beb4f7d934d9a498393a3c9",
       "version_major": 2,
       "version_minor": 0
      },
      "text/plain": [
       "0it [00:00, ?it/s]"
      ]
     },
     "metadata": {},
     "output_type": "display_data"
    },
    {
     "name": "stderr",
     "output_type": "stream",
     "text": [
      "Implement final epoch properly\n"
     ]
    },
    {
     "name": "stdout",
     "output_type": "stream",
     "text": [
      "Improved metric to 0.251497, resetting counter.\n"
     ]
    },
    {
     "data": {
      "application/vnd.jupyter.widget-view+json": {
       "model_id": "a88fed14102e4f7fa072e1f45161a7ad",
       "version_major": 2,
       "version_minor": 0
      },
      "text/plain": [
       "0it [00:00, ?it/s]"
      ]
     },
     "metadata": {},
     "output_type": "display_data"
    },
    {
     "name": "stderr",
     "output_type": "stream",
     "text": [
      "Implement final epoch properly\n"
     ]
    },
    {
     "name": "stdout",
     "output_type": "stream",
     "text": [
      "Improved metric to 0.251042, resetting counter.\n"
     ]
    },
    {
     "data": {
      "application/vnd.jupyter.widget-view+json": {
       "model_id": "724b425f48f94ec893361474b6a2e9a1",
       "version_major": 2,
       "version_minor": 0
      },
      "text/plain": [
       "0it [00:00, ?it/s]"
      ]
     },
     "metadata": {},
     "output_type": "display_data"
    },
    {
     "name": "stderr",
     "output_type": "stream",
     "text": [
      "Implement final epoch properly\n"
     ]
    },
    {
     "name": "stdout",
     "output_type": "stream",
     "text": [
      "Improved metric to 0.250743, resetting counter.\n"
     ]
    },
    {
     "data": {
      "application/vnd.jupyter.widget-view+json": {
       "model_id": "e08d7a4a752348aca0933b49c133adf1",
       "version_major": 2,
       "version_minor": 0
      },
      "text/plain": [
       "0it [00:00, ?it/s]"
      ]
     },
     "metadata": {},
     "output_type": "display_data"
    },
    {
     "name": "stderr",
     "output_type": "stream",
     "text": [
      "Implement final epoch properly\n"
     ]
    },
    {
     "name": "stdout",
     "output_type": "stream",
     "text": [
      "Improved metric to 0.249662, resetting counter.\n"
     ]
    },
    {
     "data": {
      "application/vnd.jupyter.widget-view+json": {
       "model_id": "0437241360e94e9a9071692a3a6a419e",
       "version_major": 2,
       "version_minor": 0
      },
      "text/plain": [
       "0it [00:00, ?it/s]"
      ]
     },
     "metadata": {},
     "output_type": "display_data"
    },
    {
     "name": "stderr",
     "output_type": "stream",
     "text": [
      "Implement final epoch properly\n"
     ]
    },
    {
     "name": "stdout",
     "output_type": "stream",
     "text": [
      "No improvement. Counter at 1/5\n"
     ]
    },
    {
     "data": {
      "application/vnd.jupyter.widget-view+json": {
       "model_id": "5eaad6dd2ea7429ead66865dfdc11a7e",
       "version_major": 2,
       "version_minor": 0
      },
      "text/plain": [
       "0it [00:00, ?it/s]"
      ]
     },
     "metadata": {},
     "output_type": "display_data"
    },
    {
     "name": "stderr",
     "output_type": "stream",
     "text": [
      "Implement final epoch properly\n"
     ]
    },
    {
     "name": "stdout",
     "output_type": "stream",
     "text": [
      "Improved metric to 0.248336, resetting counter.\n"
     ]
    },
    {
     "data": {
      "application/vnd.jupyter.widget-view+json": {
       "model_id": "1f6f8bb5af944aa99341906fce779a31",
       "version_major": 2,
       "version_minor": 0
      },
      "text/plain": [
       "0it [00:00, ?it/s]"
      ]
     },
     "metadata": {},
     "output_type": "display_data"
    },
    {
     "name": "stderr",
     "output_type": "stream",
     "text": [
      "Implement final epoch properly\n"
     ]
    },
    {
     "name": "stdout",
     "output_type": "stream",
     "text": [
      "No improvement. Counter at 1/5\n"
     ]
    },
    {
     "data": {
      "application/vnd.jupyter.widget-view+json": {
       "model_id": "7731ed5b6b5f40d79872fdb7374759aa",
       "version_major": 2,
       "version_minor": 0
      },
      "text/plain": [
       "0it [00:00, ?it/s]"
      ]
     },
     "metadata": {},
     "output_type": "display_data"
    },
    {
     "name": "stderr",
     "output_type": "stream",
     "text": [
      "Implement final epoch properly\n"
     ]
    },
    {
     "name": "stdout",
     "output_type": "stream",
     "text": [
      "No improvement. Counter at 2/5\n"
     ]
    },
    {
     "data": {
      "application/vnd.jupyter.widget-view+json": {
       "model_id": "3d4e19e0d3354e1c95788258edd78d4a",
       "version_major": 2,
       "version_minor": 0
      },
      "text/plain": [
       "0it [00:00, ?it/s]"
      ]
     },
     "metadata": {},
     "output_type": "display_data"
    },
    {
     "name": "stderr",
     "output_type": "stream",
     "text": [
      "Implement final epoch properly\n"
     ]
    },
    {
     "name": "stdout",
     "output_type": "stream",
     "text": [
      "Improved metric to 0.247140, resetting counter.\n"
     ]
    },
    {
     "data": {
      "application/vnd.jupyter.widget-view+json": {
       "model_id": "986d8e4e8b714641847090080a3b7b74",
       "version_major": 2,
       "version_minor": 0
      },
      "text/plain": [
       "0it [00:00, ?it/s]"
      ]
     },
     "metadata": {},
     "output_type": "display_data"
    },
    {
     "name": "stderr",
     "output_type": "stream",
     "text": [
      "Implement final epoch properly\n"
     ]
    },
    {
     "name": "stdout",
     "output_type": "stream",
     "text": [
      "No improvement. Counter at 1/5\n"
     ]
    },
    {
     "data": {
      "application/vnd.jupyter.widget-view+json": {
       "model_id": "85a2e0e9dc7448b29237152ab64f9a79",
       "version_major": 2,
       "version_minor": 0
      },
      "text/plain": [
       "0it [00:00, ?it/s]"
      ]
     },
     "metadata": {},
     "output_type": "display_data"
    },
    {
     "name": "stderr",
     "output_type": "stream",
     "text": [
      "Implement final epoch properly\n"
     ]
    },
    {
     "name": "stdout",
     "output_type": "stream",
     "text": [
      "Improved metric to 0.246727, resetting counter.\n"
     ]
    },
    {
     "data": {
      "application/vnd.jupyter.widget-view+json": {
       "model_id": "e7d2adf3b01b4eadb0755d197db5bc7e",
       "version_major": 2,
       "version_minor": 0
      },
      "text/plain": [
       "0it [00:00, ?it/s]"
      ]
     },
     "metadata": {},
     "output_type": "display_data"
    },
    {
     "name": "stderr",
     "output_type": "stream",
     "text": [
      "Implement final epoch properly\n"
     ]
    },
    {
     "name": "stdout",
     "output_type": "stream",
     "text": [
      "No improvement. Counter at 1/5\n"
     ]
    },
    {
     "data": {
      "application/vnd.jupyter.widget-view+json": {
       "model_id": "5c03373d081d467cba1a5513a63161f9",
       "version_major": 2,
       "version_minor": 0
      },
      "text/plain": [
       "0it [00:00, ?it/s]"
      ]
     },
     "metadata": {},
     "output_type": "display_data"
    },
    {
     "name": "stderr",
     "output_type": "stream",
     "text": [
      "Implement final epoch properly\n"
     ]
    },
    {
     "name": "stdout",
     "output_type": "stream",
     "text": [
      "Improved metric to 0.246343, resetting counter.\n"
     ]
    },
    {
     "data": {
      "application/vnd.jupyter.widget-view+json": {
       "model_id": "e53b43f1bef248699b779012a3dcefb2",
       "version_major": 2,
       "version_minor": 0
      },
      "text/plain": [
       "0it [00:00, ?it/s]"
      ]
     },
     "metadata": {},
     "output_type": "display_data"
    },
    {
     "name": "stderr",
     "output_type": "stream",
     "text": [
      "Implement final epoch properly\n"
     ]
    },
    {
     "name": "stdout",
     "output_type": "stream",
     "text": [
      "Improved metric to 0.245313, resetting counter.\n"
     ]
    },
    {
     "data": {
      "application/vnd.jupyter.widget-view+json": {
       "model_id": "fbdd1a9f70554275b3ffd9ad96d57d0b",
       "version_major": 2,
       "version_minor": 0
      },
      "text/plain": [
       "0it [00:00, ?it/s]"
      ]
     },
     "metadata": {},
     "output_type": "display_data"
    },
    {
     "name": "stderr",
     "output_type": "stream",
     "text": [
      "Implement final epoch properly\n"
     ]
    },
    {
     "name": "stdout",
     "output_type": "stream",
     "text": [
      "Improved metric to 0.245178, resetting counter.\n"
     ]
    },
    {
     "data": {
      "application/vnd.jupyter.widget-view+json": {
       "model_id": "0b2aef1adc0147069fc3c1cd7e59f022",
       "version_major": 2,
       "version_minor": 0
      },
      "text/plain": [
       "0it [00:00, ?it/s]"
      ]
     },
     "metadata": {},
     "output_type": "display_data"
    },
    {
     "name": "stderr",
     "output_type": "stream",
     "text": [
      "Implement final epoch properly\n"
     ]
    },
    {
     "name": "stdout",
     "output_type": "stream",
     "text": [
      "Improved metric to 0.244723, resetting counter.\n"
     ]
    },
    {
     "data": {
      "application/vnd.jupyter.widget-view+json": {
       "model_id": "6902ea31608446129ede6dd1b1f88f3f",
       "version_major": 2,
       "version_minor": 0
      },
      "text/plain": [
       "0it [00:00, ?it/s]"
      ]
     },
     "metadata": {},
     "output_type": "display_data"
    },
    {
     "name": "stderr",
     "output_type": "stream",
     "text": [
      "Implement final epoch properly\n"
     ]
    },
    {
     "name": "stdout",
     "output_type": "stream",
     "text": [
      "No improvement. Counter at 1/5\n"
     ]
    },
    {
     "data": {
      "application/vnd.jupyter.widget-view+json": {
       "model_id": "c1a42637eb824a83bdfa02dd4f5aef46",
       "version_major": 2,
       "version_minor": 0
      },
      "text/plain": [
       "0it [00:00, ?it/s]"
      ]
     },
     "metadata": {},
     "output_type": "display_data"
    },
    {
     "name": "stderr",
     "output_type": "stream",
     "text": [
      "Implement final epoch properly\n"
     ]
    },
    {
     "name": "stdout",
     "output_type": "stream",
     "text": [
      "Improved metric to 0.243775, resetting counter.\n"
     ]
    },
    {
     "data": {
      "application/vnd.jupyter.widget-view+json": {
       "model_id": "229af84963234eefa014c3f29efb1a68",
       "version_major": 2,
       "version_minor": 0
      },
      "text/plain": [
       "0it [00:00, ?it/s]"
      ]
     },
     "metadata": {},
     "output_type": "display_data"
    },
    {
     "name": "stderr",
     "output_type": "stream",
     "text": [
      "Implement final epoch properly\n"
     ]
    },
    {
     "name": "stdout",
     "output_type": "stream",
     "text": [
      "No improvement. Counter at 1/5\n"
     ]
    },
    {
     "data": {
      "application/vnd.jupyter.widget-view+json": {
       "model_id": "fd109490cffb44df9553973240aaaa55",
       "version_major": 2,
       "version_minor": 0
      },
      "text/plain": [
       "0it [00:00, ?it/s]"
      ]
     },
     "metadata": {},
     "output_type": "display_data"
    },
    {
     "name": "stderr",
     "output_type": "stream",
     "text": [
      "Implement final epoch properly\n"
     ]
    },
    {
     "name": "stdout",
     "output_type": "stream",
     "text": [
      "Improved metric to 0.242216, resetting counter.\n"
     ]
    },
    {
     "data": {
      "application/vnd.jupyter.widget-view+json": {
       "model_id": "adcbe09daf93433c900d8c2c9fc903f1",
       "version_major": 2,
       "version_minor": 0
      },
      "text/plain": [
       "0it [00:00, ?it/s]"
      ]
     },
     "metadata": {},
     "output_type": "display_data"
    },
    {
     "name": "stderr",
     "output_type": "stream",
     "text": [
      "Implement final epoch properly\n"
     ]
    },
    {
     "name": "stdout",
     "output_type": "stream",
     "text": [
      "No improvement. Counter at 1/5\n"
     ]
    },
    {
     "data": {
      "application/vnd.jupyter.widget-view+json": {
       "model_id": "01e4bd61b2e24d6cb7e274ef1f8267d8",
       "version_major": 2,
       "version_minor": 0
      },
      "text/plain": [
       "0it [00:00, ?it/s]"
      ]
     },
     "metadata": {},
     "output_type": "display_data"
    },
    {
     "name": "stderr",
     "output_type": "stream",
     "text": [
      "Implement final epoch properly\n"
     ]
    },
    {
     "name": "stdout",
     "output_type": "stream",
     "text": [
      "Improved metric to 0.241903, resetting counter.\n"
     ]
    },
    {
     "data": {
      "application/vnd.jupyter.widget-view+json": {
       "model_id": "f47cf1fbef1542a6aba566aa0b6b0a58",
       "version_major": 2,
       "version_minor": 0
      },
      "text/plain": [
       "0it [00:00, ?it/s]"
      ]
     },
     "metadata": {},
     "output_type": "display_data"
    },
    {
     "name": "stderr",
     "output_type": "stream",
     "text": [
      "Implement final epoch properly\n"
     ]
    },
    {
     "name": "stdout",
     "output_type": "stream",
     "text": [
      "No improvement. Counter at 1/5\n"
     ]
    },
    {
     "data": {
      "application/vnd.jupyter.widget-view+json": {
       "model_id": "30af305f7cae4c979666c20cdc4c9afb",
       "version_major": 2,
       "version_minor": 0
      },
      "text/plain": [
       "0it [00:00, ?it/s]"
      ]
     },
     "metadata": {},
     "output_type": "display_data"
    },
    {
     "name": "stderr",
     "output_type": "stream",
     "text": [
      "Implement final epoch properly\n"
     ]
    },
    {
     "name": "stdout",
     "output_type": "stream",
     "text": [
      "Improved metric to 0.240886, resetting counter.\n"
     ]
    },
    {
     "data": {
      "application/vnd.jupyter.widget-view+json": {
       "model_id": "a776dea4029a49cca2886ac8263bb370",
       "version_major": 2,
       "version_minor": 0
      },
      "text/plain": [
       "0it [00:00, ?it/s]"
      ]
     },
     "metadata": {},
     "output_type": "display_data"
    },
    {
     "name": "stderr",
     "output_type": "stream",
     "text": [
      "Implement final epoch properly\n"
     ]
    },
    {
     "name": "stdout",
     "output_type": "stream",
     "text": [
      "No improvement. Counter at 1/5\n"
     ]
    },
    {
     "data": {
      "application/vnd.jupyter.widget-view+json": {
       "model_id": "85cfa1e017de4fceae3bc2af9c3d457a",
       "version_major": 2,
       "version_minor": 0
      },
      "text/plain": [
       "0it [00:00, ?it/s]"
      ]
     },
     "metadata": {},
     "output_type": "display_data"
    },
    {
     "name": "stderr",
     "output_type": "stream",
     "text": [
      "Implement final epoch properly\n"
     ]
    },
    {
     "name": "stdout",
     "output_type": "stream",
     "text": [
      "No improvement. Counter at 2/5\n"
     ]
    },
    {
     "data": {
      "application/vnd.jupyter.widget-view+json": {
       "model_id": "689f664aaf2544adbe4fef82a6ea3acf",
       "version_major": 2,
       "version_minor": 0
      },
      "text/plain": [
       "0it [00:00, ?it/s]"
      ]
     },
     "metadata": {},
     "output_type": "display_data"
    },
    {
     "name": "stderr",
     "output_type": "stream",
     "text": [
      "Implement final epoch properly\n"
     ]
    },
    {
     "name": "stdout",
     "output_type": "stream",
     "text": [
      "No improvement. Counter at 3/5\n"
     ]
    },
    {
     "data": {
      "application/vnd.jupyter.widget-view+json": {
       "model_id": "7224e7b724b342f184a3146abeb062cf",
       "version_major": 2,
       "version_minor": 0
      },
      "text/plain": [
       "0it [00:00, ?it/s]"
      ]
     },
     "metadata": {},
     "output_type": "display_data"
    },
    {
     "name": "stderr",
     "output_type": "stream",
     "text": [
      "Implement final epoch properly\n"
     ]
    },
    {
     "name": "stdout",
     "output_type": "stream",
     "text": [
      "Improved metric to 0.239572, resetting counter.\n"
     ]
    },
    {
     "data": {
      "application/vnd.jupyter.widget-view+json": {
       "model_id": "99af51399d4f4032aea2a03e96bb6486",
       "version_major": 2,
       "version_minor": 0
      },
      "text/plain": [
       "0it [00:00, ?it/s]"
      ]
     },
     "metadata": {},
     "output_type": "display_data"
    },
    {
     "name": "stderr",
     "output_type": "stream",
     "text": [
      "Implement final epoch properly\n"
     ]
    },
    {
     "name": "stdout",
     "output_type": "stream",
     "text": [
      "Improved metric to 0.239418, resetting counter.\n"
     ]
    },
    {
     "data": {
      "application/vnd.jupyter.widget-view+json": {
       "model_id": "2e40442a6f4a4029be5d83a42d8e6496",
       "version_major": 2,
       "version_minor": 0
      },
      "text/plain": [
       "0it [00:00, ?it/s]"
      ]
     },
     "metadata": {},
     "output_type": "display_data"
    },
    {
     "name": "stderr",
     "output_type": "stream",
     "text": [
      "Implement final epoch properly\n"
     ]
    },
    {
     "name": "stdout",
     "output_type": "stream",
     "text": [
      "Improved metric to 0.238271, resetting counter.\n"
     ]
    },
    {
     "data": {
      "application/vnd.jupyter.widget-view+json": {
       "model_id": "e0dba7d53c794eb89e50360652adcd9a",
       "version_major": 2,
       "version_minor": 0
      },
      "text/plain": [
       "0it [00:00, ?it/s]"
      ]
     },
     "metadata": {},
     "output_type": "display_data"
    },
    {
     "name": "stderr",
     "output_type": "stream",
     "text": [
      "Implement final epoch properly\n"
     ]
    },
    {
     "name": "stdout",
     "output_type": "stream",
     "text": [
      "No improvement. Counter at 1/5\n"
     ]
    },
    {
     "data": {
      "application/vnd.jupyter.widget-view+json": {
       "model_id": "74d4d9e289274d5187fa1fa6a91c7459",
       "version_major": 2,
       "version_minor": 0
      },
      "text/plain": [
       "0it [00:00, ?it/s]"
      ]
     },
     "metadata": {},
     "output_type": "display_data"
    },
    {
     "name": "stderr",
     "output_type": "stream",
     "text": [
      "Implement final epoch properly\n"
     ]
    },
    {
     "name": "stdout",
     "output_type": "stream",
     "text": [
      "Improved metric to 0.237494, resetting counter.\n"
     ]
    },
    {
     "data": {
      "application/vnd.jupyter.widget-view+json": {
       "model_id": "7bfd4bfa40c648c89b0a3958b7b517b9",
       "version_major": 2,
       "version_minor": 0
      },
      "text/plain": [
       "0it [00:00, ?it/s]"
      ]
     },
     "metadata": {},
     "output_type": "display_data"
    },
    {
     "name": "stderr",
     "output_type": "stream",
     "text": [
      "Implement final epoch properly\n"
     ]
    },
    {
     "name": "stdout",
     "output_type": "stream",
     "text": [
      "Improved metric to 0.237135, resetting counter.\n"
     ]
    },
    {
     "data": {
      "application/vnd.jupyter.widget-view+json": {
       "model_id": "3ec66a1003d845e7b7cbae1b7205a818",
       "version_major": 2,
       "version_minor": 0
      },
      "text/plain": [
       "0it [00:00, ?it/s]"
      ]
     },
     "metadata": {},
     "output_type": "display_data"
    },
    {
     "name": "stderr",
     "output_type": "stream",
     "text": [
      "Implement final epoch properly\n"
     ]
    },
    {
     "name": "stdout",
     "output_type": "stream",
     "text": [
      "No improvement. Counter at 1/5\n"
     ]
    },
    {
     "data": {
      "application/vnd.jupyter.widget-view+json": {
       "model_id": "5c56906a4ab8494490cd4bf5f8c1b184",
       "version_major": 2,
       "version_minor": 0
      },
      "text/plain": [
       "0it [00:00, ?it/s]"
      ]
     },
     "metadata": {},
     "output_type": "display_data"
    },
    {
     "name": "stderr",
     "output_type": "stream",
     "text": [
      "Implement final epoch properly\n"
     ]
    },
    {
     "name": "stdout",
     "output_type": "stream",
     "text": [
      "No improvement. Counter at 2/5\n"
     ]
    },
    {
     "data": {
      "application/vnd.jupyter.widget-view+json": {
       "model_id": "cc0bd3a7d2cc489ca9b0b8046e271023",
       "version_major": 2,
       "version_minor": 0
      },
      "text/plain": [
       "0it [00:00, ?it/s]"
      ]
     },
     "metadata": {},
     "output_type": "display_data"
    },
    {
     "name": "stderr",
     "output_type": "stream",
     "text": [
      "Implement final epoch properly\n"
     ]
    },
    {
     "name": "stdout",
     "output_type": "stream",
     "text": [
      "Improved metric to 0.235971, resetting counter.\n"
     ]
    },
    {
     "data": {
      "application/vnd.jupyter.widget-view+json": {
       "model_id": "c79c5ec42b4645a3b442786728e5c1d6",
       "version_major": 2,
       "version_minor": 0
      },
      "text/plain": [
       "0it [00:00, ?it/s]"
      ]
     },
     "metadata": {},
     "output_type": "display_data"
    },
    {
     "name": "stderr",
     "output_type": "stream",
     "text": [
      "Implement final epoch properly\n"
     ]
    },
    {
     "name": "stdout",
     "output_type": "stream",
     "text": [
      "Improved metric to 0.235750, resetting counter.\n"
     ]
    },
    {
     "data": {
      "application/vnd.jupyter.widget-view+json": {
       "model_id": "2fb6503aa8784147bb049b3d04b63134",
       "version_major": 2,
       "version_minor": 0
      },
      "text/plain": [
       "0it [00:00, ?it/s]"
      ]
     },
     "metadata": {},
     "output_type": "display_data"
    },
    {
     "name": "stderr",
     "output_type": "stream",
     "text": [
      "Implement final epoch properly\n"
     ]
    },
    {
     "name": "stdout",
     "output_type": "stream",
     "text": [
      "No improvement. Counter at 1/5\n"
     ]
    },
    {
     "data": {
      "application/vnd.jupyter.widget-view+json": {
       "model_id": "2971fed6503743f7a95453749b42b749",
       "version_major": 2,
       "version_minor": 0
      },
      "text/plain": [
       "0it [00:00, ?it/s]"
      ]
     },
     "metadata": {},
     "output_type": "display_data"
    },
    {
     "name": "stderr",
     "output_type": "stream",
     "text": [
      "Implement final epoch properly\n"
     ]
    },
    {
     "name": "stdout",
     "output_type": "stream",
     "text": [
      "Improved metric to 0.235357, resetting counter.\n"
     ]
    },
    {
     "data": {
      "application/vnd.jupyter.widget-view+json": {
       "model_id": "453d009e8aab45f0b6f84525850b981c",
       "version_major": 2,
       "version_minor": 0
      },
      "text/plain": [
       "0it [00:00, ?it/s]"
      ]
     },
     "metadata": {},
     "output_type": "display_data"
    },
    {
     "name": "stderr",
     "output_type": "stream",
     "text": [
      "Implement final epoch properly\n"
     ]
    },
    {
     "name": "stdout",
     "output_type": "stream",
     "text": [
      "Improved metric to 0.234546, resetting counter.\n"
     ]
    },
    {
     "data": {
      "application/vnd.jupyter.widget-view+json": {
       "model_id": "b33044ef0a8e45f587307301d8da489e",
       "version_major": 2,
       "version_minor": 0
      },
      "text/plain": [
       "0it [00:00, ?it/s]"
      ]
     },
     "metadata": {},
     "output_type": "display_data"
    },
    {
     "name": "stderr",
     "output_type": "stream",
     "text": [
      "Implement final epoch properly\n"
     ]
    },
    {
     "name": "stdout",
     "output_type": "stream",
     "text": [
      "Improved metric to 0.233877, resetting counter.\n"
     ]
    },
    {
     "data": {
      "application/vnd.jupyter.widget-view+json": {
       "model_id": "bf405199e3db48f2bd30868c32273324",
       "version_major": 2,
       "version_minor": 0
      },
      "text/plain": [
       "0it [00:00, ?it/s]"
      ]
     },
     "metadata": {},
     "output_type": "display_data"
    },
    {
     "name": "stderr",
     "output_type": "stream",
     "text": [
      "Implement final epoch properly\n"
     ]
    },
    {
     "name": "stdout",
     "output_type": "stream",
     "text": [
      "No improvement. Counter at 1/5\n"
     ]
    },
    {
     "data": {
      "application/vnd.jupyter.widget-view+json": {
       "model_id": "0ea25c849e344738a370c27264ea08f3",
       "version_major": 2,
       "version_minor": 0
      },
      "text/plain": [
       "0it [00:00, ?it/s]"
      ]
     },
     "metadata": {},
     "output_type": "display_data"
    },
    {
     "name": "stderr",
     "output_type": "stream",
     "text": [
      "Implement final epoch properly\n"
     ]
    },
    {
     "name": "stdout",
     "output_type": "stream",
     "text": [
      "No improvement. Counter at 2/5\n"
     ]
    },
    {
     "data": {
      "application/vnd.jupyter.widget-view+json": {
       "model_id": "2430f14270344d1c8745afe9cf8089c2",
       "version_major": 2,
       "version_minor": 0
      },
      "text/plain": [
       "0it [00:00, ?it/s]"
      ]
     },
     "metadata": {},
     "output_type": "display_data"
    },
    {
     "name": "stderr",
     "output_type": "stream",
     "text": [
      "Implement final epoch properly\n"
     ]
    },
    {
     "name": "stdout",
     "output_type": "stream",
     "text": [
      "No improvement. Counter at 3/5\n"
     ]
    },
    {
     "data": {
      "application/vnd.jupyter.widget-view+json": {
       "model_id": "a79d745c95f64eeeac5c25a428b32bde",
       "version_major": 2,
       "version_minor": 0
      },
      "text/plain": [
       "0it [00:00, ?it/s]"
      ]
     },
     "metadata": {},
     "output_type": "display_data"
    },
    {
     "name": "stderr",
     "output_type": "stream",
     "text": [
      "Implement final epoch properly\n"
     ]
    },
    {
     "name": "stdout",
     "output_type": "stream",
     "text": [
      "Improved metric to 0.233400, resetting counter.\n"
     ]
    },
    {
     "data": {
      "application/vnd.jupyter.widget-view+json": {
       "model_id": "d346def5b0cd4377a64a953858b81587",
       "version_major": 2,
       "version_minor": 0
      },
      "text/plain": [
       "0it [00:00, ?it/s]"
      ]
     },
     "metadata": {},
     "output_type": "display_data"
    },
    {
     "name": "stderr",
     "output_type": "stream",
     "text": [
      "Implement final epoch properly\n"
     ]
    },
    {
     "name": "stdout",
     "output_type": "stream",
     "text": [
      "Improved metric to 0.233249, resetting counter.\n"
     ]
    },
    {
     "data": {
      "application/vnd.jupyter.widget-view+json": {
       "model_id": "cb4bd64ab54d49a8bb252095c2b01e8c",
       "version_major": 2,
       "version_minor": 0
      },
      "text/plain": [
       "0it [00:00, ?it/s]"
      ]
     },
     "metadata": {},
     "output_type": "display_data"
    },
    {
     "name": "stderr",
     "output_type": "stream",
     "text": [
      "Implement final epoch properly\n"
     ]
    },
    {
     "name": "stdout",
     "output_type": "stream",
     "text": [
      "Improved metric to 0.233058, resetting counter.\n"
     ]
    },
    {
     "data": {
      "application/vnd.jupyter.widget-view+json": {
       "model_id": "b5ef4184817149cc9eac2365180ed292",
       "version_major": 2,
       "version_minor": 0
      },
      "text/plain": [
       "0it [00:00, ?it/s]"
      ]
     },
     "metadata": {},
     "output_type": "display_data"
    },
    {
     "name": "stderr",
     "output_type": "stream",
     "text": [
      "Implement final epoch properly\n"
     ]
    },
    {
     "name": "stdout",
     "output_type": "stream",
     "text": [
      "Improved metric to 0.231808, resetting counter.\n"
     ]
    },
    {
     "data": {
      "application/vnd.jupyter.widget-view+json": {
       "model_id": "439452f967af44fe8ee405f93e8ca22d",
       "version_major": 2,
       "version_minor": 0
      },
      "text/plain": [
       "0it [00:00, ?it/s]"
      ]
     },
     "metadata": {},
     "output_type": "display_data"
    },
    {
     "name": "stderr",
     "output_type": "stream",
     "text": [
      "Implement final epoch properly\n"
     ]
    },
    {
     "name": "stdout",
     "output_type": "stream",
     "text": [
      "Improved metric to 0.230807, resetting counter.\n"
     ]
    },
    {
     "data": {
      "application/vnd.jupyter.widget-view+json": {
       "model_id": "61605106609b4e57a835f1478fe0d082",
       "version_major": 2,
       "version_minor": 0
      },
      "text/plain": [
       "0it [00:00, ?it/s]"
      ]
     },
     "metadata": {},
     "output_type": "display_data"
    },
    {
     "name": "stderr",
     "output_type": "stream",
     "text": [
      "Implement final epoch properly\n"
     ]
    },
    {
     "name": "stdout",
     "output_type": "stream",
     "text": [
      "No improvement. Counter at 1/5\n"
     ]
    },
    {
     "data": {
      "application/vnd.jupyter.widget-view+json": {
       "model_id": "c5dbf9b28c5d4249ad28e6aa36385bb4",
       "version_major": 2,
       "version_minor": 0
      },
      "text/plain": [
       "0it [00:00, ?it/s]"
      ]
     },
     "metadata": {},
     "output_type": "display_data"
    },
    {
     "name": "stderr",
     "output_type": "stream",
     "text": [
      "Implement final epoch properly\n"
     ]
    },
    {
     "name": "stdout",
     "output_type": "stream",
     "text": [
      "No improvement. Counter at 2/5\n"
     ]
    },
    {
     "data": {
      "application/vnd.jupyter.widget-view+json": {
       "model_id": "f2bf816e228440808a2a8afabd71a3cc",
       "version_major": 2,
       "version_minor": 0
      },
      "text/plain": [
       "0it [00:00, ?it/s]"
      ]
     },
     "metadata": {},
     "output_type": "display_data"
    },
    {
     "name": "stderr",
     "output_type": "stream",
     "text": [
      "Implement final epoch properly\n"
     ]
    },
    {
     "name": "stdout",
     "output_type": "stream",
     "text": [
      "Improved metric to 0.230153, resetting counter.\n"
     ]
    },
    {
     "data": {
      "application/vnd.jupyter.widget-view+json": {
       "model_id": "5c8119fee8f54c41b0268460131f2857",
       "version_major": 2,
       "version_minor": 0
      },
      "text/plain": [
       "0it [00:00, ?it/s]"
      ]
     },
     "metadata": {},
     "output_type": "display_data"
    },
    {
     "name": "stderr",
     "output_type": "stream",
     "text": [
      "Implement final epoch properly\n"
     ]
    },
    {
     "name": "stdout",
     "output_type": "stream",
     "text": [
      "Improved metric to 0.229913, resetting counter.\n"
     ]
    },
    {
     "data": {
      "application/vnd.jupyter.widget-view+json": {
       "model_id": "a4c95d590edc42cb8a48e6176dc3e508",
       "version_major": 2,
       "version_minor": 0
      },
      "text/plain": [
       "0it [00:00, ?it/s]"
      ]
     },
     "metadata": {},
     "output_type": "display_data"
    },
    {
     "name": "stderr",
     "output_type": "stream",
     "text": [
      "Implement final epoch properly\n"
     ]
    },
    {
     "name": "stdout",
     "output_type": "stream",
     "text": [
      "No improvement. Counter at 1/5\n"
     ]
    },
    {
     "data": {
      "application/vnd.jupyter.widget-view+json": {
       "model_id": "e8e2db63d72348f49f9b703c37bc8211",
       "version_major": 2,
       "version_minor": 0
      },
      "text/plain": [
       "0it [00:00, ?it/s]"
      ]
     },
     "metadata": {},
     "output_type": "display_data"
    },
    {
     "name": "stderr",
     "output_type": "stream",
     "text": [
      "Implement final epoch properly\n"
     ]
    },
    {
     "name": "stdout",
     "output_type": "stream",
     "text": [
      "Improved metric to 0.228824, resetting counter.\n"
     ]
    },
    {
     "data": {
      "application/vnd.jupyter.widget-view+json": {
       "model_id": "fd7f156fea8a4801aa3f352a3321a118",
       "version_major": 2,
       "version_minor": 0
      },
      "text/plain": [
       "0it [00:00, ?it/s]"
      ]
     },
     "metadata": {},
     "output_type": "display_data"
    },
    {
     "name": "stderr",
     "output_type": "stream",
     "text": [
      "Implement final epoch properly\n"
     ]
    },
    {
     "name": "stdout",
     "output_type": "stream",
     "text": [
      "Improved metric to 0.227955, resetting counter.\n"
     ]
    },
    {
     "data": {
      "application/vnd.jupyter.widget-view+json": {
       "model_id": "2198920a8e2b4a32a164517028f87679",
       "version_major": 2,
       "version_minor": 0
      },
      "text/plain": [
       "0it [00:00, ?it/s]"
      ]
     },
     "metadata": {},
     "output_type": "display_data"
    },
    {
     "name": "stderr",
     "output_type": "stream",
     "text": [
      "Implement final epoch properly\n"
     ]
    },
    {
     "name": "stdout",
     "output_type": "stream",
     "text": [
      "No improvement. Counter at 1/5\n"
     ]
    },
    {
     "data": {
      "application/vnd.jupyter.widget-view+json": {
       "model_id": "eee33431cc6e4d0c9dd2807aa34b9d5b",
       "version_major": 2,
       "version_minor": 0
      },
      "text/plain": [
       "0it [00:00, ?it/s]"
      ]
     },
     "metadata": {},
     "output_type": "display_data"
    },
    {
     "name": "stderr",
     "output_type": "stream",
     "text": [
      "Implement final epoch properly\n"
     ]
    },
    {
     "name": "stdout",
     "output_type": "stream",
     "text": [
      "Improved metric to 0.227724, resetting counter.\n"
     ]
    },
    {
     "data": {
      "application/vnd.jupyter.widget-view+json": {
       "model_id": "a40de8290f4e4cd7870539bd093112b9",
       "version_major": 2,
       "version_minor": 0
      },
      "text/plain": [
       "0it [00:00, ?it/s]"
      ]
     },
     "metadata": {},
     "output_type": "display_data"
    },
    {
     "name": "stderr",
     "output_type": "stream",
     "text": [
      "Implement final epoch properly\n"
     ]
    },
    {
     "name": "stdout",
     "output_type": "stream",
     "text": [
      "Improved metric to 0.226725, resetting counter.\n"
     ]
    },
    {
     "data": {
      "application/vnd.jupyter.widget-view+json": {
       "model_id": "f9cfd191677d4aa182cef341d73b3706",
       "version_major": 2,
       "version_minor": 0
      },
      "text/plain": [
       "0it [00:00, ?it/s]"
      ]
     },
     "metadata": {},
     "output_type": "display_data"
    },
    {
     "name": "stderr",
     "output_type": "stream",
     "text": [
      "Implement final epoch properly\n"
     ]
    },
    {
     "name": "stdout",
     "output_type": "stream",
     "text": [
      "Improved metric to 0.226398, resetting counter.\n"
     ]
    },
    {
     "data": {
      "application/vnd.jupyter.widget-view+json": {
       "model_id": "23d6c30eaf0b44d1b646afd5e85a335d",
       "version_major": 2,
       "version_minor": 0
      },
      "text/plain": [
       "0it [00:00, ?it/s]"
      ]
     },
     "metadata": {},
     "output_type": "display_data"
    },
    {
     "name": "stderr",
     "output_type": "stream",
     "text": [
      "Implement final epoch properly\n"
     ]
    },
    {
     "name": "stdout",
     "output_type": "stream",
     "text": [
      "Improved metric to 0.226221, resetting counter.\n"
     ]
    },
    {
     "data": {
      "application/vnd.jupyter.widget-view+json": {
       "model_id": "b67f10ba4f73499e8b6bfb6f8fcd42f0",
       "version_major": 2,
       "version_minor": 0
      },
      "text/plain": [
       "0it [00:00, ?it/s]"
      ]
     },
     "metadata": {},
     "output_type": "display_data"
    },
    {
     "name": "stderr",
     "output_type": "stream",
     "text": [
      "Implement final epoch properly\n"
     ]
    },
    {
     "name": "stdout",
     "output_type": "stream",
     "text": [
      "Improved metric to 0.225841, resetting counter.\n"
     ]
    },
    {
     "data": {
      "application/vnd.jupyter.widget-view+json": {
       "model_id": "463fb2c6176445fc885c8e1b7ca6f20d",
       "version_major": 2,
       "version_minor": 0
      },
      "text/plain": [
       "0it [00:00, ?it/s]"
      ]
     },
     "metadata": {},
     "output_type": "display_data"
    },
    {
     "name": "stderr",
     "output_type": "stream",
     "text": [
      "Implement final epoch properly\n"
     ]
    },
    {
     "name": "stdout",
     "output_type": "stream",
     "text": [
      "No improvement. Counter at 1/5\n"
     ]
    },
    {
     "data": {
      "application/vnd.jupyter.widget-view+json": {
       "model_id": "dff174d6d01e40ce9de5645b40ad9000",
       "version_major": 2,
       "version_minor": 0
      },
      "text/plain": [
       "0it [00:00, ?it/s]"
      ]
     },
     "metadata": {},
     "output_type": "display_data"
    },
    {
     "name": "stderr",
     "output_type": "stream",
     "text": [
      "Implement final epoch properly\n"
     ]
    },
    {
     "name": "stdout",
     "output_type": "stream",
     "text": [
      "Improved metric to 0.224683, resetting counter.\n"
     ]
    },
    {
     "data": {
      "application/vnd.jupyter.widget-view+json": {
       "model_id": "cb7cfa3745b44ef4b266875176afe6e1",
       "version_major": 2,
       "version_minor": 0
      },
      "text/plain": [
       "0it [00:00, ?it/s]"
      ]
     },
     "metadata": {},
     "output_type": "display_data"
    },
    {
     "name": "stderr",
     "output_type": "stream",
     "text": [
      "Implement final epoch properly\n"
     ]
    },
    {
     "name": "stdout",
     "output_type": "stream",
     "text": [
      "No improvement. Counter at 1/5\n"
     ]
    },
    {
     "data": {
      "application/vnd.jupyter.widget-view+json": {
       "model_id": "0ed09a24407a4b67a1bc364964f6fa25",
       "version_major": 2,
       "version_minor": 0
      },
      "text/plain": [
       "0it [00:00, ?it/s]"
      ]
     },
     "metadata": {},
     "output_type": "display_data"
    },
    {
     "name": "stderr",
     "output_type": "stream",
     "text": [
      "Implement final epoch properly\n"
     ]
    },
    {
     "name": "stdout",
     "output_type": "stream",
     "text": [
      "Improved metric to 0.224280, resetting counter.\n"
     ]
    },
    {
     "data": {
      "application/vnd.jupyter.widget-view+json": {
       "model_id": "b1e24c8b07d04bb8b6520ee412445473",
       "version_major": 2,
       "version_minor": 0
      },
      "text/plain": [
       "0it [00:00, ?it/s]"
      ]
     },
     "metadata": {},
     "output_type": "display_data"
    },
    {
     "name": "stderr",
     "output_type": "stream",
     "text": [
      "Implement final epoch properly\n"
     ]
    },
    {
     "name": "stdout",
     "output_type": "stream",
     "text": [
      "No improvement. Counter at 1/5\n"
     ]
    },
    {
     "data": {
      "application/vnd.jupyter.widget-view+json": {
       "model_id": "7575b528883049eeb91a50a1fe42a072",
       "version_major": 2,
       "version_minor": 0
      },
      "text/plain": [
       "0it [00:00, ?it/s]"
      ]
     },
     "metadata": {},
     "output_type": "display_data"
    },
    {
     "name": "stderr",
     "output_type": "stream",
     "text": [
      "Implement final epoch properly\n"
     ]
    },
    {
     "name": "stdout",
     "output_type": "stream",
     "text": [
      "Improved metric to 0.222765, resetting counter.\n"
     ]
    },
    {
     "data": {
      "application/vnd.jupyter.widget-view+json": {
       "model_id": "6997c80889e1414da4426d6022d6db44",
       "version_major": 2,
       "version_minor": 0
      },
      "text/plain": [
       "0it [00:00, ?it/s]"
      ]
     },
     "metadata": {},
     "output_type": "display_data"
    },
    {
     "name": "stderr",
     "output_type": "stream",
     "text": [
      "Implement final epoch properly\n"
     ]
    },
    {
     "name": "stdout",
     "output_type": "stream",
     "text": [
      "No improvement. Counter at 1/5\n"
     ]
    },
    {
     "data": {
      "application/vnd.jupyter.widget-view+json": {
       "model_id": "07317e4325054542a276cd6c99b3ebf1",
       "version_major": 2,
       "version_minor": 0
      },
      "text/plain": [
       "0it [00:00, ?it/s]"
      ]
     },
     "metadata": {},
     "output_type": "display_data"
    },
    {
     "name": "stderr",
     "output_type": "stream",
     "text": [
      "Implement final epoch properly\n"
     ]
    },
    {
     "name": "stdout",
     "output_type": "stream",
     "text": [
      "No improvement. Counter at 2/5\n"
     ]
    },
    {
     "data": {
      "application/vnd.jupyter.widget-view+json": {
       "model_id": "dfbce2c77d8347698513574ecba7c713",
       "version_major": 2,
       "version_minor": 0
      },
      "text/plain": [
       "0it [00:00, ?it/s]"
      ]
     },
     "metadata": {},
     "output_type": "display_data"
    },
    {
     "name": "stderr",
     "output_type": "stream",
     "text": [
      "Implement final epoch properly\n"
     ]
    },
    {
     "name": "stdout",
     "output_type": "stream",
     "text": [
      "Improved metric to 0.222414, resetting counter.\n"
     ]
    },
    {
     "data": {
      "application/vnd.jupyter.widget-view+json": {
       "model_id": "a2f401057ffe4befa8c167edf4751122",
       "version_major": 2,
       "version_minor": 0
      },
      "text/plain": [
       "0it [00:00, ?it/s]"
      ]
     },
     "metadata": {},
     "output_type": "display_data"
    },
    {
     "name": "stderr",
     "output_type": "stream",
     "text": [
      "Implement final epoch properly\n"
     ]
    },
    {
     "name": "stdout",
     "output_type": "stream",
     "text": [
      "Improved metric to 0.222058, resetting counter.\n"
     ]
    },
    {
     "data": {
      "application/vnd.jupyter.widget-view+json": {
       "model_id": "faa7eda31b8b409c9fa35ff4de0ea4d3",
       "version_major": 2,
       "version_minor": 0
      },
      "text/plain": [
       "0it [00:00, ?it/s]"
      ]
     },
     "metadata": {},
     "output_type": "display_data"
    },
    {
     "name": "stderr",
     "output_type": "stream",
     "text": [
      "Implement final epoch properly\n"
     ]
    },
    {
     "name": "stdout",
     "output_type": "stream",
     "text": [
      "Improved metric to 0.221922, resetting counter.\n"
     ]
    },
    {
     "data": {
      "application/vnd.jupyter.widget-view+json": {
       "model_id": "ebb2136b899a4b33b5c841a249525bee",
       "version_major": 2,
       "version_minor": 0
      },
      "text/plain": [
       "0it [00:00, ?it/s]"
      ]
     },
     "metadata": {},
     "output_type": "display_data"
    },
    {
     "name": "stderr",
     "output_type": "stream",
     "text": [
      "Implement final epoch properly\n"
     ]
    },
    {
     "name": "stdout",
     "output_type": "stream",
     "text": [
      "Improved metric to 0.221674, resetting counter.\n"
     ]
    },
    {
     "data": {
      "application/vnd.jupyter.widget-view+json": {
       "model_id": "1812e382e9b0496bb1a5f2fce8e0270a",
       "version_major": 2,
       "version_minor": 0
      },
      "text/plain": [
       "0it [00:00, ?it/s]"
      ]
     },
     "metadata": {},
     "output_type": "display_data"
    },
    {
     "name": "stderr",
     "output_type": "stream",
     "text": [
      "Implement final epoch properly\n"
     ]
    },
    {
     "name": "stdout",
     "output_type": "stream",
     "text": [
      "Improved metric to 0.220940, resetting counter.\n"
     ]
    },
    {
     "data": {
      "application/vnd.jupyter.widget-view+json": {
       "model_id": "76f5e454edb247c590f9d8cd88db257b",
       "version_major": 2,
       "version_minor": 0
      },
      "text/plain": [
       "0it [00:00, ?it/s]"
      ]
     },
     "metadata": {},
     "output_type": "display_data"
    },
    {
     "name": "stderr",
     "output_type": "stream",
     "text": [
      "Implement final epoch properly\n"
     ]
    },
    {
     "name": "stdout",
     "output_type": "stream",
     "text": [
      "Improved metric to 0.220332, resetting counter.\n"
     ]
    },
    {
     "data": {
      "application/vnd.jupyter.widget-view+json": {
       "model_id": "da7433c6368d49be87101e25cf4201b5",
       "version_major": 2,
       "version_minor": 0
      },
      "text/plain": [
       "0it [00:00, ?it/s]"
      ]
     },
     "metadata": {},
     "output_type": "display_data"
    },
    {
     "name": "stderr",
     "output_type": "stream",
     "text": [
      "Implement final epoch properly\n"
     ]
    },
    {
     "name": "stdout",
     "output_type": "stream",
     "text": [
      "No improvement. Counter at 1/5\n"
     ]
    },
    {
     "data": {
      "application/vnd.jupyter.widget-view+json": {
       "model_id": "cc00f27cd5154ceeab0f1c7b0387a399",
       "version_major": 2,
       "version_minor": 0
      },
      "text/plain": [
       "0it [00:00, ?it/s]"
      ]
     },
     "metadata": {},
     "output_type": "display_data"
    },
    {
     "name": "stderr",
     "output_type": "stream",
     "text": [
      "Implement final epoch properly\n"
     ]
    },
    {
     "name": "stdout",
     "output_type": "stream",
     "text": [
      "Improved metric to 0.219529, resetting counter.\n"
     ]
    },
    {
     "data": {
      "application/vnd.jupyter.widget-view+json": {
       "model_id": "d6dc13bdfb734f82aa5e5f9684bc1911",
       "version_major": 2,
       "version_minor": 0
      },
      "text/plain": [
       "0it [00:00, ?it/s]"
      ]
     },
     "metadata": {},
     "output_type": "display_data"
    },
    {
     "name": "stderr",
     "output_type": "stream",
     "text": [
      "Implement final epoch properly\n"
     ]
    },
    {
     "name": "stdout",
     "output_type": "stream",
     "text": [
      "Improved metric to 0.219299, resetting counter.\n"
     ]
    },
    {
     "data": {
      "application/vnd.jupyter.widget-view+json": {
       "model_id": "1259942ecf4647d1ac4dfea1d93e8304",
       "version_major": 2,
       "version_minor": 0
      },
      "text/plain": [
       "0it [00:00, ?it/s]"
      ]
     },
     "metadata": {},
     "output_type": "display_data"
    },
    {
     "name": "stderr",
     "output_type": "stream",
     "text": [
      "Implement final epoch properly\n"
     ]
    },
    {
     "name": "stdout",
     "output_type": "stream",
     "text": [
      "Improved metric to 0.218411, resetting counter.\n"
     ]
    },
    {
     "data": {
      "application/vnd.jupyter.widget-view+json": {
       "model_id": "9ecb3809bda94c4680c4f1574dc6a58c",
       "version_major": 2,
       "version_minor": 0
      },
      "text/plain": [
       "0it [00:00, ?it/s]"
      ]
     },
     "metadata": {},
     "output_type": "display_data"
    },
    {
     "name": "stderr",
     "output_type": "stream",
     "text": [
      "Implement final epoch properly\n"
     ]
    },
    {
     "name": "stdout",
     "output_type": "stream",
     "text": [
      "Improved metric to 0.217910, resetting counter.\n"
     ]
    },
    {
     "data": {
      "application/vnd.jupyter.widget-view+json": {
       "model_id": "91b4ab61958b4a948efe646430b129cf",
       "version_major": 2,
       "version_minor": 0
      },
      "text/plain": [
       "0it [00:00, ?it/s]"
      ]
     },
     "metadata": {},
     "output_type": "display_data"
    },
    {
     "name": "stderr",
     "output_type": "stream",
     "text": [
      "Implement final epoch properly\n"
     ]
    },
    {
     "name": "stdout",
     "output_type": "stream",
     "text": [
      "Improved metric to 0.217120, resetting counter.\n"
     ]
    },
    {
     "data": {
      "application/vnd.jupyter.widget-view+json": {
       "model_id": "ec18433959d044d1ad44cdf1c5232a12",
       "version_major": 2,
       "version_minor": 0
      },
      "text/plain": [
       "0it [00:00, ?it/s]"
      ]
     },
     "metadata": {},
     "output_type": "display_data"
    },
    {
     "name": "stderr",
     "output_type": "stream",
     "text": [
      "Implement final epoch properly\n"
     ]
    },
    {
     "name": "stdout",
     "output_type": "stream",
     "text": [
      "Improved metric to 0.216273, resetting counter.\n"
     ]
    },
    {
     "data": {
      "application/vnd.jupyter.widget-view+json": {
       "model_id": "fbe27fa483c34617bc97e6c49fecdc03",
       "version_major": 2,
       "version_minor": 0
      },
      "text/plain": [
       "0it [00:00, ?it/s]"
      ]
     },
     "metadata": {},
     "output_type": "display_data"
    },
    {
     "name": "stderr",
     "output_type": "stream",
     "text": [
      "Implement final epoch properly\n"
     ]
    },
    {
     "name": "stdout",
     "output_type": "stream",
     "text": [
      "No improvement. Counter at 1/5\n"
     ]
    },
    {
     "data": {
      "application/vnd.jupyter.widget-view+json": {
       "model_id": "12a9bf828e9e4636a2e1e5635791dd91",
       "version_major": 2,
       "version_minor": 0
      },
      "text/plain": [
       "0it [00:00, ?it/s]"
      ]
     },
     "metadata": {},
     "output_type": "display_data"
    },
    {
     "name": "stderr",
     "output_type": "stream",
     "text": [
      "Implement final epoch properly\n"
     ]
    },
    {
     "name": "stdout",
     "output_type": "stream",
     "text": [
      "No improvement. Counter at 2/5\n"
     ]
    },
    {
     "data": {
      "application/vnd.jupyter.widget-view+json": {
       "model_id": "090c7fbc1a8d4cde8d17a16a1eab7cea",
       "version_major": 2,
       "version_minor": 0
      },
      "text/plain": [
       "0it [00:00, ?it/s]"
      ]
     },
     "metadata": {},
     "output_type": "display_data"
    },
    {
     "name": "stderr",
     "output_type": "stream",
     "text": [
      "Implement final epoch properly\n"
     ]
    },
    {
     "name": "stdout",
     "output_type": "stream",
     "text": [
      "Improved metric to 0.215270, resetting counter.\n"
     ]
    },
    {
     "data": {
      "application/vnd.jupyter.widget-view+json": {
       "model_id": "e0a0de35597b47b68616f12098cf6a5c",
       "version_major": 2,
       "version_minor": 0
      },
      "text/plain": [
       "0it [00:00, ?it/s]"
      ]
     },
     "metadata": {},
     "output_type": "display_data"
    },
    {
     "name": "stderr",
     "output_type": "stream",
     "text": [
      "Implement final epoch properly\n"
     ]
    },
    {
     "name": "stdout",
     "output_type": "stream",
     "text": [
      "Improved metric to 0.215119, resetting counter.\n"
     ]
    },
    {
     "data": {
      "application/vnd.jupyter.widget-view+json": {
       "model_id": "59f471d788b84aaea1b5e6b38fc68d88",
       "version_major": 2,
       "version_minor": 0
      },
      "text/plain": [
       "0it [00:00, ?it/s]"
      ]
     },
     "metadata": {},
     "output_type": "display_data"
    },
    {
     "name": "stderr",
     "output_type": "stream",
     "text": [
      "Implement final epoch properly\n"
     ]
    },
    {
     "name": "stdout",
     "output_type": "stream",
     "text": [
      "Improved metric to 0.214467, resetting counter.\n"
     ]
    },
    {
     "data": {
      "application/vnd.jupyter.widget-view+json": {
       "model_id": "ba3ea626bbb945e39155c4911d1e3580",
       "version_major": 2,
       "version_minor": 0
      },
      "text/plain": [
       "0it [00:00, ?it/s]"
      ]
     },
     "metadata": {},
     "output_type": "display_data"
    },
    {
     "name": "stderr",
     "output_type": "stream",
     "text": [
      "Implement final epoch properly\n"
     ]
    },
    {
     "name": "stdout",
     "output_type": "stream",
     "text": [
      "Improved metric to 0.214110, resetting counter.\n"
     ]
    },
    {
     "data": {
      "application/vnd.jupyter.widget-view+json": {
       "model_id": "defff995e8cb45d59cc3d8a4005a52d6",
       "version_major": 2,
       "version_minor": 0
      },
      "text/plain": [
       "0it [00:00, ?it/s]"
      ]
     },
     "metadata": {},
     "output_type": "display_data"
    },
    {
     "name": "stderr",
     "output_type": "stream",
     "text": [
      "Implement final epoch properly\n"
     ]
    },
    {
     "name": "stdout",
     "output_type": "stream",
     "text": [
      "Improved metric to 0.212584, resetting counter.\n"
     ]
    },
    {
     "data": {
      "application/vnd.jupyter.widget-view+json": {
       "model_id": "a37da1ebce48466b9b95da1e36b85f03",
       "version_major": 2,
       "version_minor": 0
      },
      "text/plain": [
       "0it [00:00, ?it/s]"
      ]
     },
     "metadata": {},
     "output_type": "display_data"
    },
    {
     "name": "stderr",
     "output_type": "stream",
     "text": [
      "Implement final epoch properly\n"
     ]
    },
    {
     "name": "stdout",
     "output_type": "stream",
     "text": [
      "No improvement. Counter at 1/5\n"
     ]
    },
    {
     "data": {
      "application/vnd.jupyter.widget-view+json": {
       "model_id": "d3a3ab3b3e624e5883ac932ccbb6694b",
       "version_major": 2,
       "version_minor": 0
      },
      "text/plain": [
       "0it [00:00, ?it/s]"
      ]
     },
     "metadata": {},
     "output_type": "display_data"
    },
    {
     "name": "stderr",
     "output_type": "stream",
     "text": [
      "Implement final epoch properly\n"
     ]
    },
    {
     "name": "stdout",
     "output_type": "stream",
     "text": [
      "Improved metric to 0.212153, resetting counter.\n"
     ]
    },
    {
     "data": {
      "application/vnd.jupyter.widget-view+json": {
       "model_id": "83d202b950004026a9982300bb64e342",
       "version_major": 2,
       "version_minor": 0
      },
      "text/plain": [
       "0it [00:00, ?it/s]"
      ]
     },
     "metadata": {},
     "output_type": "display_data"
    },
    {
     "name": "stderr",
     "output_type": "stream",
     "text": [
      "Implement final epoch properly\n"
     ]
    },
    {
     "name": "stdout",
     "output_type": "stream",
     "text": [
      "No improvement. Counter at 1/5\n"
     ]
    },
    {
     "data": {
      "application/vnd.jupyter.widget-view+json": {
       "model_id": "0e4fcfb2cdbc4a1397b35e007d76cbc2",
       "version_major": 2,
       "version_minor": 0
      },
      "text/plain": [
       "0it [00:00, ?it/s]"
      ]
     },
     "metadata": {},
     "output_type": "display_data"
    },
    {
     "name": "stderr",
     "output_type": "stream",
     "text": [
      "Implement final epoch properly\n"
     ]
    },
    {
     "name": "stdout",
     "output_type": "stream",
     "text": [
      "Improved metric to 0.211916, resetting counter.\n"
     ]
    },
    {
     "data": {
      "application/vnd.jupyter.widget-view+json": {
       "model_id": "a51be00ff827426e88ae030448e9f2f5",
       "version_major": 2,
       "version_minor": 0
      },
      "text/plain": [
       "0it [00:00, ?it/s]"
      ]
     },
     "metadata": {},
     "output_type": "display_data"
    },
    {
     "name": "stderr",
     "output_type": "stream",
     "text": [
      "Implement final epoch properly\n"
     ]
    },
    {
     "name": "stdout",
     "output_type": "stream",
     "text": [
      "Improved metric to 0.210928, resetting counter.\n"
     ]
    },
    {
     "data": {
      "application/vnd.jupyter.widget-view+json": {
       "model_id": "3c4bb6b87e5245afba6a973d9f5e7537",
       "version_major": 2,
       "version_minor": 0
      },
      "text/plain": [
       "0it [00:00, ?it/s]"
      ]
     },
     "metadata": {},
     "output_type": "display_data"
    },
    {
     "name": "stderr",
     "output_type": "stream",
     "text": [
      "Implement final epoch properly\n"
     ]
    },
    {
     "name": "stdout",
     "output_type": "stream",
     "text": [
      "No improvement. Counter at 1/5\n"
     ]
    },
    {
     "data": {
      "application/vnd.jupyter.widget-view+json": {
       "model_id": "e4273a1ab0b9480d8a6e92cc8f773c26",
       "version_major": 2,
       "version_minor": 0
      },
      "text/plain": [
       "0it [00:00, ?it/s]"
      ]
     },
     "metadata": {},
     "output_type": "display_data"
    },
    {
     "name": "stderr",
     "output_type": "stream",
     "text": [
      "Implement final epoch properly\n"
     ]
    },
    {
     "name": "stdout",
     "output_type": "stream",
     "text": [
      "Improved metric to 0.210290, resetting counter.\n"
     ]
    },
    {
     "data": {
      "application/vnd.jupyter.widget-view+json": {
       "model_id": "98cd94e261574e5099ae87a93bb4a5e0",
       "version_major": 2,
       "version_minor": 0
      },
      "text/plain": [
       "0it [00:00, ?it/s]"
      ]
     },
     "metadata": {},
     "output_type": "display_data"
    },
    {
     "name": "stderr",
     "output_type": "stream",
     "text": [
      "Implement final epoch properly\n"
     ]
    },
    {
     "name": "stdout",
     "output_type": "stream",
     "text": [
      "Improved metric to 0.209371, resetting counter.\n"
     ]
    },
    {
     "data": {
      "application/vnd.jupyter.widget-view+json": {
       "model_id": "9eb6619a3ba24146889e0702c1907316",
       "version_major": 2,
       "version_minor": 0
      },
      "text/plain": [
       "0it [00:00, ?it/s]"
      ]
     },
     "metadata": {},
     "output_type": "display_data"
    },
    {
     "name": "stderr",
     "output_type": "stream",
     "text": [
      "Implement final epoch properly\n"
     ]
    },
    {
     "name": "stdout",
     "output_type": "stream",
     "text": [
      "Improved metric to 0.208740, resetting counter.\n"
     ]
    },
    {
     "data": {
      "application/vnd.jupyter.widget-view+json": {
       "model_id": "f7c315a199b2496999442a5f93f967a7",
       "version_major": 2,
       "version_minor": 0
      },
      "text/plain": [
       "0it [00:00, ?it/s]"
      ]
     },
     "metadata": {},
     "output_type": "display_data"
    },
    {
     "name": "stderr",
     "output_type": "stream",
     "text": [
      "Implement final epoch properly\n"
     ]
    },
    {
     "name": "stdout",
     "output_type": "stream",
     "text": [
      "No improvement. Counter at 1/5\n"
     ]
    },
    {
     "data": {
      "application/vnd.jupyter.widget-view+json": {
       "model_id": "c1d9c32a1f4b4537bcf251677d47bad5",
       "version_major": 2,
       "version_minor": 0
      },
      "text/plain": [
       "0it [00:00, ?it/s]"
      ]
     },
     "metadata": {},
     "output_type": "display_data"
    },
    {
     "name": "stderr",
     "output_type": "stream",
     "text": [
      "Implement final epoch properly\n"
     ]
    },
    {
     "name": "stdout",
     "output_type": "stream",
     "text": [
      "No improvement. Counter at 2/5\n"
     ]
    },
    {
     "data": {
      "application/vnd.jupyter.widget-view+json": {
       "model_id": "01a5eab252064dcd8131e393137fddb6",
       "version_major": 2,
       "version_minor": 0
      },
      "text/plain": [
       "0it [00:00, ?it/s]"
      ]
     },
     "metadata": {},
     "output_type": "display_data"
    },
    {
     "name": "stderr",
     "output_type": "stream",
     "text": [
      "Implement final epoch properly\n"
     ]
    },
    {
     "name": "stdout",
     "output_type": "stream",
     "text": [
      "Improved metric to 0.207728, resetting counter.\n"
     ]
    },
    {
     "data": {
      "application/vnd.jupyter.widget-view+json": {
       "model_id": "4d084b6977604e90ba1e849f118e3499",
       "version_major": 2,
       "version_minor": 0
      },
      "text/plain": [
       "0it [00:00, ?it/s]"
      ]
     },
     "metadata": {},
     "output_type": "display_data"
    },
    {
     "name": "stderr",
     "output_type": "stream",
     "text": [
      "Implement final epoch properly\n"
     ]
    },
    {
     "name": "stdout",
     "output_type": "stream",
     "text": [
      "Improved metric to 0.206941, resetting counter.\n"
     ]
    },
    {
     "data": {
      "application/vnd.jupyter.widget-view+json": {
       "model_id": "329ce0a721aa44e986c40480cb085dad",
       "version_major": 2,
       "version_minor": 0
      },
      "text/plain": [
       "0it [00:00, ?it/s]"
      ]
     },
     "metadata": {},
     "output_type": "display_data"
    },
    {
     "name": "stderr",
     "output_type": "stream",
     "text": [
      "Implement final epoch properly\n"
     ]
    },
    {
     "name": "stdout",
     "output_type": "stream",
     "text": [
      "Improved metric to 0.206424, resetting counter.\n"
     ]
    },
    {
     "data": {
      "application/vnd.jupyter.widget-view+json": {
       "model_id": "bfbdb6899394434fbd91cd8f6e9b0738",
       "version_major": 2,
       "version_minor": 0
      },
      "text/plain": [
       "0it [00:00, ?it/s]"
      ]
     },
     "metadata": {},
     "output_type": "display_data"
    },
    {
     "name": "stderr",
     "output_type": "stream",
     "text": [
      "Implement final epoch properly\n"
     ]
    },
    {
     "name": "stdout",
     "output_type": "stream",
     "text": [
      "No improvement. Counter at 1/5\n"
     ]
    },
    {
     "data": {
      "application/vnd.jupyter.widget-view+json": {
       "model_id": "1b7c047216844b37b3c7dae7f315cded",
       "version_major": 2,
       "version_minor": 0
      },
      "text/plain": [
       "0it [00:00, ?it/s]"
      ]
     },
     "metadata": {},
     "output_type": "display_data"
    },
    {
     "name": "stderr",
     "output_type": "stream",
     "text": [
      "Implement final epoch properly\n"
     ]
    },
    {
     "name": "stdout",
     "output_type": "stream",
     "text": [
      "Improved metric to 0.205011, resetting counter.\n"
     ]
    },
    {
     "data": {
      "application/vnd.jupyter.widget-view+json": {
       "model_id": "438065d6063a4c79acd367a9fc84d60a",
       "version_major": 2,
       "version_minor": 0
      },
      "text/plain": [
       "0it [00:00, ?it/s]"
      ]
     },
     "metadata": {},
     "output_type": "display_data"
    },
    {
     "name": "stderr",
     "output_type": "stream",
     "text": [
      "Implement final epoch properly\n"
     ]
    },
    {
     "name": "stdout",
     "output_type": "stream",
     "text": [
      "Improved metric to 0.204837, resetting counter.\n"
     ]
    },
    {
     "data": {
      "application/vnd.jupyter.widget-view+json": {
       "model_id": "d6a90b4c625e441d9942ead5f5135dab",
       "version_major": 2,
       "version_minor": 0
      },
      "text/plain": [
       "0it [00:00, ?it/s]"
      ]
     },
     "metadata": {},
     "output_type": "display_data"
    },
    {
     "name": "stderr",
     "output_type": "stream",
     "text": [
      "Implement final epoch properly\n"
     ]
    },
    {
     "name": "stdout",
     "output_type": "stream",
     "text": [
      "No improvement. Counter at 1/5\n"
     ]
    },
    {
     "data": {
      "application/vnd.jupyter.widget-view+json": {
       "model_id": "5053f68e8b3b438ca92d9244935c1d05",
       "version_major": 2,
       "version_minor": 0
      },
      "text/plain": [
       "0it [00:00, ?it/s]"
      ]
     },
     "metadata": {},
     "output_type": "display_data"
    },
    {
     "name": "stderr",
     "output_type": "stream",
     "text": [
      "Implement final epoch properly\n"
     ]
    },
    {
     "name": "stdout",
     "output_type": "stream",
     "text": [
      "Improved metric to 0.203868, resetting counter.\n"
     ]
    },
    {
     "data": {
      "application/vnd.jupyter.widget-view+json": {
       "model_id": "fe2646d4e28e4812974f4ae3b07c8f9f",
       "version_major": 2,
       "version_minor": 0
      },
      "text/plain": [
       "0it [00:00, ?it/s]"
      ]
     },
     "metadata": {},
     "output_type": "display_data"
    },
    {
     "name": "stderr",
     "output_type": "stream",
     "text": [
      "Implement final epoch properly\n"
     ]
    },
    {
     "name": "stdout",
     "output_type": "stream",
     "text": [
      "Improved metric to 0.203149, resetting counter.\n"
     ]
    },
    {
     "data": {
      "application/vnd.jupyter.widget-view+json": {
       "model_id": "f8d60544cf2c47078d105a5624f347e3",
       "version_major": 2,
       "version_minor": 0
      },
      "text/plain": [
       "0it [00:00, ?it/s]"
      ]
     },
     "metadata": {},
     "output_type": "display_data"
    },
    {
     "name": "stderr",
     "output_type": "stream",
     "text": [
      "Implement final epoch properly\n"
     ]
    },
    {
     "name": "stdout",
     "output_type": "stream",
     "text": [
      "No improvement. Counter at 1/5\n"
     ]
    },
    {
     "data": {
      "application/vnd.jupyter.widget-view+json": {
       "model_id": "36c4c89bdf2b49c79fe34ec03434aef4",
       "version_major": 2,
       "version_minor": 0
      },
      "text/plain": [
       "0it [00:00, ?it/s]"
      ]
     },
     "metadata": {},
     "output_type": "display_data"
    },
    {
     "name": "stderr",
     "output_type": "stream",
     "text": [
      "Implement final epoch properly\n"
     ]
    },
    {
     "name": "stdout",
     "output_type": "stream",
     "text": [
      "Improved metric to 0.201909, resetting counter.\n"
     ]
    },
    {
     "data": {
      "application/vnd.jupyter.widget-view+json": {
       "model_id": "5fb1ba7d17fa4ef1b03c4531e907e5ad",
       "version_major": 2,
       "version_minor": 0
      },
      "text/plain": [
       "0it [00:00, ?it/s]"
      ]
     },
     "metadata": {},
     "output_type": "display_data"
    }
   ],
   "source": [
    "\n",
    "# Training...\n",
    "epochs = 3\n",
    "mo, _ = train(\n",
    "    model=ae_model,\n",
    "    train_data_loader=train_data_loader,\n",
    "    val_data_loader=val_data_loader,\n",
    "    gpu=gpu,\n",
    "    optimizer=optimizer,\n",
    "    criterion=criterion_dict[\"train\"],\n",
    "    epochs=epochs,\n",
    "    logger=logging.getLogger(),\n",
    "    save_dir='./model_checkpoints',\n",
    "    scheduler=None,\n",
    "    early_stopping_func=EarlyStopping(patience=5, tolerance=0.0001, direction=\"ls\", verbose=True),\n",
    "    es_action=\"stop\",\n",
    "    train_epoch_func=train_single_epoch,\n",
    "    val_epoch_func=validate_single_epoch,\n",
    "    mo=mo,\n",
    "    val_criterion=criterion_dict[\"val\"]\n",
    ")"
   ]
  },
  {
   "cell_type": "code",
   "execution_count": 17,
   "metadata": {},
   "outputs": [
    {
     "name": "stdout",
     "output_type": "stream",
     "text": [
      "Checkpoint loaded: ./model_checkpoints/mdl_chkpnt_epoch_367.pt at epoch 367\n",
      "Loss at checkpoint: 0.18527833439076125\n"
     ]
    }
   ],
   "source": [
    "import torch\n",
    "\n",
    "def load_checkpoint(model, optimizer, filename=\"mdl_chkpnt_epoch_1.pt\"):\n",
    "    \"\"\"\n",
    "    Load a model checkpoint.\n",
    "    \n",
    "    Args:\n",
    "        model (torch.nn.Module): The model that you want to load the checkpoint into.\n",
    "        optimizer (torch.optim.Optimizer): The optimizer used for training the model.\n",
    "        filename (str): Path to the checkpoint file.\n",
    "        \n",
    "    Returns:\n",
    "        int: The epoch number at which this checkpoint was saved.\n",
    "    \"\"\"\n",
    "    # Make sure to load the checkpoint according to the device\n",
    "    checkpoint = torch.load(filename, map_location=torch.device('cuda' if torch.cuda.is_available() else 'cpu'))\n",
    "    \n",
    "    model.load_state_dict(checkpoint['model_state_dict'])\n",
    "    optimizer.load_state_dict(checkpoint['optimizer_state_dict'])\n",
    "    epoch = checkpoint['epoch']\n",
    "    loss = checkpoint['loss']  # If you want to use it\n",
    "    \n",
    "    print(f\"Checkpoint loaded: {filename} at epoch {epoch}\")\n",
    "    print(f\"Loss at checkpoint: {loss}\")\n",
    "    \n",
    "    return epoch\n",
    "\n",
    "# Usage\n",
    "model = ae_model  # Your model\n",
    "optimizer = optimizer  # Your optimizer\n",
    "filename = './model_checkpoints/mdl_chkpnt_epoch_367.pt'  # Adjust the path and filename as needed\n",
    "\n",
    "last_epoch = load_checkpoint(model, optimizer, filename)\n",
    "\n",
    "# Continue training or evaluation from here\n"
   ]
  },
  {
   "cell_type": "code",
   "execution_count": null,
   "metadata": {},
   "outputs": [],
   "source": []
  },
  {
   "cell_type": "code",
   "execution_count": 131,
   "metadata": {},
   "outputs": [
    {
     "data": {
      "text/html": [
       "<div>\n",
       "<style scoped>\n",
       "    .dataframe tbody tr th:only-of-type {\n",
       "        vertical-align: middle;\n",
       "    }\n",
       "\n",
       "    .dataframe tbody tr th {\n",
       "        vertical-align: top;\n",
       "    }\n",
       "\n",
       "    .dataframe thead th {\n",
       "        text-align: right;\n",
       "    }\n",
       "</style>\n",
       "<table border=\"1\" class=\"dataframe\">\n",
       "  <thead>\n",
       "    <tr style=\"text-align: right;\">\n",
       "      <th></th>\n",
       "      <th>epoch</th>\n",
       "      <th>epoch_train_clust</th>\n",
       "      <th>epoch_train_loss</th>\n",
       "      <th>epoch_train_reconstruct</th>\n",
       "      <th>epoch_train_spread</th>\n",
       "      <th>epoch_val_clust</th>\n",
       "      <th>epoch_val_loss</th>\n",
       "      <th>epoch_val_reconstruct</th>\n",
       "      <th>epoch_val_spread</th>\n",
       "    </tr>\n",
       "  </thead>\n",
       "  <tbody>\n",
       "    <tr>\n",
       "      <th>0</th>\n",
       "      <td>1</td>\n",
       "      <td>8.756074</td>\n",
       "      <td>7.128835</td>\n",
       "      <td>8.751823</td>\n",
       "      <td>0.634754</td>\n",
       "      <td>7.242378</td>\n",
       "      <td>5.916216</td>\n",
       "      <td>7.235458</td>\n",
       "      <td>0.635791</td>\n",
       "    </tr>\n",
       "    <tr>\n",
       "      <th>1</th>\n",
       "      <td>2</td>\n",
       "      <td>5.537339</td>\n",
       "      <td>4.53485</td>\n",
       "      <td>5.502685</td>\n",
       "      <td>0.646181</td>\n",
       "      <td>3.791126</td>\n",
       "      <td>3.134043</td>\n",
       "      <td>3.749148</td>\n",
       "      <td>0.652635</td>\n",
       "    </tr>\n",
       "    <tr>\n",
       "      <th>2</th>\n",
       "      <td>3</td>\n",
       "      <td>3.375194</td>\n",
       "      <td>2.777325</td>\n",
       "      <td>3.298603</td>\n",
       "      <td>0.653919</td>\n",
       "      <td>3.050879</td>\n",
       "      <td>2.522971</td>\n",
       "      <td>2.981397</td>\n",
       "      <td>0.654525</td>\n",
       "    </tr>\n",
       "    <tr>\n",
       "      <th>3</th>\n",
       "      <td>4</td>\n",
       "      <td>3.15172</td>\n",
       "      <td>2.567507</td>\n",
       "      <td>3.031256</td>\n",
       "      <td>0.652276</td>\n",
       "      <td>3.001219</td>\n",
       "      <td>2.461815</td>\n",
       "      <td>2.902848</td>\n",
       "      <td>0.648498</td>\n",
       "    </tr>\n",
       "    <tr>\n",
       "      <th>4</th>\n",
       "      <td>5</td>\n",
       "      <td>3.146569</td>\n",
       "      <td>2.496599</td>\n",
       "      <td>2.933169</td>\n",
       "      <td>0.643619</td>\n",
       "      <td>2.911122</td>\n",
       "      <td>2.355806</td>\n",
       "      <td>2.766595</td>\n",
       "      <td>0.640383</td>\n",
       "    </tr>\n",
       "    <tr>\n",
       "      <th>...</th>\n",
       "      <td>...</td>\n",
       "      <td>...</td>\n",
       "      <td>...</td>\n",
       "      <td>...</td>\n",
       "      <td>...</td>\n",
       "      <td>...</td>\n",
       "      <td>...</td>\n",
       "      <td>...</td>\n",
       "      <td>...</td>\n",
       "    </tr>\n",
       "    <tr>\n",
       "      <th>95</th>\n",
       "      <td>96</td>\n",
       "      <td>1.945982</td>\n",
       "      <td>0.747289</td>\n",
       "      <td>0.531209</td>\n",
       "      <td>0.904219</td>\n",
       "      <td>1.354327</td>\n",
       "      <td>0.666589</td>\n",
       "      <td>0.503384</td>\n",
       "      <td>0.893938</td>\n",
       "    </tr>\n",
       "    <tr>\n",
       "      <th>96</th>\n",
       "      <td>97</td>\n",
       "      <td>1.952178</td>\n",
       "      <td>0.746678</td>\n",
       "      <td>0.528264</td>\n",
       "      <td>0.908376</td>\n",
       "      <td>1.41318</td>\n",
       "      <td>0.666271</td>\n",
       "      <td>0.499505</td>\n",
       "      <td>0.8765</td>\n",
       "    </tr>\n",
       "    <tr>\n",
       "      <th>97</th>\n",
       "      <td>98</td>\n",
       "      <td>1.942579</td>\n",
       "      <td>0.744527</td>\n",
       "      <td>0.525568</td>\n",
       "      <td>0.911857</td>\n",
       "      <td>1.329355</td>\n",
       "      <td>0.66235</td>\n",
       "      <td>0.497493</td>\n",
       "      <td>0.905846</td>\n",
       "    </tr>\n",
       "    <tr>\n",
       "      <th>98</th>\n",
       "      <td>99</td>\n",
       "      <td>1.93675</td>\n",
       "      <td>0.741054</td>\n",
       "      <td>0.522604</td>\n",
       "      <td>0.907781</td>\n",
       "      <td>1.454538</td>\n",
       "      <td>0.669467</td>\n",
       "      <td>0.494755</td>\n",
       "      <td>0.888421</td>\n",
       "    </tr>\n",
       "    <tr>\n",
       "      <th>99</th>\n",
       "      <td>100</td>\n",
       "      <td>1.95283</td>\n",
       "      <td>0.740869</td>\n",
       "      <td>0.519885</td>\n",
       "      <td>0.908334</td>\n",
       "      <td>1.401505</td>\n",
       "      <td>0.663988</td>\n",
       "      <td>0.492654</td>\n",
       "      <td>0.894898</td>\n",
       "    </tr>\n",
       "  </tbody>\n",
       "</table>\n",
       "<p>100 rows × 9 columns</p>\n",
       "</div>"
      ],
      "text/plain": [
       "    epoch epoch_train_clust epoch_train_loss epoch_train_reconstruct  \\\n",
       "0       1          8.756074         7.128835                8.751823   \n",
       "1       2          5.537339          4.53485                5.502685   \n",
       "2       3          3.375194         2.777325                3.298603   \n",
       "3       4           3.15172         2.567507                3.031256   \n",
       "4       5          3.146569         2.496599                2.933169   \n",
       "..    ...               ...              ...                     ...   \n",
       "95     96          1.945982         0.747289                0.531209   \n",
       "96     97          1.952178         0.746678                0.528264   \n",
       "97     98          1.942579         0.744527                0.525568   \n",
       "98     99           1.93675         0.741054                0.522604   \n",
       "99    100           1.95283         0.740869                0.519885   \n",
       "\n",
       "   epoch_train_spread epoch_val_clust epoch_val_loss epoch_val_reconstruct  \\\n",
       "0            0.634754        7.242378       5.916216              7.235458   \n",
       "1            0.646181        3.791126       3.134043              3.749148   \n",
       "2            0.653919        3.050879       2.522971              2.981397   \n",
       "3            0.652276        3.001219       2.461815              2.902848   \n",
       "4            0.643619        2.911122       2.355806              2.766595   \n",
       "..                ...             ...            ...                   ...   \n",
       "95           0.904219        1.354327       0.666589              0.503384   \n",
       "96           0.908376         1.41318       0.666271              0.499505   \n",
       "97           0.911857        1.329355        0.66235              0.497493   \n",
       "98           0.907781        1.454538       0.669467              0.494755   \n",
       "99           0.908334        1.401505       0.663988              0.492654   \n",
       "\n",
       "   epoch_val_spread  \n",
       "0          0.635791  \n",
       "1          0.652635  \n",
       "2          0.654525  \n",
       "3          0.648498  \n",
       "4          0.640383  \n",
       "..              ...  \n",
       "95         0.893938  \n",
       "96           0.8765  \n",
       "97         0.905846  \n",
       "98         0.888421  \n",
       "99         0.894898  \n",
       "\n",
       "[100 rows x 9 columns]"
      ]
     },
     "execution_count": 131,
     "metadata": {},
     "output_type": "execute_result"
    }
   ],
   "source": [
    "mo_df = mo.all_metrics_to_df()\n",
    "epoch_mo_df = mo_df[mo_df[\"metric_name\"].isin(['epoch_train_loss','epoch_val_loss'])]\n",
    "\n",
    "for i in [\"train\", \"val\"]:\n",
    "    for sub_m in ['reconstruct', 'clust', 'spread']:\n",
    "        # Filter the DataFrame for the specific metric\n",
    "        _tmp = mo_df[mo_df[\"metric_name\"] == f\"{i}_{sub_m}\"]\n",
    "        _tmp = _tmp.reset_index()\n",
    "        steps_per_epoch = _tmp.shape[0]/epochs\n",
    "\n",
    "        # Extract step numbers from the index names\n",
    "        _tmp['step'] = _tmp['index'].str.replace('exc_', '').astype(int)\n",
    "\n",
    "        # Calculate which epoch each step belongs to\n",
    "        _tmp['epoch'] = (_tmp['step'] // steps_per_epoch) + 1\n",
    "\n",
    "        # Group by the newly calculated 'epoch' and compute the mean of 'raw_vals'\n",
    "        _tmp_grouped = _tmp.groupby('epoch')['raw_vals'].mean().reset_index()\n",
    "        _tmp_grouped['metric_name'] = f\"epoch_{i}_{sub_m}\"\n",
    "\n",
    "        # Concatenate the current data to the main DataFrame\n",
    "        _tmp_grouped['epoch'] = _tmp_grouped['epoch'].apply(lambda x: f\"epoch_{int(x)}\")\n",
    "\n",
    "        # Set the index to 'step' for easier concatenation and consistency\n",
    "        _tmp_grouped.set_index('epoch', inplace=True)\n",
    "\n",
    "        # Concatenate the current data to the main DataFrame\n",
    "        epoch_mo_df = pd.concat([epoch_mo_df, _tmp_grouped])\n",
    "\n",
    "# Reset the index to use it in pivot\n",
    "epoch_mo_df.rename_axis('epoch', inplace=True)\n",
    "epoch_mo_df.reset_index(inplace=True)\n",
    "epoch_mo_df['epoch'] = epoch_mo_df['epoch'].str.replace('epoch_', '').astype(int)\n",
    "\n",
    "# Pivot the DataFrame to wide format\n",
    "pivot_df = epoch_mo_df.pivot(index='epoch', columns='metric_name', values='raw_vals')\n",
    "pivot_df.reset_index(inplace=True)\n",
    "pivot_df.columns.name = None  # Clean up the columns name to remove 'metric_name'\n",
    "\n",
    "with open(os.path.join('./model_checkpoints/evals.pkl'), \"wb\") as file:\n",
    "    pickle.dump(pivot_df, file)\n",
    "\n",
    "pivot_df\n"
   ]
  },
  {
   "cell_type": "code",
   "execution_count": null,
   "metadata": {},
   "outputs": [],
   "source": []
  },
  {
   "cell_type": "code",
   "execution_count": 20,
   "metadata": {},
   "outputs": [],
   "source": [
    "from pycox.models import DeepHitSingle\n",
    "from pycox.models import CoxPH\n",
    "from pycox.evaluation import EvalSurv\n",
    "from pycox.models.loss import rank_loss_deephit_single\n",
    "import functools\n",
    "\n",
    "\n",
    "from sksurv.linear_model import CoxPHSurvivalAnalysis\n",
    "from sksurv.functions import StepFunction\n",
    "from sksurv.metrics import (\n",
    "    concordance_index_censored as c_index,\n",
    "    cumulative_dynamic_auc,\n",
    "    integrated_brier_score,\n",
    "    as_integrated_brier_score_scorer\n",
    ")\n",
    "from sksurv.util import Surv\n",
    "from sksurv.ensemble import RandomSurvivalForest\n",
    "from sksurv.nonparametric import kaplan_meier_estimator\n",
    "\n",
    "from sklearn.utils import resample\n",
    "from sklearn.model_selection import KFold\n"
   ]
  },
  {
   "cell_type": "code",
   "execution_count": 21,
   "metadata": {},
   "outputs": [
    {
     "name": "stderr",
     "output_type": "stream",
     "text": [
      "/data/master/DS217/users/el2522/TTEAnalysis/pycox/preprocessing/label_transforms.py:113: UserWarning: Calling fit method, when 'cuts' are already defined. Leaving cuts unchanged.\n",
      "  warnings.warn(\"Calling fit method, when 'cuts' are already defined. Leaving cuts unchanged.\")\n"
     ]
    }
   ],
   "source": [
    "labtrans = DeepHitSingle.label_transform(cuts=np.unique(y_train[0]).astype(float))  # scheme='quantiles'\n",
    "y_train_disc = labtrans.fit_transform(*y_train)\n",
    "y_val_disc = labtrans.transform(*y_val)\n",
    "\n",
    "labtrans = DeepHitSingle.label_transform(cuts=np.unique(y_train[0]).astype(float))  # scheme='quantiles'\n",
    "y_train_val_disc = labtrans.fit_transform(*y_train_val)\n"
   ]
  },
  {
   "cell_type": "code",
   "execution_count": 22,
   "metadata": {},
   "outputs": [],
   "source": [
    "\n",
    "from sklearn.preprocessing import MinMaxScaler, OneHotEncoder\n",
    "\n",
    "def extract_features(dataset, model, include_clust_assign=False, scaler=None):\n",
    "    \"\"\"Extract features from a dataset using a pretrained model, \n",
    "    optionally including cluster assignments, and standardize features.\n",
    "\n",
    "    Args:\n",
    "        dataset (Union[np.ndarray, torch.Tensor]): Dataset to process.\n",
    "        model (torch.nn.Module): Pretrained model used for feature extraction.\n",
    "        include_clust_assign (bool): Whether to concatenate one-hot encoded cluster assignments with the latent vectors.\n",
    "        scaler (StandardScaler, optional): A pre-fitted scaler for standardizing features; if None, a new scaler will be fitted.\n",
    "\n",
    "    Returns:\n",
    "        np.ndarray: Processed features, possibly concatenated with one-hot encoded cluster assignments and standardized.\n",
    "    \"\"\"\n",
    "    # Ensure dataset is a torch.Tensor\n",
    "    if not isinstance(dataset, torch.Tensor):\n",
    "        dataset = torch.tensor(dataset, dtype=torch.float32)\n",
    "    \n",
    "    # Align dataset device with model device\n",
    "    model_device = next(model.parameters()).device\n",
    "    dataset = dataset.to(model_device)\n",
    "    \n",
    "    # Forward pass through the model in no_grad context\n",
    "    with torch.no_grad():\n",
    "        output = model(dataset)\n",
    "        features = output.encoded.cpu().detach().numpy()\n",
    "\n",
    "        if include_clust_assign:\n",
    "            clust_assign = output.clust_assign.cpu().detach().numpy()\n",
    "            encoder = OneHotEncoder(sparse_output=False)\n",
    "            clust_assign_encoded = encoder.fit_transform(clust_assign.reshape(-1, 1))\n",
    "            features = np.hstack((features, clust_assign_encoded))\n",
    "    \n",
    "    # Standardize features\n",
    "    if scaler is None:\n",
    "        scaler = MinMaxScaler()\n",
    "        features = scaler.fit_transform(features)\n",
    "    else:\n",
    "        features = scaler.transform(features)\n",
    "    \n",
    "    return features.astype(np.float32), scaler\n",
    "\n",
    "ae_model.eval()\n",
    "for param in ae_model.parameters():\n",
    "    param.requires_grad = False\n",
    "\n",
    "# For training, fit a new scaler\n",
    "Z_train, scaler = extract_features(X_train, ae_model, include_clust_assign=False)\n",
    "\n",
    "# For validation and testing, use the existing scaler\n",
    "Z_val, _ = extract_features(X_val, ae_model, include_clust_assign=False, scaler=scaler)\n",
    "Z_test, _ = extract_features(X_test, ae_model, include_clust_assign=False, scaler=scaler)\n"
   ]
  },
  {
   "cell_type": "code",
   "execution_count": null,
   "metadata": {},
   "outputs": [],
   "source": []
  },
  {
   "cell_type": "code",
   "execution_count": 24,
   "metadata": {},
   "outputs": [],
   "source": [
    "in_features = Z_train.shape[-1]\n",
    "out_features = labtrans.out_features\n",
    "hidden_dims = [64, 64, 32]\n",
    "batch_norm = True\n",
    "dropout = 0.5\n",
    "\n",
    "# net = RNN(input_dim = in_features, output_dim = out_features, dims = hidden_dims, \n",
    "#           rnn_n_layers=2, rnn_kwargs={'dropout': 0.5})\n",
    "\n",
    "# net = MLP(input_dim = in_features, output_dim = out_features, dims = hidden_dims\n",
    "\n",
    "net = tt.practical.MLPVanilla(in_features, hidden_dims, out_features, batch_norm, dropout)\n",
    "\n"
   ]
  },
  {
   "cell_type": "code",
   "execution_count": 25,
   "metadata": {},
   "outputs": [],
   "source": [
    "optimizer = torch.optim.Adam(net.parameters(), lr=1e-3, weight_decay=1e-4)\n",
    "deephit_mlp_model = DeepHitSingle(net, optimizer, alpha=0.5, sigma=0.3, duration_index=labtrans.cuts)"
   ]
  },
  {
   "cell_type": "code",
   "execution_count": 26,
   "metadata": {},
   "outputs": [],
   "source": [
    "import functools\n",
    "\n",
    "# Set sigma to a fixed value, e.g., 0.3\n",
    "fixed_sigma_rank_loss = functools.partial(rank_loss_deephit_single, sigma=0.3)"
   ]
  },
  {
   "cell_type": "code",
   "execution_count": 27,
   "metadata": {
    "scrolled": false
   },
   "outputs": [
    {
     "name": "stdout",
     "output_type": "stream",
     "text": [
      "0:\t[16s / 16s],\t\ttrain_loss: 1.6750,\ttrain_RankLoss: 0.3964,\tval_loss: 1.5174,\tval_RankLoss: 0.3683\n",
      "1:\t[14s / 30s],\t\ttrain_loss: 1.5597,\ttrain_RankLoss: 0.3897,\tval_loss: 1.4471,\tval_RankLoss: 0.3622\n",
      "2:\t[10s / 41s],\t\ttrain_loss: 1.5029,\ttrain_RankLoss: 0.3896,\tval_loss: 1.4130,\tval_RankLoss: 0.3575\n",
      "3:\t[5s / 46s],\t\ttrain_loss: 1.4655,\ttrain_RankLoss: 0.3866,\tval_loss: 1.3934,\tval_RankLoss: 0.3536\n",
      "4:\t[5s / 51s],\t\ttrain_loss: 1.4476,\ttrain_RankLoss: 0.3827,\tval_loss: 1.3829,\tval_RankLoss: 0.3504\n",
      "5:\t[4s / 56s],\t\ttrain_loss: 1.4330,\ttrain_RankLoss: 0.3766,\tval_loss: 1.3798,\tval_RankLoss: 0.3489\n",
      "6:\t[5s / 1m:1s],\t\ttrain_loss: 1.4254,\ttrain_RankLoss: 0.3743,\tval_loss: 1.3740,\tval_RankLoss: 0.3460\n",
      "7:\t[4s / 1m:6s],\t\ttrain_loss: 1.4158,\ttrain_RankLoss: 0.3697,\tval_loss: 1.3675,\tval_RankLoss: 0.3425\n",
      "8:\t[4s / 1m:11s],\t\ttrain_loss: 1.4118,\ttrain_RankLoss: 0.3674,\tval_loss: 1.3635,\tval_RankLoss: 0.3397\n",
      "9:\t[4s / 1m:16s],\t\ttrain_loss: 1.4090,\ttrain_RankLoss: 0.3669,\tval_loss: 1.3594,\tval_RankLoss: 0.3385\n",
      "10:\t[4s / 1m:21s],\t\ttrain_loss: 1.4036,\ttrain_RankLoss: 0.3639,\tval_loss: 1.3558,\tval_RankLoss: 0.3351\n",
      "11:\t[4s / 1m:26s],\t\ttrain_loss: 1.4000,\ttrain_RankLoss: 0.3628,\tval_loss: 1.3528,\tval_RankLoss: 0.3348\n",
      "12:\t[4s / 1m:30s],\t\ttrain_loss: 1.3983,\ttrain_RankLoss: 0.3610,\tval_loss: 1.3504,\tval_RankLoss: 0.3331\n",
      "13:\t[4s / 1m:35s],\t\ttrain_loss: 1.3961,\ttrain_RankLoss: 0.3598,\tval_loss: 1.3498,\tval_RankLoss: 0.3336\n",
      "14:\t[4s / 1m:40s],\t\ttrain_loss: 1.3947,\ttrain_RankLoss: 0.3607,\tval_loss: 1.3477,\tval_RankLoss: 0.3321\n",
      "15:\t[6s / 1m:46s],\t\ttrain_loss: 1.3904,\ttrain_RankLoss: 0.3579,\tval_loss: 1.3461,\tval_RankLoss: 0.3324\n",
      "16:\t[4s / 1m:51s],\t\ttrain_loss: 1.3888,\ttrain_RankLoss: 0.3570,\tval_loss: 1.3438,\tval_RankLoss: 0.3310\n",
      "17:\t[5s / 1m:56s],\t\ttrain_loss: 1.3859,\ttrain_RankLoss: 0.3556,\tval_loss: 1.3414,\tval_RankLoss: 0.3307\n",
      "18:\t[4s / 2m:1s],\t\ttrain_loss: 1.3802,\ttrain_RankLoss: 0.3541,\tval_loss: 1.3359,\tval_RankLoss: 0.3301\n",
      "19:\t[4s / 2m:6s],\t\ttrain_loss: 1.3816,\ttrain_RankLoss: 0.3555,\tval_loss: 1.3378,\tval_RankLoss: 0.3289\n",
      "20:\t[4s / 2m:11s],\t\ttrain_loss: 1.3792,\ttrain_RankLoss: 0.3542,\tval_loss: 1.3370,\tval_RankLoss: 0.3314\n",
      "21:\t[5s / 2m:16s],\t\ttrain_loss: 1.3741,\ttrain_RankLoss: 0.3512,\tval_loss: 1.3355,\tval_RankLoss: 0.3305\n",
      "22:\t[4s / 2m:21s],\t\ttrain_loss: 1.3796,\ttrain_RankLoss: 0.3530,\tval_loss: 1.3370,\tval_RankLoss: 0.3278\n",
      "23:\t[5s / 2m:26s],\t\ttrain_loss: 1.3745,\ttrain_RankLoss: 0.3511,\tval_loss: 1.3341,\tval_RankLoss: 0.3306\n",
      "24:\t[4s / 2m:31s],\t\ttrain_loss: 1.3737,\ttrain_RankLoss: 0.3521,\tval_loss: 1.3382,\tval_RankLoss: 0.3274\n",
      "25:\t[5s / 2m:36s],\t\ttrain_loss: 1.3723,\ttrain_RankLoss: 0.3502,\tval_loss: 1.3319,\tval_RankLoss: 0.3276\n",
      "26:\t[5s / 2m:41s],\t\ttrain_loss: 1.3705,\ttrain_RankLoss: 0.3499,\tval_loss: 1.3309,\tval_RankLoss: 0.3265\n",
      "27:\t[4s / 2m:46s],\t\ttrain_loss: 1.3729,\ttrain_RankLoss: 0.3519,\tval_loss: 1.3332,\tval_RankLoss: 0.3266\n",
      "28:\t[4s / 2m:51s],\t\ttrain_loss: 1.3698,\ttrain_RankLoss: 0.3498,\tval_loss: 1.3330,\tval_RankLoss: 0.3286\n",
      "29:\t[4s / 2m:56s],\t\ttrain_loss: 1.3666,\ttrain_RankLoss: 0.3476,\tval_loss: 1.3292,\tval_RankLoss: 0.3269\n",
      "30:\t[4s / 3m:0s],\t\ttrain_loss: 1.3676,\ttrain_RankLoss: 0.3484,\tval_loss: 1.3303,\tval_RankLoss: 0.3267\n",
      "31:\t[4s / 3m:5s],\t\ttrain_loss: 1.3665,\ttrain_RankLoss: 0.3486,\tval_loss: 1.3276,\tval_RankLoss: 0.3259\n",
      "32:\t[4s / 3m:10s],\t\ttrain_loss: 1.3642,\ttrain_RankLoss: 0.3473,\tval_loss: 1.3289,\tval_RankLoss: 0.3269\n",
      "33:\t[4s / 3m:15s],\t\ttrain_loss: 1.3625,\ttrain_RankLoss: 0.3463,\tval_loss: 1.3295,\tval_RankLoss: 0.3288\n",
      "34:\t[4s / 3m:20s],\t\ttrain_loss: 1.3644,\ttrain_RankLoss: 0.3469,\tval_loss: 1.3359,\tval_RankLoss: 0.3293\n",
      "35:\t[5s / 3m:25s],\t\ttrain_loss: 1.3633,\ttrain_RankLoss: 0.3465,\tval_loss: 1.3317,\tval_RankLoss: 0.3308\n",
      "36:\t[4s / 3m:29s],\t\ttrain_loss: 1.3629,\ttrain_RankLoss: 0.3468,\tval_loss: 1.3296,\tval_RankLoss: 0.3267\n"
     ]
    }
   ],
   "source": [
    "epochs = 100\n",
    "batch_size = 128\n",
    "\n",
    "callbacks = [\n",
    "    tt.callbacks.EarlyStopping(\n",
    "        patience=5,          # Number of epochs with no improvement after which training will be stopped\n",
    "        min_delta=0.0001,     # Minimum change considered as an improvement\n",
    "    ),\n",
    "#     tt.callbacks.LRSchedulerBatch(torch.optim.lr_scheduler.StepLR(optimizer, step_size=10, gamma=0.5)),\n",
    "    tt.callbacks.ClipGradNorm(net, max_norm=1.0),\n",
    "]\n",
    "\n",
    "log = deephit_mlp_model.fit(Z_train, y_train_disc, batch_size, epochs, \n",
    "                            callbacks, num_workers=8, val_data=(Z_val, y_val_disc), \n",
    "                            metrics={'RankLoss': fixed_sigma_rank_loss})\n"
   ]
  },
  {
   "cell_type": "code",
   "execution_count": 28,
   "metadata": {
    "scrolled": true
   },
   "outputs": [],
   "source": [
    "# Given your split, now let's create the structures for the survival analysis\n",
    "def create_survival_data(durations, events):\n",
    "    return Surv.from_arrays(event=events, time=durations)\n",
    "\n",
    "# Prepare survival data for fitting the models\n",
    "y_train_val_surv = create_survival_data(y_train_val[0], y_train_val[1])                                        \n",
    "y_test_surv = create_survival_data(durations_test, events_test)\n",
    "\n",
    "deephit_mlp_surv = deephit_mlp_model.predict_surv_df(Z_test)\n"
   ]
  },
  {
   "cell_type": "code",
   "execution_count": 29,
   "metadata": {},
   "outputs": [
    {
     "data": {
      "image/png": "[encoded data removed]",
      "text/plain": [
       "<Figure size 800x500 with 1 Axes>"
      ]
     },
     "metadata": {},
     "output_type": "display_data"
    }
   ],
   "source": [
    "\n",
    "time_grid_deephit = labtrans.cuts\n",
    "mask_deephit = (time_grid_deephit<=time_grid.max()) & (time_grid_deephit>=time_grid.min())\n",
    "time_grid_deephit = time_grid_deephit[mask_deephit]\n",
    "deephit_mlp_risk_scores = (1-deephit_mlp_surv.transpose().values)[:, mask_deephit] # use predict_cif if having compte risks\n",
    "deephit_mlp_auc, deephit_mlp_mean_auc = cumulative_dynamic_auc(y_train_val_surv, y_test_surv, \n",
    "                                                               deephit_mlp_risk_scores, time_grid_deephit)\n",
    "\n",
    "\n",
    "# Visualization\n",
    "plt.figure(figsize=(8, 5))\n",
    "\n",
    "plt.plot(time_grid_deephit, deephit_mlp_auc, \"o-\", label=f\"DeepHit(MLP) (mean AUC = {deephit_mlp_mean_auc:.3f})\")\n",
    "plt.xlabel(\"Ventilation Hours\")\n",
    "plt.ylabel(\"Time-dependent AUC\")\n",
    "plt.title(\"Comparative Cumulative Dynamic AUC Over Time\")\n",
    "plt.legend(loc=\"best\")\n",
    "plt.grid(True)\n",
    "plt.tight_layout()\n",
    "plt.show()"
   ]
  },
  {
   "cell_type": "code",
   "execution_count": 30,
   "metadata": {},
   "outputs": [],
   "source": [
    "deephit_mlp_ev = EvalSurv(deephit_mlp_surv, durations_test, events_test, censor_surv='km')\n"
   ]
  },
  {
   "cell_type": "code",
   "execution_count": 31,
   "metadata": {},
   "outputs": [
    {
     "data": {
      "text/html": [
       "<div>\n",
       "<style scoped>\n",
       "    .dataframe tbody tr th:only-of-type {\n",
       "        vertical-align: middle;\n",
       "    }\n",
       "\n",
       "    .dataframe tbody tr th {\n",
       "        vertical-align: top;\n",
       "    }\n",
       "\n",
       "    .dataframe thead th {\n",
       "        text-align: right;\n",
       "    }\n",
       "</style>\n",
       "<table border=\"1\" class=\"dataframe\">\n",
       "  <thead>\n",
       "    <tr style=\"text-align: right;\">\n",
       "      <th></th>\n",
       "      <th>Model</th>\n",
       "      <th>C-Index</th>\n",
       "      <th>Brier Score at 24h</th>\n",
       "      <th>Integrated Brier Score</th>\n",
       "      <th>MAE</th>\n",
       "      <th>RMSE</th>\n",
       "      <th>MAPE (%)</th>\n",
       "    </tr>\n",
       "  </thead>\n",
       "  <tbody>\n",
       "    <tr>\n",
       "      <th>0</th>\n",
       "      <td>DeepHit-MLP</td>\n",
       "      <td>0.727192</td>\n",
       "      <td>0.136742</td>\n",
       "      <td>0.11299</td>\n",
       "      <td>49.855582</td>\n",
       "      <td>84.251067</td>\n",
       "      <td>88.578952</td>\n",
       "    </tr>\n",
       "  </tbody>\n",
       "</table>\n",
       "</div>"
      ],
      "text/plain": [
       "         Model   C-Index  Brier Score at 24h  Integrated Brier Score  \\\n",
       "0  DeepHit-MLP  0.727192            0.136742                 0.11299   \n",
       "\n",
       "         MAE       RMSE   MAPE (%)  \n",
       "0  49.855582  84.251067  88.578952  "
      ]
     },
     "execution_count": 31,
     "metadata": {},
     "output_type": "execute_result"
    }
   ],
   "source": [
    "\n",
    "models_to_eval = [\n",
    "#     ('Kaplan-Meier', km_ev),\n",
    "#     ('Cox-PH', cph_ev),\n",
    "#     ('RSF', rsf_ev),\n",
    "#     ('DeepHit-RNN', deephit_ev),\n",
    "    ('DeepHit-MLP', deephit_mlp_ev),\n",
    "#     ('DeepSurv-RNN', deepsurv_ev),\n",
    "#     ('DeepSurv-MLP', deepsurv_mlp_ev),\n",
    "#     ('Baseline', baseline_ev)\n",
    "    # Add more models as necessary\n",
    "]\n",
    "\n",
    "model_results = []  # List to store result dictionaries\n",
    "\n",
    "for model_name, ev in models_to_eval:\n",
    "#     time_grid = np.arange(durations_test.min(), durations_test.max() + 1, step=12)\n",
    "    c_index = ev.concordance_td(method='antolini')\n",
    "    bs = ev.brier_score(np.array([24])).values[0]\n",
    "    integrated_bs = ev.integrated_brier_score(time_grid)\n",
    "    mae, rmse, mape = ev.compute_error_metrics()\n",
    "\n",
    "    # Append results as a dictionary to the list\n",
    "    model_results.append({\n",
    "        'Model': model_name,\n",
    "        'C-Index': c_index,\n",
    "        'Brier Score at 24h': bs,\n",
    "        'Integrated Brier Score': integrated_bs,\n",
    "        'MAE': mae,\n",
    "        'RMSE': rmse,\n",
    "        'MAPE (%)': mape\n",
    "    })\n",
    "\n",
    "# Convert list of dictionaries to DataFrame at the end\n",
    "results_df = pd.DataFrame(model_results)\n",
    "\n",
    "results_df"
   ]
  },
  {
   "cell_type": "code",
   "execution_count": 32,
   "metadata": {},
   "outputs": [],
   "source": [
    "# Prepare the dictionary for median survival times\n",
    "median_survival_times = {model: ev.median_survival_times() for model, ev in models_to_eval}\n",
    "y_tracker_test['durations_test'] = durations_test\n",
    "y_compare_df = pd.concat([y_tracker_test, pd.DataFrame(median_survival_times)], axis=1)\n"
   ]
  },
  {
   "cell_type": "code",
   "execution_count": 33,
   "metadata": {},
   "outputs": [
    {
     "data": {
      "image/png": "[encoded data removed]",
      "text/plain": [
       "<Figure size 1000x800 with 1 Axes>"
      ]
     },
     "metadata": {},
     "output_type": "display_data"
    }
   ],
   "source": [
    "import seaborn as sns\n",
    "\n",
    "model_column = 'DeepHit-MLP'\n",
    "# Select only necessary columns and filter events\n",
    "tmp_df = y_compare_df[y_compare_df.event == 1][['durations_test', model_column]]\n",
    "\n",
    "# Plotting using seaborn for more elegant output\n",
    "plt.figure(figsize=(10, 8))\n",
    "sns.boxplot(x='durations_test', y=model_column, data=tmp_df)\n",
    "plt.xticks(rotation=45)\n",
    "plt.yticks(ticks=labtrans.cuts, labels=[f\"{int(label)}\" for label in labtrans.cuts])\n",
    "\n",
    "plt.title(f'Distribution of Predictions at Each Discretized Duration Interval for {model_column}')\n",
    "plt.xlabel('Discretized Duration Intervals')\n",
    "plt.ylabel('Predicted Values')\n",
    "plt.grid(True)\n",
    "plt.tight_layout()\n",
    "plt.show()\n"
   ]
  },
  {
   "cell_type": "code",
   "execution_count": null,
   "metadata": {},
   "outputs": [],
   "source": []
  },
  {
   "cell_type": "code",
   "execution_count": null,
   "metadata": {},
   "outputs": [],
   "source": []
  },
  {
   "cell_type": "code",
   "execution_count": null,
   "metadata": {},
   "outputs": [],
   "source": []
  },
  {
   "cell_type": "code",
   "execution_count": null,
   "metadata": {},
   "outputs": [],
   "source": []
  },
  {
   "cell_type": "code",
   "execution_count": null,
   "metadata": {},
   "outputs": [],
   "source": []
  },
  {
   "cell_type": "code",
   "execution_count": null,
   "metadata": {},
   "outputs": [],
   "source": [
    "def drawChartFrame(h, df, cols): \n",
    "    import matplotlib.pyplot as plt\n",
    "    from mpl_toolkits.axes_grid1.inset_locator import inset_axes\n",
    "\n",
    "    tableau20 = [(31, 119, 180), (174, 199, 232), (247, 182, 210), (255, 187, 120),    \n",
    "                 (44, 160, 44), (140, 86, 75), (255, 152, 150),  (214, 39, 40),  \n",
    "                 (148, 103, 189), (197, 176, 213), (152, 223, 138), (196, 156, 148),    \n",
    "                 (227, 119, 194), (255, 127, 14), (127, 127, 127), (199, 199, 199),    \n",
    "                 (188, 189, 34), (219, 219, 141), (23, 190, 207), (158, 218, 229)] \n",
    "#     tableau20 = [(227, 119, 194), (148, 103, 189), (255, 127, 14), (44, 160, 44),    \n",
    "#                  (31, 119, 180), (140, 86, 75),  (214, 39, 40), (255, 152, 150),  \n",
    "#                  (174, 199, 232), (197, 176, 213), (152, 223, 138), (196, 156, 148),    \n",
    "#                  (255, 187, 120), (247, 182, 210), (127, 127, 127), (199, 199, 199),    \n",
    "#                  (188, 189, 34), (219, 219, 141), (23, 190, 207), (158, 218, 229)] \n",
    "\n",
    "    tableau20 = [(r / 255., g / 255., b / 255.) for r, g, b in tableau20]\n",
    "    \n",
    "    fig, (ax1, ax2) = plt.subplots(nrows=2, ncols=1, figsize=(22, 15), \n",
    "                                   gridspec_kw={'height_ratios': [5, 1]})\n",
    "    plt.rcParams.update({'font.size': 22})\n",
    "\n",
    "    df_filtered = df[df['encounterId'] == h].copy()\n",
    "    max_hour = int(df_filtered['timestamp'].max())\n",
    "    x_ticks = np.arange(0, max_hour+1, 12 if max_hour > 24 else 1)\n",
    "\n",
    "    # Predefine colors for 'inspTime' and 'PEEP(set)'\n",
    "    color_dict = {'inspTime': tableau20[3], 'PEEP(set)': tableau20[4]}  # adjust as needed\n",
    "\n",
    "    for i, vent_mode in enumerate(['ventMode_NoSupport', 'ventMode_NIV',  'ventMode_PS', 'ventMode_PC']):\n",
    "        if vent_mode in df_filtered.columns:\n",
    "            mask = df_filtered[vent_mode] == 1\n",
    "            df_filtered.loc[mask, 'group'] = (mask != mask.shift()).cumsum()\n",
    "            grouped = df_filtered[mask].groupby('group')\n",
    "            for _, group in grouped:\n",
    "                start_time = group['timestamp'].min()\n",
    "                end_time = group['timestamp'].max() + 1\n",
    "                ax1.fill_between([start_time, end_time], 0, 100, color=tableau20[i], alpha=0.2)\n",
    "                ax1.text(start_time, 102, vent_mode.replace('ventMode_', ''), color=tableau20[i], fontsize=20, rotation=45)\n",
    "\n",
    "    for i, v in enumerate(cols):\n",
    "        if v in df_filtered.columns:\n",
    "            color = color_dict.get(v, tableau20[(i + 6) % len(tableau20)])  # use predefined color if available\n",
    "            ax1.step(df_filtered['timestamp'], df_filtered[v], color=color, \n",
    "                     lw=1.5, where='post', label=v)\n",
    "    ax1.legend(bbox_to_anchor=(1.02, 1), loc=\"upper left\", fontsize=20)\n",
    "    ax1.set_yticks(np.arange(0, 120, 10))\n",
    "    ax1.set_xticks(x_ticks)\n",
    "    ax1.set_xticklabels([])\n",
    "    ax1.grid(True, which='major', color='gray', linestyle='--', linewidth=0.5)\n",
    "    \n",
    "    zoom_range = (0, 2.0)\n",
    "    zoom_range_len = int(zoom_range[1]-zoom_range[0])\n",
    "\n",
    "    for i, v in enumerate(['inspTime']):\n",
    "        if v in df_filtered.columns:\n",
    "            color = color_dict.get(v, tableau20[(i +6) % len(tableau20)])  # use predefined color if available\n",
    "            ax2.step(df_filtered['timestamp'], df_filtered[v], color=color, lw=2.5, where='post', label=v)\n",
    "\n",
    "    ax2.set_ylim(zoom_range)\n",
    "    ax2.set_yticks(np.linspace(zoom_range[0], zoom_range[1], 5))\n",
    "    ax2.set_xticks(x_ticks)\n",
    "    ax2.set_xticklabels(x_ticks, rotation=45, fontsize=20)\n",
    "    ax2.grid(True, which='major', color='gray', linestyle='--', linewidth=0.5)\n",
    "    ax2.legend(bbox_to_anchor=(1.02, 1), loc=\"upper left\", fontsize=20)\n",
    "\n",
    "    plt.tight_layout()\n",
    "    fig.text(0.45, 0.00, 'Episode Timestamp', ha='center', va='center', fontsize=26)\n",
    "    fig.text(0.00, 0.5, 'Measurement Value', ha='center', va='center', rotation='vertical', fontsize=26)\n",
    "\n",
    "    plt.show()\n"
   ]
  },
  {
   "cell_type": "code",
   "execution_count": null,
   "metadata": {},
   "outputs": [],
   "source": []
  },
  {
   "cell_type": "code",
   "execution_count": null,
   "metadata": {},
   "outputs": [],
   "source": []
  },
  {
   "cell_type": "code",
   "execution_count": null,
   "metadata": {},
   "outputs": [],
   "source": []
  },
  {
   "cell_type": "code",
   "execution_count": null,
   "metadata": {},
   "outputs": [],
   "source": [
    "numeric_action_col = ['FiO2', 'PIP', 'RR(set)', 'PEEP(set)', 'inspTime', 'PS']\n",
    "\n",
    "drawChartFrame(h='5473', df=df, cols=numeric_action_col)\n",
    "# drawChartFrame(h='10657', df=df, cols=numeric_action_col)\n"
   ]
  },
  {
   "cell_type": "markdown",
   "metadata": {},
   "source": [
    "### Get cluster results on df_test"
   ]
  },
  {
   "cell_type": "code",
   "execution_count": null,
   "metadata": {},
   "outputs": [],
   "source": []
  },
  {
   "cell_type": "code",
   "execution_count": null,
   "metadata": {},
   "outputs": [],
   "source": []
  }
 ],
 "metadata": {
  "kernelspec": {
   "display_name": "Python (TTE_env)",
   "language": "python",
   "name": "tte_env"
  },
  "language_info": {
   "codemirror_mode": {
    "name": "ipython",
    "version": 3
   },
   "file_extension": ".py",
   "mimetype": "text/x-python",
   "name": "python",
   "nbconvert_exporter": "python",
   "pygments_lexer": "ipython3",
   "version": "3.11.5"
  }
 },
 "nbformat": 4,
 "nbformat_minor": 1
}
