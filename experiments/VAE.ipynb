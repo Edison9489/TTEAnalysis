{
 "cells": [
  {
   "cell_type": "code",
   "execution_count": 1,
   "metadata": {
    "scrolled": false
   },
   "outputs": [
    {
     "name": "stderr",
     "output_type": "stream",
     "text": [
      "\u001b[33;20m2024-06-04 21:49:10,426 - pymlrf - WARNING - pymlrf environment variable not set. Logging to file will not be performed (__init__.py:51)\u001b[0m\n"
     ]
    }
   ],
   "source": [
    "import os\n",
    "import sys\n",
    "import logging\n",
    "\n",
    "# sys.path.append('/home/el2522/.local/lib/python3.8/site-packages')\n",
    "sys.path.append('/data/master/DS217/users/el2522')\n",
    "\n",
    "import numpy as np\n",
    "import pandas as pd\n",
    "import pickle\n",
    "import matplotlib.pyplot as plt\n",
    "pd.set_option('display.max_columns', None)\n",
    "\n",
    "from sklearn.preprocessing import MinMaxScaler\n",
    "from sklearn.model_selection import train_test_split, GridSearchCV\n",
    "\n",
    "import torch\n",
    "import torchtuples as tt\n",
    "from torch.utils.data import DataLoader\n",
    "from torch.optim import Adam\n",
    "\n",
    "np.random.seed(123)\n",
    "_ = torch.manual_seed(1234)\n",
    "\n",
    "from pymlrf.SupervisedLearning.torch import train, train_single_epoch, validate_single_epoch\n",
    "from pymlrf.SupervisedLearning.torch import MetricOrchestrator\n",
    "from ehr_ts_representations.Models.torch.AE import AutoEncoder as AE\n",
    "from ehr_ts_representations.Models.torch.encoders.MLP import MLPEncoder as MLP\n",
    "from ehr_ts_representations.Models.torch.encoders.LSTM import LSTMEncoder, LSTMDecoder\n",
    "from ehr_ts_representations.Loss import Loss\n",
    "from ehr_ts_representations.Datasets.ClustDataset import (\n",
    "    ClustDataset, ClustDatasetLkbck, ClustCollector\n",
    "    )"
   ]
  },
  {
   "cell_type": "code",
   "execution_count": 2,
   "metadata": {},
   "outputs": [],
   "source": [
    "# Load the data\n",
    "data_dir = '/data/master/DS217/users/el2522/'\n",
    "file_path = os.path.join(data_dir, 'ventDataPrep/intermediate/df_imputed.pkl')\n",
    "df = pd.read_pickle(file_path)"
   ]
  },
  {
   "cell_type": "code",
   "execution_count": 3,
   "metadata": {},
   "outputs": [
    {
     "name": "stderr",
     "output_type": "stream",
     "text": [
      "/data/master/DS217/users/el2522/TTEAnalysis/TTE_env/lib/python3.11/site-packages/sklearn/base.py:348: InconsistentVersionWarning: Trying to unpickle estimator MinMaxScaler from version 1.2.2 when using version 1.3.2. This might lead to breaking code or invalid results. Use at your own risk. For more info please refer to:\n",
      "https://scikit-learn.org/stable/model_persistence.html#security-maintainability-limitations\n",
      "  warnings.warn(\n"
     ]
    }
   ],
   "source": [
    "# Open the file for reading\n",
    "data_dir = '/data/master/DS217/users/el2522/'\n",
    "file_path = os.path.join(data_dir, 'EF_test_data_record.pkl')\n",
    "\n",
    "with open(file_path, 'rb') as file:\n",
    "    EF_data = pickle.load(file)\n",
    "\n",
    "EF_id_list = EF_data['encounterId']\n"
   ]
  },
  {
   "cell_type": "code",
   "execution_count": 4,
   "metadata": {},
   "outputs": [],
   "source": [
    "df = pd.get_dummies(df, columns=['diagnosis', 'ethnicity'])"
   ]
  },
  {
   "cell_type": "code",
   "execution_count": 5,
   "metadata": {},
   "outputs": [],
   "source": [
    "# define vars\n",
    "demo_cols = ['gender','age', 'weight', 'PIM'] + [x for x in df.columns if \n",
    "                                            x.startswith(('ethnicity', 'diagnosis'))]\n",
    "\n",
    "age_dependent_cols = ['HR', 'systolicBP', 'meanBP', 'diastolicBP']\n",
    "\n",
    "categoric_cols = ['NMB', 'sedation', 'furosemide', 'vasoActive', 'steroid', \n",
    "                  'ventMode_PC', 'ventMode_PS'] # 'ventMode_NIV', 'ventMode_NoSupport'\n",
    "\n",
    "numerical_cols = ['timestamp', 'MAP','RR(measured)', 'etCO2', 'temp', 'HR', 'SpO2',\n",
    "       'systolicBP', 'meanBP', 'diastolicBP', 'pH', 'PCO2', 'baseExcess',\n",
    "       'lactate', 'HCO3', 'WBC', 'Neutrophil', 'Hb', 'fluidBalance', 'FiO2', 'PIP',\n",
    "       'RR(set)', 'PEEP(set)', 'inspTime', 'PS', 'TVbyWeight'] # 'RRRatio', 'IERatio', 'deltaP', 'mPower', 'SFRatio'\n",
    "\n"
   ]
  },
  {
   "cell_type": "code",
   "execution_count": 6,
   "metadata": {},
   "outputs": [],
   "source": [
    "# Convert data type\n",
    "for col in categoric_cols+['gender','age']+[x for x in df.columns if \n",
    "                                            x.startswith(('ethnicity', 'diagnosis'))]:\n",
    "    df[col] = df[col].astype('int')\n",
    "\n",
    "# Round the timestamp to the nearest whole number and then convert to int\n",
    "df[['timestamp', 'LOV']] = np.round(df[['timestamp', 'LOV']]).astype(int)\n",
    "    \n",
    "# Identify the timestep of the first instance of NIV or NoSupport for each encounterId:\n",
    "first_extubation_time = df.groupby('encounterId').apply(\n",
    "    lambda group: group[(group['airwayStatus_Extubated'] == 1)]['timestamp'].min() \n",
    "                  if not group[(group['airwayStatus_Extubated'] == 1)]['timestamp'].empty \n",
    "                  else group['timestamp'].iloc[-1],\n",
    "    include_groups=False\n",
    ")\n",
    "df['first_extubation_time'] = df['encounterId'].map(first_extubation_time)"
   ]
  },
  {
   "cell_type": "code",
   "execution_count": 7,
   "metadata": {},
   "outputs": [],
   "source": [
    "def compute_outcomes_with_censoring(group, cut_off=24*28):\n",
    "    group.set_index('timestamp', inplace=True)\n",
    "    \n",
    "    # Identify the timestep of the first instance of NIV or NoSupport for each encounterId:\n",
    "    vent_start = group[group.airwayStatus_Intubated==1].first_valid_index()\n",
    "    vent_end = group[group.airwayStatus_Extubated==1].last_valid_index()\n",
    "    \n",
    "    \n",
    "    # Censoring indicator\n",
    "    # It's event (0) if we don't have a complete 48-hour observation window post-extubation,\n",
    "    if (vent_end is None) | (group[['airwayStatus_Intubated', 'airwayStatus_TubeKeptIn']].iloc[-1].sum()!=0):\n",
    "        if group['ifDeceased'].iloc[0]==1:\n",
    "            event_description = 'Not Extubated - Deceased'\n",
    "        else:\n",
    "            event_description = 'Not Extubated - Alive'\n",
    "    elif (group['airwayStatus_TubeKeptOut'].iloc[-48:].sum()!=48):\n",
    "        if group['ifDeceased'].iloc[0]==1:\n",
    "            event_description = 'No 48h Observation - Deceased'\n",
    "        else:\n",
    "            event_description = f'No 48h Observation - Alive'\n",
    "    elif group['airwayStatus_TubeKeptOut'].iloc[-48:].sum()==48:\n",
    "        event_description = \"Successful Extubation\"\n",
    "    \n",
    "    vent_end = int(vent_end) if not event_description.startswith('Not Extubated') else int(group.index[-1])\n",
    "    if (vent_end-vent_start) > cut_off:\n",
    "        event_description = f'Not Extubated - Cut Off at {cut_off}H'\n",
    "        vent_end = int(cut_off + vent_start)\n",
    "        \n",
    "    num_intub = group.loc[:vent_end].airwayStatus_Intubated.sum()\n",
    "\n",
    "    return pd.Series({\n",
    "        'vent_start_time': int(vent_start),\n",
    "        'vent_end_time': int(vent_end),\n",
    "        'num_intub': int(num_intub),\n",
    "        'event_description': event_description,\n",
    "    })\n",
    "\n",
    "# Apply function and merge results\n",
    "cut_off = 24*28\n",
    "vent_outcome = df.groupby('encounterId').apply(\n",
    "    lambda x: compute_outcomes_with_censoring(x, cut_off = cut_off),\n",
    "    include_groups=False\n",
    ").reset_index()\n",
    "df = df.merge(vent_outcome, on='encounterId', how='left')\n"
   ]
  },
  {
   "cell_type": "code",
   "execution_count": 8,
   "metadata": {},
   "outputs": [],
   "source": [
    "df_pred = df.copy() \n",
    "# re-align timestamp\n",
    "df_pred['timestamp_original'] = df_pred['timestamp']\n",
    "df_pred['timestamp'] = df_pred.timestamp - df_pred.vent_start_time\n",
    "df_pred = df_pred[(df_pred.timestamp_original >= df_pred.vent_start_time)]\n",
    "\n",
    "# left out extra test dataset for comparing with extubation failure task\n",
    "df_ef = df_pred[df_pred.encounterId.isin(EF_id_list)].copy()\n",
    "df_ef['encounterId_ordered'] = pd.Categorical(df_ef['encounterId'], categories=EF_id_list, ordered=True)\n",
    "df_ef = df_ef.sort_values('encounterId_ordered')\n",
    "df_ef.drop('encounterId_ordered', axis=1, inplace=True)\n"
   ]
  },
  {
   "cell_type": "code",
   "execution_count": 9,
   "metadata": {},
   "outputs": [],
   "source": [
    "df_baseline = df_pred[(~df_pred.encounterId.isin(EF_id_list)) & \n",
    "                      (~df_pred.event_description.str.contains('Deceased'))].copy() # should include competing risk after\n",
    "\n",
    "df_baseline['vent_end_time_tmp'] =  np.minimum(df_baseline.first_extubation_time, df_baseline.vent_end_time)\n",
    "df_baseline = df_baseline[df_baseline.timestamp_original < df_baseline.vent_end_time_tmp] \n",
    "        # here we cut-off at first extubation\n",
    "df_baseline['time_to_event'] = (df_baseline.vent_end_time_tmp-df_baseline.timestamp_original).astype(int)\n",
    "df_baseline.drop(columns='vent_end_time_tmp', inplace=True)\n",
    "\n",
    "df_baseline['event'] = ~(df_baseline.event_description.str.startswith('Not Extubated') | (df_baseline.num_intub>1)) \n",
    "df_baseline.loc[df_baseline.num_intub>1, 'event_description'] = 'Extubation Failure'\n"
   ]
  },
  {
   "cell_type": "code",
   "execution_count": 10,
   "metadata": {},
   "outputs": [
    {
     "name": "stderr",
     "output_type": "stream",
     "text": [
      "/tmp/ipykernel_3520836/2863315832.py:22: SettingWithCopyWarning: \n",
      "A value is trying to be set on a copy of a slice from a DataFrame.\n",
      "Try using .loc[row_indexer,col_indexer] = value instead\n",
      "\n",
      "See the caveats in the documentation: https://pandas.pydata.org/pandas-docs/stable/user_guide/indexing.html#returning-a-view-versus-a-copy\n",
      "  df_train[cols_to_transform] = scaler.fit_transform(df_train[cols_to_transform])\n",
      "/tmp/ipykernel_3520836/2863315832.py:23: SettingWithCopyWarning: \n",
      "A value is trying to be set on a copy of a slice from a DataFrame.\n",
      "Try using .loc[row_indexer,col_indexer] = value instead\n",
      "\n",
      "See the caveats in the documentation: https://pandas.pydata.org/pandas-docs/stable/user_guide/indexing.html#returning-a-view-versus-a-copy\n",
      "  df_val[cols_to_transform] = scaler.transform(df_val[cols_to_transform])\n",
      "/tmp/ipykernel_3520836/2863315832.py:24: SettingWithCopyWarning: \n",
      "A value is trying to be set on a copy of a slice from a DataFrame.\n",
      "Try using .loc[row_indexer,col_indexer] = value instead\n",
      "\n",
      "See the caveats in the documentation: https://pandas.pydata.org/pandas-docs/stable/user_guide/indexing.html#returning-a-view-versus-a-copy\n",
      "  df_test[cols_to_transform] = scaler.transform(df_test[cols_to_transform]) # Apply same transformation to test data\n"
     ]
    }
   ],
   "source": [
    "# Get unique encounterIds\n",
    "id_df = df_baseline[['encounterId', 'event', 'event_description']].drop_duplicates()\n",
    "\n",
    "# Split the unique encounterIds into train and test sets\n",
    "id_df_train_val, id_df_test = train_test_split(id_df, stratify = id_df['event_description'],\n",
    "                                               test_size=0.2)\n",
    "id_df_train, id_df_val = train_test_split(id_df_train_val, stratify = id_df_train_val['event_description'],\n",
    "                                               test_size=0.2)\n",
    "\n",
    "# Filter the original dataframe based on the splits of encounterIds\n",
    "df_train = df_baseline[df_baseline['encounterId'].isin(id_df_train['encounterId'])]\n",
    "df_val = df_baseline[df_baseline['encounterId'].isin(id_df_val['encounterId'])]\n",
    "df_test = df_baseline[df_baseline['encounterId'].isin(id_df_test['encounterId'])]\n",
    "\n",
    "# # Ensure that the maximum time_to_final_weaning in the test set is less than in the train set\n",
    "# max_train_time = df_train['time_to_final_weaning'].max()\n",
    "# df_test = df_test[df_test['time_to_final_weaning'] < max_train_time]\n",
    "\n",
    "# Standardization for other numerical columns\n",
    "scaler = MinMaxScaler()\n",
    "cols_to_transform = demo_cols + categoric_cols + numerical_cols\n",
    "df_train[cols_to_transform] = scaler.fit_transform(df_train[cols_to_transform])\n",
    "df_val[cols_to_transform] = scaler.transform(df_val[cols_to_transform])\n",
    "df_test[cols_to_transform] = scaler.transform(df_test[cols_to_transform]) # Apply same transformation to test data\n"
   ]
  },
  {
   "cell_type": "code",
   "execution_count": 11,
   "metadata": {},
   "outputs": [],
   "source": [
    "\n",
    "def prepare_sequence_data(df, selected_features, tte_col, event_col, context_len=24, min_length=1, step=1):\n",
    "    # Convert to numpy for faster processing\n",
    "    data = df[selected_features + [tte_col, event_col, 'encounterId']].to_numpy()\n",
    "    \n",
    "    # Placeholder arrays to collect sequences\n",
    "    sequences = []\n",
    "    ttes = []\n",
    "    events = []\n",
    "    ids = []\n",
    "    \n",
    "    # Process each unique encounter\n",
    "    unique_encounters = np.unique(data[:, -1])  # Assuming the last column is 'encounterId'\n",
    "    \n",
    "    for encounter_id in unique_encounters:\n",
    "        encounter_mask = data[:, -1] == encounter_id\n",
    "        encounter_data = data[encounter_mask]\n",
    "        num_rows = len(encounter_data)\n",
    "        if num_rows < min_length:\n",
    "            continue  # Skip encounters with fewer observations than min_length\n",
    "            \n",
    "        # Start creating sequences from the end of the encounter data backwards\n",
    "        for end in range(min_length, num_rows + 1, step):\n",
    "            start = max(0, end - context_len)  # Calculate start index\n",
    "            actual_length = end - start\n",
    "            if actual_length < min_length:\n",
    "                continue\n",
    "            \n",
    "            seq = encounter_data[start:end, :-3]  # Extract the features\n",
    "\n",
    "            # Calculate how much padding is needed\n",
    "            padding_needed = context_len - actual_length\n",
    "            if padding_needed > 0:\n",
    "                # Pre-padding: Pad with zeros (or another padding value) at the beginning of the sequence\n",
    "                padding = np.ones((padding_needed, seq.shape[1]))*-1.\n",
    "                seq = np.vstack([padding, seq])\n",
    "            \n",
    "            tte = encounter_data[end - 1, -3]  # Extract the time-to-event for the last observation\n",
    "            event = encounter_data[end - 1, -2]  # Extract the event indicator for the last observation\n",
    "            \n",
    "            sequences.append(seq)\n",
    "            ttes.append(tte)\n",
    "            events.append(event)\n",
    "            ids.append(encounter_id)\n",
    "            \n",
    "    # Convert lists to numpy arrays for further processing\n",
    "    sequences_np = np.array(sequences, dtype=np.float32)\n",
    "    ttes_np = np.array(ttes)\n",
    "    events_np = np.array(events, dtype=np.float32)\n",
    "    y_tracker = pd.DataFrame(list(zip(ids, ttes, events)), columns=['encounterId','time_to_event','event'])\n",
    "\n",
    "    return sequences_np, (ttes_np, events_np), y_tracker\n",
    "\n",
    "# Example usage assuming 'df' is your DataFrame sorted by 'encounterId' and 'timestamp'\n",
    "X_train_seq, y_train, y_tracker_train = prepare_sequence_data(\n",
    "    df_train.sort_values(by=['encounterId', 'timestamp_original']),  # Make sure data is sorted appropriately\n",
    "    cols_to_transform,  # Features selected for training\n",
    "    'time_to_event', \n",
    "    'event', \n",
    "    context_len=48,\n",
    "    step=4\n",
    ")\n",
    "\n",
    "X_val_seq, y_val, y_tracker_val = prepare_sequence_data(\n",
    "    df_val.sort_values(by=['encounterId', 'timestamp_original']),  # Make sure data is sorted appropriately\n",
    "    cols_to_transform,  # Features selected for training\n",
    "    'time_to_event', \n",
    "    'event', \n",
    "    context_len=48,\n",
    "    step=4\n",
    ")\n",
    "\n",
    "X_test_seq, y_test, y_tracker_test = prepare_sequence_data(\n",
    "    df_test.sort_values(by=['encounterId', 'timestamp_original']),  # Make sure data is sorted appropriately\n",
    "    cols_to_transform,  # Features selected for training\n",
    "    'time_to_event', \n",
    "    'event', \n",
    "    context_len=48,\n",
    "    step=4\n",
    ")\n",
    "X_train_val_seq = np.concatenate([X_train_seq, X_val_seq], axis=0)\n",
    "y_train_val = (np.concatenate([y_train[0], y_val[0]]), np.concatenate([y_train[1], y_val[1]]))\n",
    "\n"
   ]
  },
  {
   "cell_type": "code",
   "execution_count": 12,
   "metadata": {},
   "outputs": [],
   "source": [
    "# Prepare tabular data\n",
    "X_train_tab = X_train_seq[:, -1]\n",
    "X_val_tab = X_val_seq[:, -1]\n",
    "X_test_tab = X_test_seq[:, -1]\n",
    "X_train_val_tab = X_train_val_seq[:, -1]\n"
   ]
  },
  {
   "cell_type": "code",
   "execution_count": null,
   "metadata": {},
   "outputs": [],
   "source": []
  },
  {
   "cell_type": "code",
   "execution_count": 13,
   "metadata": {},
   "outputs": [],
   "source": [
    "from torch.utils.data import Dataset\n",
    "from typing import Tuple, List, Optional, Union\n",
    "class tmpDataset(Dataset):\n",
    "    \n",
    "    def __init__(\n",
    "        self, \n",
    "        X:np.array, \n",
    "        y:np.array\n",
    "        )->None:\n",
    "        self.X = torch.from_numpy(X).float()\n",
    "        self.y = torch.from_numpy(y).float()\n",
    "        self.feature_dim = X.shape[-1]\n",
    "        \n",
    "    def __len__(self)->int:\n",
    "        return self.X.shape[0]\n",
    "    \n",
    "    def __getitem__(self, idx:int):\n",
    "        return self.X[idx,...], self.y[idx,...]\n",
    "        \n"
   ]
  },
  {
   "cell_type": "code",
   "execution_count": 14,
   "metadata": {},
   "outputs": [],
   "source": [
    "\n",
    "x_y_train = tmpDataset(\n",
    "    X=X_train_tab,\n",
    "    y=X_train_tab\n",
    "    )\n",
    "x_y_val = tmpDataset(\n",
    "    X=X_val_tab,\n",
    "    y=X_val_tab\n",
    "    )\n",
    "\n",
    "# Wrap the ClustDataset into a DataLoader\n",
    "clust_collector = ClustCollector()\n",
    "train_data_loader = DataLoader(x_y_train, batch_size=256, shuffle=True, collate_fn=clust_collector)\n",
    "val_data_loader = DataLoader(x_y_val, batch_size=128, shuffle=False, collate_fn=clust_collector)"
   ]
  },
  {
   "cell_type": "code",
   "execution_count": 15,
   "metadata": {},
   "outputs": [],
   "source": [
    "# Define the dimensions for the MLP encoder and decoder\n",
    "input_dim = X_train_seq.shape[-1]\n",
    "dims = [64, 64]\n",
    "output_dim = int(X_train_seq.shape[-1]/2)\n",
    "rnn_n_layers = 2\n",
    "rnn_kwargs = {'dropout': 0.2}\n",
    "batch_norm = True\n",
    "dropout = 0.1\n",
    "\n",
    "# Create instances of the MLP class for the encoder and decoder\n",
    "encoder = MLP(input_dim, dims, output_dim, batch_norm, dropout)\n",
    "decoder = MLP(output_dim, dims[::-1], input_dim, batch_norm, dropout)\n",
    "\n",
    "# encoder = LSTMEncoder(input_dim=input_dim, dims=dims, output_dim=output_dim, rnn_n_layers=rnn_n_layers, rnn_kwargs=rnn_kwargs)\n",
    "# decoder = LSTMDecoder(input_dim=output_dim, dims=dims[::-1], output_dim=input_dim, sequence_length=48,\n",
    "#                       rnn_n_layers=rnn_n_layers, rnn_kwargs=rnn_kwargs)\n",
    "\n",
    "# Define the number of clusters for the AutoEncoder\n",
    "n_clusters = 10\n",
    "\n",
    "# Create an instance of the AutoEncoder class\n",
    "ae_model = AE(encoder=encoder, decoder=decoder, n_clusters=n_clusters)"
   ]
  },
  {
   "cell_type": "code",
   "execution_count": 16,
   "metadata": {},
   "outputs": [],
   "source": [
    "\n",
    "# Initialize your model, optimizer, and loss function\n",
    "lr = 1e-4\n",
    "weight_decay = 1e-5\n",
    "optimizer = Adam(ae_model.parameters(), lr=lr, weight_decay=weight_decay)\n",
    "\n",
    "mo = MetricOrchestrator()\n",
    "mo.reset_orchestrator()\n",
    "#todo: mo.setup_orchestrator()??\n",
    "\n",
    "gpu = True\n",
    "criterion_dict = {}\n",
    "for i in [\"train\", \"val\"]:\n",
    "    mo.add_metric(f'{i}_reconstruct', {})\n",
    "#     mo.add_metric(f'{i}_clust', {})\n",
    "#     mo.add_metric(f'{i}_spread', {})\n",
    "    _loss_functions = [\n",
    "        Loss.MultiOutputMSE(mo, prefix=i), \n",
    "#         Loss.MultiOutputMSEClust(mo, prefix=i), \n",
    "#         Loss.MultiOutputSpread(mo, prefix=i)\n",
    "    ]\n",
    "    weights = [1.0]  # These should sum to 1\n",
    "#     weights = [0.7, 0.1, 0.2]  # These should sum to 1\n",
    "    criterion_dict[i] = Loss.BalancedLoss(*_loss_functions, lam=weights, gpu=gpu)\n",
    "    criterion_dict[i].reset_exc_counter()\n"
   ]
  },
  {
   "cell_type": "code",
   "execution_count": 17,
   "metadata": {},
   "outputs": [],
   "source": [
    "class EarlyStopping:\n",
    "    def __init__(self, patience=10, tolerance=0.01, direction= \"ls\", verbose=False):\n",
    "        \"\"\"\n",
    "        Args:\n",
    "            patience (int): How many epochs to wait after last time validation loss improved.\n",
    "                            Default: 10\n",
    "            tolerance (float): Minimum change in the monitored quantity to qualify as an improvement.\n",
    "                            Default: 0.01\n",
    "            direction (Literal[\"ls\", \"gr\"]): Direction of improvement; \"ls\" for less (minimizing a metric like loss),\n",
    "                                            \"gr\" for greater (maximizing a metric like accuracy).\n",
    "            verbose (bool): If True, prints a message for each validation loss improvement. \n",
    "                            Default: False\n",
    "        \"\"\"\n",
    "        self.patience = patience\n",
    "        self.tolerance = tolerance\n",
    "        self.verbose = verbose\n",
    "        self.best_value = None\n",
    "        self.counter = 0\n",
    "        self.direction = direction\n",
    "        self.__dir_func = (lambda a, b: a < b) if direction == \"ls\" else (lambda a, b: a > b)\n",
    "\n",
    "    def __call__(self, current, previous=None):\n",
    "        if previous is None:\n",
    "            # If no previous value given, always continue training\n",
    "            return False\n",
    "        if self.best_value is None or self.__dir_func(current, self.best_value - self.tolerance):\n",
    "            self.best_value = current\n",
    "            self.counter = 0\n",
    "            if self.verbose:\n",
    "                print(f\"Improved metric to {current:.6f}, resetting counter.\")\n",
    "        else:\n",
    "            self.counter += 1\n",
    "            if self.verbose:\n",
    "                print(f\"No improvement. Counter at {self.counter}/{self.patience}\")\n",
    "            if self.counter >= self.patience:\n",
    "                return True\n",
    "        return False\n"
   ]
  },
  {
   "cell_type": "code",
   "execution_count": 18,
   "metadata": {
    "scrolled": false
   },
   "outputs": [
    {
     "data": {
      "application/vnd.jupyter.widget-view+json": {
       "model_id": "d6aef2f0f699430e9ea448379ec87ec4",
       "version_major": 2,
       "version_minor": 0
      },
      "text/plain": [
       "0it [00:00, ?it/s]"
      ]
     },
     "metadata": {},
     "output_type": "display_data"
    },
    {
     "name": "stderr",
     "output_type": "stream",
     "text": [
      "\u001b[38;20m2024-06-03 21:59:29,171 - pymlrf - DEBUG - First epoch so skipping early stopping evaluation (EarlyStopper.py:60)\u001b[0m\n",
      "Implement final epoch properly\n"
     ]
    },
    {
     "data": {
      "application/vnd.jupyter.widget-view+json": {
       "model_id": "0c24a61dd4fb48a3b784b685f7157982",
       "version_major": 2,
       "version_minor": 0
      },
      "text/plain": [
       "0it [00:00, ?it/s]"
      ]
     },
     "metadata": {},
     "output_type": "display_data"
    },
    {
     "name": "stderr",
     "output_type": "stream",
     "text": [
      "Implement final epoch properly\n"
     ]
    },
    {
     "name": "stdout",
     "output_type": "stream",
     "text": [
      "Improved metric to 1.769870, resetting counter.\n"
     ]
    },
    {
     "data": {
      "application/vnd.jupyter.widget-view+json": {
       "model_id": "0837bee2e6cd4afc97798fb07494571e",
       "version_major": 2,
       "version_minor": 0
      },
      "text/plain": [
       "0it [00:00, ?it/s]"
      ]
     },
     "metadata": {},
     "output_type": "display_data"
    },
    {
     "name": "stderr",
     "output_type": "stream",
     "text": [
      "Implement final epoch properly\n"
     ]
    },
    {
     "name": "stdout",
     "output_type": "stream",
     "text": [
      "Improved metric to 1.397934, resetting counter.\n"
     ]
    },
    {
     "data": {
      "application/vnd.jupyter.widget-view+json": {
       "model_id": "db74ec91e62e4b058da64e6b93423033",
       "version_major": 2,
       "version_minor": 0
      },
      "text/plain": [
       "0it [00:00, ?it/s]"
      ]
     },
     "metadata": {},
     "output_type": "display_data"
    },
    {
     "name": "stderr",
     "output_type": "stream",
     "text": [
      "Implement final epoch properly\n"
     ]
    },
    {
     "name": "stdout",
     "output_type": "stream",
     "text": [
      "Improved metric to 1.212210, resetting counter.\n"
     ]
    },
    {
     "data": {
      "application/vnd.jupyter.widget-view+json": {
       "model_id": "d50e7113987e472eb1896de86581f236",
       "version_major": 2,
       "version_minor": 0
      },
      "text/plain": [
       "0it [00:00, ?it/s]"
      ]
     },
     "metadata": {},
     "output_type": "display_data"
    },
    {
     "name": "stderr",
     "output_type": "stream",
     "text": [
      "Implement final epoch properly\n"
     ]
    },
    {
     "name": "stdout",
     "output_type": "stream",
     "text": [
      "Improved metric to 1.117675, resetting counter.\n"
     ]
    },
    {
     "data": {
      "application/vnd.jupyter.widget-view+json": {
       "model_id": "ef67e3d1d46a417da184a5e4ed622682",
       "version_major": 2,
       "version_minor": 0
      },
      "text/plain": [
       "0it [00:00, ?it/s]"
      ]
     },
     "metadata": {},
     "output_type": "display_data"
    },
    {
     "name": "stderr",
     "output_type": "stream",
     "text": [
      "Implement final epoch properly\n"
     ]
    },
    {
     "name": "stdout",
     "output_type": "stream",
     "text": [
      "Improved metric to 0.992803, resetting counter.\n"
     ]
    },
    {
     "data": {
      "application/vnd.jupyter.widget-view+json": {
       "model_id": "b36bd1208e3a4a358ace56b5dea74c9b",
       "version_major": 2,
       "version_minor": 0
      },
      "text/plain": [
       "0it [00:00, ?it/s]"
      ]
     },
     "metadata": {},
     "output_type": "display_data"
    },
    {
     "name": "stderr",
     "output_type": "stream",
     "text": [
      "Implement final epoch properly\n"
     ]
    },
    {
     "name": "stdout",
     "output_type": "stream",
     "text": [
      "Improved metric to 0.828171, resetting counter.\n"
     ]
    },
    {
     "data": {
      "application/vnd.jupyter.widget-view+json": {
       "model_id": "3eeae7eea85f40e2aee8548dfc36dd8b",
       "version_major": 2,
       "version_minor": 0
      },
      "text/plain": [
       "0it [00:00, ?it/s]"
      ]
     },
     "metadata": {},
     "output_type": "display_data"
    },
    {
     "name": "stderr",
     "output_type": "stream",
     "text": [
      "Implement final epoch properly\n"
     ]
    },
    {
     "name": "stdout",
     "output_type": "stream",
     "text": [
      "Improved metric to 0.719508, resetting counter.\n"
     ]
    },
    {
     "data": {
      "application/vnd.jupyter.widget-view+json": {
       "model_id": "eccf6cfdc1b2429889fcf4be52d929ad",
       "version_major": 2,
       "version_minor": 0
      },
      "text/plain": [
       "0it [00:00, ?it/s]"
      ]
     },
     "metadata": {},
     "output_type": "display_data"
    }
   ],
   "source": [
    "\n",
    "# Training...\n",
    "epochs = 1000\n",
    "mo, _ = train(\n",
    "    model=ae_model,\n",
    "    train_data_loader=train_data_loader,\n",
    "    val_data_loader=val_data_loader,\n",
    "    gpu=gpu,\n",
    "    optimizer=optimizer,\n",
    "    criterion=criterion_dict[\"train\"],\n",
    "    epochs=epochs,\n",
    "    logger=logging.getLogger(),\n",
    "    save_dir='./model_checkpoints',\n",
    "    scheduler=None,\n",
    "    early_stopping_func=EarlyStopping(patience=5, tolerance=0.0001, direction=\"ls\", verbose=True),\n",
    "    es_action=\"stop\",\n",
    "    train_epoch_func=train_single_epoch,\n",
    "    val_epoch_func=validate_single_epoch,\n",
    "    mo=mo,\n",
    "    val_criterion=criterion_dict[\"val\"],\n",
    "    save_interval=100\n",
    ")"
   ]
  },
  {
   "cell_type": "code",
   "execution_count": 87,
   "metadata": {},
   "outputs": [
    {
     "name": "stdout",
     "output_type": "stream",
     "text": [
      "Checkpoint loaded: ./model_checkpoints/mdl_chkpnt_epoch_40.pt at epoch 40\n",
      "Loss at checkpoint: 0.5706777388141269\n"
     ]
    }
   ],
   "source": [
    "\n",
    "def load_checkpoint(model, optimizer, filename=\"mdl_chkpnt_epoch_1.pt\"):\n",
    "    \"\"\"\n",
    "    Load a model checkpoint.\n",
    "    \n",
    "    Args:\n",
    "        model (torch.nn.Module): The model that you want to load the checkpoint into.\n",
    "        optimizer (torch.optim.Optimizer): The optimizer used for training the model.\n",
    "        filename (str): Path to the checkpoint file.\n",
    "        \n",
    "    Returns:\n",
    "        int: The epoch number at which this checkpoint was saved.\n",
    "    \"\"\"\n",
    "    # Make sure to load the checkpoint according to the device\n",
    "    checkpoint = torch.load(filename, map_location=torch.device('cuda' if torch.cuda.is_available() else 'cpu'))\n",
    "    \n",
    "    model.load_state_dict(checkpoint['model_state_dict'])\n",
    "    optimizer.load_state_dict(checkpoint['optimizer_state_dict'])\n",
    "    epoch = checkpoint['epoch']\n",
    "    loss = checkpoint['loss']  # If you want to use it\n",
    "    \n",
    "    print(f\"Checkpoint loaded: {filename} at epoch {epoch}\")\n",
    "    print(f\"Loss at checkpoint: {loss}\")\n",
    "    \n",
    "    return epoch\n",
    "\n",
    "# Define the dimensions for the MLP encoder and decoder\n",
    "input_dim = X_train_tab.shape[-1]\n",
    "dims = [128, 64]\n",
    "output_dim = int(X_train_tab.shape[-1]/2)\n",
    "batch_norm = True\n",
    "dropout = 0.2\n",
    "\n",
    "# Create instances of the MLP class for the encoder and decoder\n",
    "ae_encoder = MLP(input_dim, dims, output_dim, batch_norm, dropout)\n",
    "ae_decoder = MLP(output_dim, dims[::-1], input_dim, batch_norm, dropout)\n",
    "\n",
    "# Define the number of clusters for the AutoEncoder\n",
    "n_clusters = 10\n",
    "\n",
    "# Create an instance of the AutoEncoder class\n",
    "ae_model = AE(encoder=ae_encoder, decoder=ae_decoder, n_clusters=n_clusters)\n",
    "ae_optimizer = Adam(ae_model.parameters(), lr=1e-4, weight_decay=1e-5)\n",
    "filename = './model_checkpoints/mdl_chkpnt_epoch_40.pt'  # Adjust the path and filename as needed\n",
    "\n",
    "last_epoch = load_checkpoint(ae_model, ae_optimizer, filename)\n",
    "\n",
    "# Continue training or evaluation from here\n"
   ]
  },
  {
   "cell_type": "code",
   "execution_count": 28,
   "metadata": {},
   "outputs": [
    {
     "name": "stderr",
     "output_type": "stream",
     "text": [
      "/data/master/DS217/users/el2522/Research Framework/src/pymlrf/SupervisedLearning/torch/Metric.py:131: FutureWarning: The behavior of DataFrame concatenation with empty or all-NA entries is deprecated. In a future version, this will no longer exclude empty or all-NA columns when determining the result dtypes. To retain the old behavior, exclude the relevant entries before the concat operation.\n",
      "  return pd.concat(all_metric_df_lst)\n"
     ]
    },
    {
     "data": {
      "text/html": [
       "<div>\n",
       "<style scoped>\n",
       "    .dataframe tbody tr th:only-of-type {\n",
       "        vertical-align: middle;\n",
       "    }\n",
       "\n",
       "    .dataframe tbody tr th {\n",
       "        vertical-align: top;\n",
       "    }\n",
       "\n",
       "    .dataframe thead th {\n",
       "        text-align: right;\n",
       "    }\n",
       "</style>\n",
       "<table border=\"1\" class=\"dataframe\">\n",
       "  <thead>\n",
       "    <tr style=\"text-align: right;\">\n",
       "      <th></th>\n",
       "      <th>epoch</th>\n",
       "      <th>epoch_train_loss</th>\n",
       "      <th>epoch_val_loss</th>\n",
       "    </tr>\n",
       "  </thead>\n",
       "  <tbody>\n",
       "    <tr>\n",
       "      <th>0</th>\n",
       "      <td>1</td>\n",
       "      <td>58.706689</td>\n",
       "      <td>168.823401</td>\n",
       "    </tr>\n",
       "    <tr>\n",
       "      <th>1</th>\n",
       "      <td>2</td>\n",
       "      <td>48.660322</td>\n",
       "      <td>154.079711</td>\n",
       "    </tr>\n",
       "    <tr>\n",
       "      <th>2</th>\n",
       "      <td>3</td>\n",
       "      <td>45.493158</td>\n",
       "      <td>144.918866</td>\n",
       "    </tr>\n",
       "    <tr>\n",
       "      <th>3</th>\n",
       "      <td>4</td>\n",
       "      <td>43.086903</td>\n",
       "      <td>146.519548</td>\n",
       "    </tr>\n",
       "    <tr>\n",
       "      <th>4</th>\n",
       "      <td>5</td>\n",
       "      <td>42.246211</td>\n",
       "      <td>130.065273</td>\n",
       "    </tr>\n",
       "    <tr>\n",
       "      <th>5</th>\n",
       "      <td>6</td>\n",
       "      <td>40.186990</td>\n",
       "      <td>221.680808</td>\n",
       "    </tr>\n",
       "    <tr>\n",
       "      <th>6</th>\n",
       "      <td>7</td>\n",
       "      <td>38.222079</td>\n",
       "      <td>184.417035</td>\n",
       "    </tr>\n",
       "    <tr>\n",
       "      <th>7</th>\n",
       "      <td>8</td>\n",
       "      <td>36.779441</td>\n",
       "      <td>208.993057</td>\n",
       "    </tr>\n",
       "    <tr>\n",
       "      <th>8</th>\n",
       "      <td>9</td>\n",
       "      <td>37.409992</td>\n",
       "      <td>185.228060</td>\n",
       "    </tr>\n",
       "    <tr>\n",
       "      <th>9</th>\n",
       "      <td>10</td>\n",
       "      <td>35.925686</td>\n",
       "      <td>151.498671</td>\n",
       "    </tr>\n",
       "  </tbody>\n",
       "</table>\n",
       "</div>"
      ],
      "text/plain": [
       "   epoch  epoch_train_loss  epoch_val_loss\n",
       "0      1         58.706689      168.823401\n",
       "1      2         48.660322      154.079711\n",
       "2      3         45.493158      144.918866\n",
       "3      4         43.086903      146.519548\n",
       "4      5         42.246211      130.065273\n",
       "5      6         40.186990      221.680808\n",
       "6      7         38.222079      184.417035\n",
       "7      8         36.779441      208.993057\n",
       "8      9         37.409992      185.228060\n",
       "9     10         35.925686      151.498671"
      ]
     },
     "execution_count": 28,
     "metadata": {},
     "output_type": "execute_result"
    }
   ],
   "source": [
    "mo_df = mo.all_metrics_to_df()\n",
    "epoch_mo_df = mo_df[mo_df[\"metric_name\"].isin(['epoch_train_loss','epoch_val_loss'])]\n",
    "\n",
    "for i in [\"train\", \"val\"]:\n",
    "    for sub_m in ['reconstruct', 'clust', 'spread']:\n",
    "        # Filter the DataFrame for the specific metric\n",
    "        _tmp = mo_df[mo_df[\"metric_name\"] == f\"{i}_{sub_m}\"]\n",
    "        _tmp = _tmp.reset_index()\n",
    "        steps_per_epoch = _tmp.shape[0]/epochs\n",
    "\n",
    "        # Extract step numbers from the index names\n",
    "        _tmp['step'] = _tmp['index'].str.replace('exc_', '').astype(int)\n",
    "\n",
    "        # Calculate which epoch each step belongs to\n",
    "        _tmp['epoch'] = (_tmp['step'] // steps_per_epoch) + 1\n",
    "\n",
    "        # Group by the newly calculated 'epoch' and compute the mean of 'raw_vals'\n",
    "        _tmp_grouped = _tmp.groupby('epoch')['raw_vals'].mean().reset_index()\n",
    "        _tmp_grouped['metric_name'] = f\"epoch_{i}_{sub_m}\"\n",
    "\n",
    "        # Concatenate the current data to the main DataFrame\n",
    "        _tmp_grouped['epoch'] = _tmp_grouped['epoch'].apply(lambda x: f\"epoch_{int(x)}\")\n",
    "\n",
    "        # Set the index to 'step' for easier concatenation and consistency\n",
    "        _tmp_grouped.set_index('epoch', inplace=True)\n",
    "\n",
    "        # Concatenate the current data to the main DataFrame\n",
    "        epoch_mo_df = pd.concat([epoch_mo_df, _tmp_grouped])\n",
    "\n",
    "# Reset the index to use it in pivot\n",
    "epoch_mo_df.rename_axis('epoch', inplace=True)\n",
    "epoch_mo_df.reset_index(inplace=True)\n",
    "epoch_mo_df['epoch'] = epoch_mo_df['epoch'].str.replace('epoch_', '').astype(int)\n",
    "\n",
    "# Pivot the DataFrame to wide format\n",
    "pivot_df = epoch_mo_df.pivot(index='epoch', columns='metric_name', values='raw_vals')\n",
    "pivot_df.reset_index(inplace=True)\n",
    "pivot_df.columns.name = None  # Clean up the columns name to remove 'metric_name'\n",
    "\n",
    "with open(os.path.join('./model_checkpoints/evals.pkl'), \"wb\") as file:\n",
    "    pickle.dump(pivot_df, file)\n",
    "\n",
    "pivot_df\n"
   ]
  },
  {
   "cell_type": "code",
   "execution_count": null,
   "metadata": {},
   "outputs": [],
   "source": []
  },
  {
   "cell_type": "code",
   "execution_count": 66,
   "metadata": {},
   "outputs": [],
   "source": [
    "from pycox.models import DeepHitSingle\n",
    "from pycox.models import CoxPH\n",
    "from pycox.evaluation import EvalSurv\n",
    "from pycox.models.loss import rank_loss_deephit_single\n",
    "import functools\n",
    "\n",
    "\n",
    "from sksurv.linear_model import CoxPHSurvivalAnalysis\n",
    "from sksurv.functions import StepFunction\n",
    "from sksurv.metrics import (\n",
    "    concordance_index_censored as c_index,\n",
    "    cumulative_dynamic_auc,\n",
    "    integrated_brier_score,\n",
    "    as_integrated_brier_score_scorer\n",
    ")\n",
    "from sksurv.util import Surv\n",
    "from sksurv.ensemble import RandomSurvivalForest\n",
    "from sksurv.nonparametric import kaplan_meier_estimator\n",
    "\n",
    "from sklearn.utils import resample\n",
    "from sklearn.model_selection import KFold\n"
   ]
  },
  {
   "cell_type": "code",
   "execution_count": 67,
   "metadata": {},
   "outputs": [
    {
     "name": "stderr",
     "output_type": "stream",
     "text": [
      "/data/master/DS217/users/el2522/TTEAnalysis/pycox/preprocessing/label_transforms.py:113: UserWarning: Calling fit method, when 'cuts' are already defined. Leaving cuts unchanged.\n",
      "  warnings.warn(\"Calling fit method, when 'cuts' are already defined. Leaving cuts unchanged.\")\n"
     ]
    }
   ],
   "source": [
    "labtrans = DeepHitSingle.label_transform(cuts=np.unique(y_train[0]).astype(float))  # scheme='quantiles'\n",
    "y_train_disc = labtrans.fit_transform(*y_train)\n",
    "y_val_disc = labtrans.transform(*y_val)\n",
    "\n",
    "labtrans = DeepHitSingle.label_transform(cuts=np.unique(y_train[0]).astype(float))  # scheme='quantiles'\n",
    "y_train_val_disc = labtrans.fit_transform(*y_train_val)\n"
   ]
  },
  {
   "cell_type": "code",
   "execution_count": 69,
   "metadata": {},
   "outputs": [],
   "source": [
    "\n",
    "from sklearn.preprocessing import MinMaxScaler, OneHotEncoder\n",
    "\n",
    "def extract_features(dataset, model, include_clust_assign=False, scaler=None):\n",
    "    \"\"\"Extract features from a dataset using a pretrained model, \n",
    "    optionally including cluster assignments, and standardize features.\n",
    "\n",
    "    Args:\n",
    "        dataset (Union[np.ndarray, torch.Tensor]): Dataset to process.\n",
    "        model (torch.nn.Module): Pretrained model used for feature extraction.\n",
    "        include_clust_assign (bool): Whether to concatenate one-hot encoded cluster assignments with the latent vectors.\n",
    "        scaler (StandardScaler, optional): A pre-fitted scaler for standardizing features; if None, a new scaler will be fitted.\n",
    "\n",
    "    Returns:\n",
    "        np.ndarray: Processed features, possibly concatenated with one-hot encoded cluster assignments and standardized.\n",
    "    \"\"\"\n",
    "    # Ensure dataset is a torch.Tensor\n",
    "    if not isinstance(dataset, torch.Tensor):\n",
    "        dataset = torch.tensor(dataset, dtype=torch.float32)\n",
    "    \n",
    "    # Align dataset device with model device\n",
    "    model_device = next(model.parameters()).device\n",
    "    dataset = dataset.to(model_device)\n",
    "    \n",
    "    # Forward pass through the model in no_grad context\n",
    "    with torch.no_grad():\n",
    "        output = model(dataset)\n",
    "        features = output.encoded.cpu().detach().numpy()\n",
    "\n",
    "        if include_clust_assign:\n",
    "            clust_assign = output.clust_assign.cpu().detach().numpy()\n",
    "            encoder = OneHotEncoder(sparse_output=False)\n",
    "            clust_assign_encoded = encoder.fit_transform(clust_assign.reshape(-1, 1))\n",
    "            features = np.hstack((features, clust_assign_encoded))\n",
    "    \n",
    "    # Standardize features\n",
    "    if scaler is None:\n",
    "        scaler = MinMaxScaler()\n",
    "        features = scaler.fit_transform(features)\n",
    "    else:\n",
    "        features = scaler.transform(features)\n",
    "    \n",
    "    return features.astype(np.float32), scaler\n",
    "\n",
    "ae_model.eval()\n",
    "for param in ae_model.parameters():\n",
    "    param.requires_grad = False\n",
    "\n",
    "# For training, fit a new scaler\n",
    "Z_train, scaler = extract_features(X_train_tab, ae_model, include_clust_assign=False)\n",
    "\n",
    "# For validation and testing, use the existing scaler\n",
    "Z_val, _ = extract_features(X_val_tab, ae_model, include_clust_assign=False, scaler=scaler)\n",
    "Z_test, _ = extract_features(X_test_tab, ae_model, include_clust_assign=False, scaler=scaler)\n"
   ]
  },
  {
   "cell_type": "code",
   "execution_count": 70,
   "metadata": {},
   "outputs": [],
   "source": [
    "in_features = Z_train.shape[-1]\n",
    "out_features = labtrans.out_features\n",
    "hidden_dims = [128, 256, 128]\n",
    "batch_norm = True\n",
    "dropout = 0.5\n",
    "\n",
    "# net = RNN(input_dim = in_features, output_dim = out_features, dims = hidden_dims, \n",
    "#           rnn_n_layers=2, rnn_kwargs={'dropout': 0.5})\n",
    "\n",
    "# net = MLP(input_dim = in_features, output_dim = out_features, dims = hidden_dims\n",
    "\n",
    "net = tt.practical.MLPVanilla(in_features, hidden_dims, out_features, batch_norm, dropout)\n",
    "\n"
   ]
  },
  {
   "cell_type": "code",
   "execution_count": 71,
   "metadata": {},
   "outputs": [],
   "source": [
    "optimizer = torch.optim.Adam(net.parameters(), lr=1e-4, weight_decay=1e-5)\n",
    "deephit_mlp_model = DeepHitSingle(net, optimizer, alpha=0.5, sigma=0.3, duration_index=labtrans.cuts)"
   ]
  },
  {
   "cell_type": "code",
   "execution_count": 72,
   "metadata": {},
   "outputs": [],
   "source": [
    "import functools\n",
    "\n",
    "# Set sigma to a fixed value, e.g., 0.3\n",
    "fixed_sigma_rank_loss = functools.partial(rank_loss_deephit_single, sigma=0.3)"
   ]
  },
  {
   "cell_type": "code",
   "execution_count": 74,
   "metadata": {
    "scrolled": false
   },
   "outputs": [
    {
     "name": "stdout",
     "output_type": "stream",
     "text": [
      "0:\t[15s / 15s],\t\ttrain_loss: 2.9265,\ttrain_RankLoss: 0.4180,\tval_loss: 2.7066,\tval_RankLoss: 0.4054\n",
      "1:\t[16s / 31s],\t\ttrain_loss: 2.8323,\ttrain_RankLoss: 0.4088,\tval_loss: 2.5924,\tval_RankLoss: 0.3920\n",
      "2:\t[15s / 46s],\t\ttrain_loss: 2.7263,\ttrain_RankLoss: 0.4019,\tval_loss: 2.4854,\tval_RankLoss: 0.3857\n",
      "3:\t[15s / 1m:2s],\t\ttrain_loss: 2.6411,\ttrain_RankLoss: 0.4038,\tval_loss: 2.4101,\tval_RankLoss: 0.3835\n",
      "4:\t[15s / 1m:17s],\t\ttrain_loss: 2.5741,\ttrain_RankLoss: 0.4041,\tval_loss: 2.3656,\tval_RankLoss: 0.3802\n",
      "5:\t[14s / 1m:32s],\t\ttrain_loss: 2.5263,\ttrain_RankLoss: 0.4034,\tval_loss: 2.3396,\tval_RankLoss: 0.3776\n",
      "6:\t[15s / 1m:48s],\t\ttrain_loss: 2.4924,\ttrain_RankLoss: 0.4023,\tval_loss: 2.3220,\tval_RankLoss: 0.3749\n",
      "7:\t[14s / 2m:2s],\t\ttrain_loss: 2.4642,\ttrain_RankLoss: 0.3991,\tval_loss: 2.3116,\tval_RankLoss: 0.3732\n",
      "8:\t[16s / 2m:18s],\t\ttrain_loss: 2.4450,\ttrain_RankLoss: 0.3954,\tval_loss: 2.3038,\tval_RankLoss: 0.3724\n",
      "9:\t[15s / 2m:34s],\t\ttrain_loss: 2.4313,\ttrain_RankLoss: 0.3931,\tval_loss: 2.2988,\tval_RankLoss: 0.3702\n",
      "10:\t[15s / 2m:49s],\t\ttrain_loss: 2.4201,\ttrain_RankLoss: 0.3907,\tval_loss: 2.2945,\tval_RankLoss: 0.3699\n",
      "11:\t[15s / 3m:5s],\t\ttrain_loss: 2.4113,\ttrain_RankLoss: 0.3883,\tval_loss: 2.2916,\tval_RankLoss: 0.3681\n",
      "12:\t[14s / 3m:19s],\t\ttrain_loss: 2.4036,\ttrain_RankLoss: 0.3861,\tval_loss: 2.2890,\tval_RankLoss: 0.3677\n",
      "13:\t[16s / 3m:36s],\t\ttrain_loss: 2.3977,\ttrain_RankLoss: 0.3849,\tval_loss: 2.2863,\tval_RankLoss: 0.3679\n",
      "14:\t[14s / 3m:50s],\t\ttrain_loss: 2.3929,\ttrain_RankLoss: 0.3833,\tval_loss: 2.2834,\tval_RankLoss: 0.3665\n",
      "15:\t[15s / 4m:6s],\t\ttrain_loss: 2.3884,\ttrain_RankLoss: 0.3828,\tval_loss: 2.2810,\tval_RankLoss: 0.3662\n",
      "16:\t[15s / 4m:21s],\t\ttrain_loss: 2.3838,\ttrain_RankLoss: 0.3810,\tval_loss: 2.2796,\tval_RankLoss: 0.3659\n",
      "17:\t[15s / 4m:36s],\t\ttrain_loss: 2.3800,\ttrain_RankLoss: 0.3801,\tval_loss: 2.2773,\tval_RankLoss: 0.3654\n",
      "18:\t[15s / 4m:52s],\t\ttrain_loss: 2.3767,\ttrain_RankLoss: 0.3798,\tval_loss: 2.2762,\tval_RankLoss: 0.3659\n",
      "19:\t[14s / 5m:7s],\t\ttrain_loss: 2.3734,\ttrain_RankLoss: 0.3787,\tval_loss: 2.2747,\tval_RankLoss: 0.3652\n",
      "20:\t[16s / 5m:23s],\t\ttrain_loss: 2.3701,\ttrain_RankLoss: 0.3779,\tval_loss: 2.2739,\tval_RankLoss: 0.3646\n",
      "21:\t[14s / 5m:38s],\t\ttrain_loss: 2.3673,\ttrain_RankLoss: 0.3768,\tval_loss: 2.2722,\tval_RankLoss: 0.3663\n",
      "22:\t[15s / 5m:54s],\t\ttrain_loss: 2.3641,\ttrain_RankLoss: 0.3764,\tval_loss: 2.2715,\tval_RankLoss: 0.3646\n",
      "23:\t[15s / 6m:9s],\t\ttrain_loss: 2.3615,\ttrain_RankLoss: 0.3754,\tval_loss: 2.2709,\tval_RankLoss: 0.3656\n",
      "24:\t[15s / 6m:25s],\t\ttrain_loss: 2.3594,\ttrain_RankLoss: 0.3752,\tval_loss: 2.2698,\tval_RankLoss: 0.3657\n",
      "25:\t[15s / 6m:40s],\t\ttrain_loss: 2.3574,\ttrain_RankLoss: 0.3745,\tval_loss: 2.2689,\tval_RankLoss: 0.3647\n",
      "26:\t[14s / 6m:55s],\t\ttrain_loss: 2.3543,\ttrain_RankLoss: 0.3734,\tval_loss: 2.2680,\tval_RankLoss: 0.3654\n",
      "27:\t[16s / 7m:12s],\t\ttrain_loss: 2.3534,\ttrain_RankLoss: 0.3735,\tval_loss: 2.2671,\tval_RankLoss: 0.3657\n"
     ]
    },
    {
     "ename": "KeyboardInterrupt",
     "evalue": "",
     "output_type": "error",
     "traceback": [
      "\u001b[0;31m---------------------------------------------------------------------------\u001b[0m",
      "\u001b[0;31mKeyboardInterrupt\u001b[0m                         Traceback (most recent call last)",
      "Cell \u001b[0;32mIn[74], line 13\u001b[0m\n\u001b[1;32m      2\u001b[0m batch_size \u001b[38;5;241m=\u001b[39m \u001b[38;5;241m512\u001b[39m\n\u001b[1;32m      4\u001b[0m callbacks \u001b[38;5;241m=\u001b[39m [\n\u001b[1;32m      5\u001b[0m     tt\u001b[38;5;241m.\u001b[39mcallbacks\u001b[38;5;241m.\u001b[39mEarlyStopping(\n\u001b[1;32m      6\u001b[0m         patience\u001b[38;5;241m=\u001b[39m\u001b[38;5;241m5\u001b[39m,          \u001b[38;5;66;03m# Number of epochs with no improvement after which training will be stopped\u001b[39;00m\n\u001b[0;32m   (...)\u001b[0m\n\u001b[1;32m     10\u001b[0m     tt\u001b[38;5;241m.\u001b[39mcallbacks\u001b[38;5;241m.\u001b[39mClipGradNorm(net, max_norm\u001b[38;5;241m=\u001b[39m\u001b[38;5;241m1.0\u001b[39m),\n\u001b[1;32m     11\u001b[0m ]\n\u001b[0;32m---> 13\u001b[0m log \u001b[38;5;241m=\u001b[39m \u001b[43mdeephit_mlp_model\u001b[49m\u001b[38;5;241;43m.\u001b[39;49m\u001b[43mfit\u001b[49m\u001b[43m(\u001b[49m\u001b[43mZ_train\u001b[49m\u001b[43m,\u001b[49m\u001b[43m \u001b[49m\u001b[43my_train_disc\u001b[49m\u001b[43m,\u001b[49m\u001b[43m \u001b[49m\u001b[43mbatch_size\u001b[49m\u001b[43m,\u001b[49m\u001b[43m \u001b[49m\u001b[43mepochs\u001b[49m\u001b[43m,\u001b[49m\u001b[43m \u001b[49m\n\u001b[1;32m     14\u001b[0m \u001b[43m                            \u001b[49m\u001b[43mcallbacks\u001b[49m\u001b[43m,\u001b[49m\u001b[43m \u001b[49m\u001b[43mnum_workers\u001b[49m\u001b[38;5;241;43m=\u001b[39;49m\u001b[38;5;241;43m8\u001b[39;49m\u001b[43m,\u001b[49m\u001b[43m \u001b[49m\u001b[43mval_data\u001b[49m\u001b[38;5;241;43m=\u001b[39;49m\u001b[43m(\u001b[49m\u001b[43mZ_val\u001b[49m\u001b[43m,\u001b[49m\u001b[43m \u001b[49m\u001b[43my_val_disc\u001b[49m\u001b[43m)\u001b[49m\u001b[43m,\u001b[49m\u001b[43m \u001b[49m\n\u001b[1;32m     15\u001b[0m \u001b[43m                            \u001b[49m\u001b[43mmetrics\u001b[49m\u001b[38;5;241;43m=\u001b[39;49m\u001b[43m{\u001b[49m\u001b[38;5;124;43m'\u001b[39;49m\u001b[38;5;124;43mRankLoss\u001b[39;49m\u001b[38;5;124;43m'\u001b[39;49m\u001b[43m:\u001b[49m\u001b[43m \u001b[49m\u001b[43mfixed_sigma_rank_loss\u001b[49m\u001b[43m}\u001b[49m\u001b[43m)\u001b[49m\n",
      "File \u001b[0;32m/data/master/DS217/users/el2522/TTEAnalysis/TTE_env/lib/python3.11/site-packages/torchtuples/base.py:294\u001b[0m, in \u001b[0;36mModel.fit\u001b[0;34m(self, input, target, batch_size, epochs, callbacks, verbose, num_workers, shuffle, metrics, val_data, val_batch_size, **kwargs)\u001b[0m\n\u001b[1;32m    290\u001b[0m \u001b[38;5;28;01mif\u001b[39;00m (is_dl(val_data) \u001b[38;5;129;01mis\u001b[39;00m \u001b[38;5;28;01mFalse\u001b[39;00m) \u001b[38;5;129;01mand\u001b[39;00m (val_data \u001b[38;5;129;01mis\u001b[39;00m \u001b[38;5;129;01mnot\u001b[39;00m \u001b[38;5;28;01mNone\u001b[39;00m):\n\u001b[1;32m    291\u001b[0m     val_dataloader \u001b[38;5;241m=\u001b[39m \u001b[38;5;28mself\u001b[39m\u001b[38;5;241m.\u001b[39mmake_dataloader(\n\u001b[1;32m    292\u001b[0m         val_data, val_batch_size, shuffle\u001b[38;5;241m=\u001b[39m\u001b[38;5;28;01mFalse\u001b[39;00m, num_workers\u001b[38;5;241m=\u001b[39mnum_workers, \u001b[38;5;241m*\u001b[39m\u001b[38;5;241m*\u001b[39mkwargs\n\u001b[1;32m    293\u001b[0m     )\n\u001b[0;32m--> 294\u001b[0m log \u001b[38;5;241m=\u001b[39m \u001b[38;5;28;43mself\u001b[39;49m\u001b[38;5;241;43m.\u001b[39;49m\u001b[43mfit_dataloader\u001b[49m\u001b[43m(\u001b[49m\u001b[43mdataloader\u001b[49m\u001b[43m,\u001b[49m\u001b[43m \u001b[49m\u001b[43mepochs\u001b[49m\u001b[43m,\u001b[49m\u001b[43m \u001b[49m\u001b[43mcallbacks\u001b[49m\u001b[43m,\u001b[49m\u001b[43m \u001b[49m\u001b[43mverbose\u001b[49m\u001b[43m,\u001b[49m\u001b[43m \u001b[49m\u001b[43mmetrics\u001b[49m\u001b[43m,\u001b[49m\u001b[43m \u001b[49m\u001b[43mval_dataloader\u001b[49m\u001b[43m)\u001b[49m\n\u001b[1;32m    295\u001b[0m \u001b[38;5;28;01mreturn\u001b[39;00m log\n",
      "File \u001b[0;32m/data/master/DS217/users/el2522/TTEAnalysis/TTE_env/lib/python3.11/site-packages/torchtuples/base.py:247\u001b[0m, in \u001b[0;36mModel.fit_dataloader\u001b[0;34m(self, dataloader, epochs, callbacks, verbose, metrics, val_dataloader)\u001b[0m\n\u001b[1;32m    245\u001b[0m             \u001b[38;5;28;01mbreak\u001b[39;00m\n\u001b[1;32m    246\u001b[0m     \u001b[38;5;28;01melse\u001b[39;00m:\n\u001b[0;32m--> 247\u001b[0m         stop \u001b[38;5;241m=\u001b[39m \u001b[38;5;28;43mself\u001b[39;49m\u001b[38;5;241;43m.\u001b[39;49m\u001b[43mcallbacks\u001b[49m\u001b[38;5;241;43m.\u001b[39;49m\u001b[43mon_epoch_end\u001b[49m\u001b[43m(\u001b[49m\u001b[43m)\u001b[49m\n\u001b[1;32m    248\u001b[0m \u001b[38;5;28mself\u001b[39m\u001b[38;5;241m.\u001b[39mcallbacks\u001b[38;5;241m.\u001b[39mon_fit_end()\n\u001b[1;32m    249\u001b[0m \u001b[38;5;28;01mreturn\u001b[39;00m \u001b[38;5;28mself\u001b[39m\u001b[38;5;241m.\u001b[39mlog\n",
      "File \u001b[0;32m/data/master/DS217/users/el2522/TTEAnalysis/TTE_env/lib/python3.11/site-packages/torchtuples/callbacks.py:128\u001b[0m, in \u001b[0;36mCallbackHandler.on_epoch_end\u001b[0;34m(self)\u001b[0m\n\u001b[1;32m    127\u001b[0m \u001b[38;5;28;01mdef\u001b[39;00m \u001b[38;5;21mon_epoch_end\u001b[39m(\u001b[38;5;28mself\u001b[39m):\n\u001b[0;32m--> 128\u001b[0m     stop_signal \u001b[38;5;241m=\u001b[39m \u001b[38;5;28;43mself\u001b[39;49m\u001b[38;5;241;43m.\u001b[39;49m\u001b[43mapply_callbacks\u001b[49m\u001b[43m(\u001b[49m\u001b[38;5;28;43;01mlambda\u001b[39;49;00m\u001b[43m \u001b[49m\u001b[43mx\u001b[49m\u001b[43m:\u001b[49m\u001b[43m \u001b[49m\u001b[43mx\u001b[49m\u001b[38;5;241;43m.\u001b[39;49m\u001b[43mon_epoch_end\u001b[49m\u001b[43m(\u001b[49m\u001b[43m)\u001b[49m\u001b[43m)\u001b[49m\n\u001b[1;32m    129\u001b[0m     \u001b[38;5;28;01mreturn\u001b[39;00m stop_signal\n",
      "File \u001b[0;32m/data/master/DS217/users/el2522/TTEAnalysis/TTE_env/lib/python3.11/site-packages/torchtuples/callbacks.py:97\u001b[0m, in \u001b[0;36mCallbackHandler.apply_callbacks\u001b[0;34m(self, func)\u001b[0m\n\u001b[1;32m     95\u001b[0m stop_signal \u001b[38;5;241m=\u001b[39m \u001b[38;5;28;01mFalse\u001b[39;00m\n\u001b[1;32m     96\u001b[0m \u001b[38;5;28;01mfor\u001b[39;00m c \u001b[38;5;129;01min\u001b[39;00m \u001b[38;5;28mself\u001b[39m\u001b[38;5;241m.\u001b[39mvalues():\n\u001b[0;32m---> 97\u001b[0m     stop \u001b[38;5;241m=\u001b[39m \u001b[43mfunc\u001b[49m\u001b[43m(\u001b[49m\u001b[43mc\u001b[49m\u001b[43m)\u001b[49m\n\u001b[1;32m     98\u001b[0m     stop \u001b[38;5;241m=\u001b[39m stop \u001b[38;5;28;01mif\u001b[39;00m stop \u001b[38;5;28;01melse\u001b[39;00m \u001b[38;5;28;01mFalse\u001b[39;00m\n\u001b[1;32m     99\u001b[0m     stop_signal \u001b[38;5;241m=\u001b[39m stop_signal \u001b[38;5;129;01mor\u001b[39;00m stop\n",
      "File \u001b[0;32m/data/master/DS217/users/el2522/TTEAnalysis/TTE_env/lib/python3.11/site-packages/torchtuples/callbacks.py:128\u001b[0m, in \u001b[0;36mCallbackHandler.on_epoch_end.<locals>.<lambda>\u001b[0;34m(x)\u001b[0m\n\u001b[1;32m    127\u001b[0m \u001b[38;5;28;01mdef\u001b[39;00m \u001b[38;5;21mon_epoch_end\u001b[39m(\u001b[38;5;28mself\u001b[39m):\n\u001b[0;32m--> 128\u001b[0m     stop_signal \u001b[38;5;241m=\u001b[39m \u001b[38;5;28mself\u001b[39m\u001b[38;5;241m.\u001b[39mapply_callbacks(\u001b[38;5;28;01mlambda\u001b[39;00m x: \u001b[43mx\u001b[49m\u001b[38;5;241;43m.\u001b[39;49m\u001b[43mon_epoch_end\u001b[49m\u001b[43m(\u001b[49m\u001b[43m)\u001b[49m)\n\u001b[1;32m    129\u001b[0m     \u001b[38;5;28;01mreturn\u001b[39;00m stop_signal\n",
      "File \u001b[0;32m/data/master/DS217/users/el2522/TTEAnalysis/TTE_env/lib/python3.11/site-packages/torchtuples/callbacks.py:289\u001b[0m, in \u001b[0;36mMonitorFitMetrics.on_epoch_end\u001b[0;34m(self)\u001b[0m\n\u001b[1;32m    287\u001b[0m     scores \u001b[38;5;241m=\u001b[39m {name: np\u001b[38;5;241m.\u001b[39mnan \u001b[38;5;28;01mfor\u001b[39;00m name \u001b[38;5;129;01min\u001b[39;00m \u001b[38;5;28mself\u001b[39m\u001b[38;5;241m.\u001b[39mmodel\u001b[38;5;241m.\u001b[39mmetrics\u001b[38;5;241m.\u001b[39mkeys()}\n\u001b[1;32m    288\u001b[0m \u001b[38;5;28;01melse\u001b[39;00m:\n\u001b[0;32m--> 289\u001b[0m     scores \u001b[38;5;241m=\u001b[39m \u001b[38;5;28;43mself\u001b[39;49m\u001b[38;5;241;43m.\u001b[39;49m\u001b[43mmodel\u001b[49m\u001b[38;5;241;43m.\u001b[39;49m\u001b[43mscore_in_batches_dataloader\u001b[49m\u001b[43m(\u001b[49m\u001b[38;5;28;43mself\u001b[39;49m\u001b[38;5;241;43m.\u001b[39;49m\u001b[43mdataloader\u001b[49m\u001b[43m)\u001b[49m\n\u001b[1;32m    290\u001b[0m \u001b[38;5;28;01mfor\u001b[39;00m name, val \u001b[38;5;129;01min\u001b[39;00m scores\u001b[38;5;241m.\u001b[39mitems():\n\u001b[1;32m    291\u001b[0m     \u001b[38;5;28mself\u001b[39m\u001b[38;5;241m.\u001b[39mappend_score(name, val)\n",
      "File \u001b[0;32m/data/master/DS217/users/el2522/TTEAnalysis/TTE_env/lib/python3.11/site-packages/torchtuples/base.py:436\u001b[0m, in \u001b[0;36mModel.score_in_batches_dataloader\u001b[0;34m(self, dataloader, score_func, eval_, mean, numpy)\u001b[0m\n\u001b[1;32m    434\u001b[0m \u001b[38;5;28;01mfor\u001b[39;00m data \u001b[38;5;129;01min\u001b[39;00m dataloader:\n\u001b[1;32m    435\u001b[0m     \u001b[38;5;28;01mif\u001b[39;00m score_func \u001b[38;5;129;01mis\u001b[39;00m \u001b[38;5;28;01mNone\u001b[39;00m:\n\u001b[0;32m--> 436\u001b[0m         score \u001b[38;5;241m=\u001b[39m \u001b[38;5;28;43mself\u001b[39;49m\u001b[38;5;241;43m.\u001b[39;49m\u001b[43mcompute_metrics\u001b[49m\u001b[43m(\u001b[49m\u001b[43mdata\u001b[49m\u001b[43m,\u001b[49m\u001b[43m \u001b[49m\u001b[38;5;28;43mself\u001b[39;49m\u001b[38;5;241;43m.\u001b[39;49m\u001b[43mmetrics\u001b[49m\u001b[43m)\u001b[49m\n\u001b[1;32m    437\u001b[0m     \u001b[38;5;28;01melse\u001b[39;00m:\n\u001b[1;32m    438\u001b[0m         warnings\u001b[38;5;241m.\u001b[39mwarn(\n\u001b[1;32m    439\u001b[0m             \u001b[38;5;124mf\u001b[39m\u001b[38;5;124m\"\u001b[39m\u001b[38;5;124mscore_func \u001b[39m\u001b[38;5;132;01m{\u001b[39;00mscore_func\u001b[38;5;132;01m}\u001b[39;00m\u001b[38;5;124m probably doesn\u001b[39m\u001b[38;5;124m'\u001b[39m\u001b[38;5;124mt work... Not implemented\u001b[39m\u001b[38;5;124m\"\u001b[39m\n\u001b[1;32m    440\u001b[0m         )\n",
      "File \u001b[0;32m/data/master/DS217/users/el2522/TTEAnalysis/TTE_env/lib/python3.11/site-packages/torchtuples/base.py:163\u001b[0m, in \u001b[0;36mModel.compute_metrics\u001b[0;34m(self, data, metrics)\u001b[0m\n\u001b[1;32m    160\u001b[0m         \u001b[38;5;28;01mreturn\u001b[39;00m tuplefy(data)\n\u001b[1;32m    161\u001b[0m     \u001b[38;5;28;01mreturn\u001b[39;00m tuplefy(data)\u001b[38;5;241m.\u001b[39mto_device(\u001b[38;5;28mself\u001b[39m\u001b[38;5;241m.\u001b[39mdevice)\n\u001b[0;32m--> 163\u001b[0m \u001b[38;5;28;01mdef\u001b[39;00m \u001b[38;5;21mcompute_metrics\u001b[39m(\u001b[38;5;28mself\u001b[39m, data, metrics\u001b[38;5;241m=\u001b[39m\u001b[38;5;28;01mNone\u001b[39;00m) \u001b[38;5;241m-\u001b[39m\u001b[38;5;241m>\u001b[39m Dict[\u001b[38;5;28mstr\u001b[39m, torch\u001b[38;5;241m.\u001b[39mTensor]:\n\u001b[1;32m    164\u001b[0m \u001b[38;5;250m    \u001b[39m\u001b[38;5;124;03m\"\"\"Function for computing the loss and other metrics.\u001b[39;00m\n\u001b[1;32m    165\u001b[0m \n\u001b[1;32m    166\u001b[0m \u001b[38;5;124;03m    Arguments:\u001b[39;00m\n\u001b[0;32m   (...)\u001b[0m\n\u001b[1;32m    170\u001b[0m \u001b[38;5;124;03m        metrics {dict} -- A dictionary with metrics. If `None` use `self.metrics`. (default: {None})\u001b[39;00m\n\u001b[1;32m    171\u001b[0m \u001b[38;5;124;03m    \"\"\"\u001b[39;00m\n\u001b[1;32m    172\u001b[0m     \u001b[38;5;28;01mif\u001b[39;00m metrics \u001b[38;5;129;01mis\u001b[39;00m \u001b[38;5;28;01mNone\u001b[39;00m:\n",
      "\u001b[0;31mKeyboardInterrupt\u001b[0m: "
     ]
    }
   ],
   "source": [
    "epochs = 100\n",
    "batch_size = 512\n",
    "\n",
    "callbacks = [\n",
    "    tt.callbacks.EarlyStopping(\n",
    "        patience=5,          # Number of epochs with no improvement after which training will be stopped\n",
    "        min_delta=0.0001,     # Minimum change considered as an improvement\n",
    "    ),\n",
    "#     tt.callbacks.LRSchedulerBatch(torch.optim.lr_scheduler.StepLR(optimizer, step_size=10, gamma=0.5)),\n",
    "    tt.callbacks.ClipGradNorm(net, max_norm=1.0),\n",
    "]\n",
    "\n",
    "log = deephit_mlp_model.fit(Z_train, y_train_disc, batch_size, epochs, \n",
    "                            callbacks, num_workers=8, val_data=(Z_val, y_val_disc), \n",
    "                            metrics={'RankLoss': fixed_sigma_rank_loss})\n"
   ]
  },
  {
   "cell_type": "code",
   "execution_count": 30,
   "metadata": {
    "scrolled": true
   },
   "outputs": [],
   "source": [
    "# Given your split, now let's create the structures for the survival analysis\n",
    "def create_survival_data(durations, events):\n",
    "    return Surv.from_arrays(event=events, time=durations)\n",
    "\n",
    "mask = np.where(durations_test<y_train_val[0].max())\n",
    "Z_test = Z_test[mask]\n",
    "\n",
    "durations_test, events_test = durations_test[mask], events_test[mask]\n",
    "y_test = (durations_test, events_test)\n",
    "y_test_surv = create_survival_data(durations_test, events_test)\n",
    "y_tracker_test = y_tracker_test.iloc[mask[0], :]\n",
    "\n",
    "# Prepare survival data for fitting the models\n",
    "y_train_val_surv = create_survival_data(y_train_val[0], y_train_val[1])                                        \n",
    "\n",
    "deephit_mlp_surv = deephit_mlp_model.predict_surv_df(Z_test)\n",
    "\n"
   ]
  },
  {
   "cell_type": "code",
   "execution_count": 31,
   "metadata": {},
   "outputs": [
    {
     "data": {
      "image/png": "[encoded data removed]",
      "text/plain": [
       "<Figure size 800x500 with 1 Axes>"
      ]
     },
     "metadata": {},
     "output_type": "display_data"
    }
   ],
   "source": [
    "\n",
    "time_grid_deephit = labtrans.cuts\n",
    "mask_deephit = (time_grid_deephit<=time_grid.max()) & (time_grid_deephit>=time_grid.min())\n",
    "time_grid_deephit = time_grid_deephit[mask_deephit]\n",
    "deephit_mlp_risk_scores = (1-deephit_mlp_surv.transpose().values)[:, mask_deephit] # use predict_cif if having compte risks\n",
    "deephit_mlp_auc, deephit_mlp_mean_auc = cumulative_dynamic_auc(y_train_val_surv, y_test_surv, \n",
    "                                                               deephit_mlp_risk_scores, time_grid_deephit)\n",
    "\n",
    "\n",
    "# Visualization\n",
    "plt.figure(figsize=(8, 5))\n",
    "\n",
    "plt.plot(time_grid_deephit, deephit_mlp_auc, \"o-\", label=f\"DeepHit(MLP) (mean AUC = {deephit_mlp_mean_auc:.3f})\")\n",
    "plt.xlabel(\"Ventilation Hours\")\n",
    "plt.ylabel(\"Time-dependent AUC\")\n",
    "plt.title(\"Comparative Cumulative Dynamic AUC Over Time\")\n",
    "plt.legend(loc=\"best\")\n",
    "plt.grid(True)\n",
    "plt.tight_layout()\n",
    "plt.show()"
   ]
  },
  {
   "cell_type": "code",
   "execution_count": 32,
   "metadata": {},
   "outputs": [],
   "source": [
    "deephit_mlp_ev = EvalSurv(deephit_mlp_surv, durations_test, events_test, censor_surv='km')\n"
   ]
  },
  {
   "cell_type": "code",
   "execution_count": 33,
   "metadata": {},
   "outputs": [
    {
     "data": {
      "text/html": [
       "<div>\n",
       "<style scoped>\n",
       "    .dataframe tbody tr th:only-of-type {\n",
       "        vertical-align: middle;\n",
       "    }\n",
       "\n",
       "    .dataframe tbody tr th {\n",
       "        vertical-align: top;\n",
       "    }\n",
       "\n",
       "    .dataframe thead th {\n",
       "        text-align: right;\n",
       "    }\n",
       "</style>\n",
       "<table border=\"1\" class=\"dataframe\">\n",
       "  <thead>\n",
       "    <tr style=\"text-align: right;\">\n",
       "      <th></th>\n",
       "      <th>Model</th>\n",
       "      <th>C-Index</th>\n",
       "      <th>Brier Score at 24h</th>\n",
       "      <th>Integrated Brier Score</th>\n",
       "      <th>MAE</th>\n",
       "      <th>RMSE</th>\n",
       "      <th>MAPE (%)</th>\n",
       "    </tr>\n",
       "  </thead>\n",
       "  <tbody>\n",
       "    <tr>\n",
       "      <th>0</th>\n",
       "      <td>DeepHit-MLP</td>\n",
       "      <td>0.710561</td>\n",
       "      <td>0.14172</td>\n",
       "      <td>0.108766</td>\n",
       "      <td>59.791518</td>\n",
       "      <td>103.326354</td>\n",
       "      <td>113.178251</td>\n",
       "    </tr>\n",
       "  </tbody>\n",
       "</table>\n",
       "</div>"
      ],
      "text/plain": [
       "         Model   C-Index  Brier Score at 24h  Integrated Brier Score  \\\n",
       "0  DeepHit-MLP  0.710561             0.14172                0.108766   \n",
       "\n",
       "         MAE        RMSE    MAPE (%)  \n",
       "0  59.791518  103.326354  113.178251  "
      ]
     },
     "execution_count": 33,
     "metadata": {},
     "output_type": "execute_result"
    }
   ],
   "source": [
    "\n",
    "models_to_eval = [\n",
    "#     ('Kaplan-Meier', km_ev),\n",
    "#     ('Cox-PH', cph_ev),\n",
    "#     ('RSF', rsf_ev),\n",
    "#     ('DeepHit-RNN', deephit_ev),\n",
    "    ('DeepHit-MLP', deephit_mlp_ev),\n",
    "#     ('DeepSurv-RNN', deepsurv_ev),\n",
    "#     ('DeepSurv-MLP', deepsurv_mlp_ev),\n",
    "#     ('Baseline', baseline_ev)\n",
    "    # Add more models as necessary\n",
    "]\n",
    "\n",
    "model_results = []  # List to store result dictionaries\n",
    "\n",
    "for model_name, ev in models_to_eval:\n",
    "#     time_grid = np.arange(durations_test.min(), durations_test.max() + 1, step=12)\n",
    "    c_index = ev.concordance_td(method='antolini')\n",
    "    bs = ev.brier_score(np.array([24])).values[0]\n",
    "    integrated_bs = ev.integrated_brier_score(time_grid)\n",
    "    mae, rmse, mape = ev.compute_error_metrics()\n",
    "\n",
    "    # Append results as a dictionary to the list\n",
    "    model_results.append({\n",
    "        'Model': model_name,\n",
    "        'C-Index': c_index,\n",
    "        'Brier Score at 24h': bs,\n",
    "        'Integrated Brier Score': integrated_bs,\n",
    "        'MAE': mae,\n",
    "        'RMSE': rmse,\n",
    "        'MAPE (%)': mape\n",
    "    })\n",
    "\n",
    "# Convert list of dictionaries to DataFrame at the end\n",
    "results_df = pd.DataFrame(model_results)\n",
    "\n",
    "results_df"
   ]
  },
  {
   "cell_type": "code",
   "execution_count": 34,
   "metadata": {},
   "outputs": [],
   "source": [
    "# Prepare the dictionary for median survival times\n",
    "median_survival_times = {model: ev.median_survival_times() for model, ev in models_to_eval}\n",
    "y_tracker_test['durations_test'] = durations_test\n",
    "y_compare_df = pd.concat([y_tracker_test, pd.DataFrame(median_survival_times)], axis=1)\n"
   ]
  },
  {
   "cell_type": "code",
   "execution_count": 35,
   "metadata": {},
   "outputs": [
    {
     "data": {
      "image/png": "[encoded data removed]",
      "text/plain": [
       "<Figure size 1000x800 with 1 Axes>"
      ]
     },
     "metadata": {},
     "output_type": "display_data"
    }
   ],
   "source": [
    "import seaborn as sns\n",
    "\n",
    "model_column = 'DeepHit-MLP'\n",
    "# Select only necessary columns and filter events\n",
    "tmp_df = y_compare_df[y_compare_df.event == 1][['durations_test', model_column]]\n",
    "\n",
    "# Plotting using seaborn for more elegant output\n",
    "plt.figure(figsize=(10, 8))\n",
    "sns.boxplot(x='durations_test', y=model_column, data=tmp_df)\n",
    "plt.xticks(rotation=45)\n",
    "plt.yticks(ticks=labtrans.cuts, labels=[f\"{int(label)}\" for label in labtrans.cuts])\n",
    "\n",
    "plt.title(f'Distribution of Predictions at Each Discretized Duration Interval for {model_column}')\n",
    "plt.xlabel('Discretized Duration Intervals')\n",
    "plt.ylabel('Predicted Values')\n",
    "plt.grid(True)\n",
    "plt.tight_layout()\n",
    "plt.show()\n"
   ]
  },
  {
   "cell_type": "code",
   "execution_count": null,
   "metadata": {},
   "outputs": [],
   "source": []
  },
  {
   "cell_type": "code",
   "execution_count": null,
   "metadata": {},
   "outputs": [],
   "source": []
  },
  {
   "cell_type": "code",
   "execution_count": null,
   "metadata": {},
   "outputs": [],
   "source": []
  },
  {
   "cell_type": "code",
   "execution_count": null,
   "metadata": {},
   "outputs": [],
   "source": []
  },
  {
   "cell_type": "code",
   "execution_count": null,
   "metadata": {},
   "outputs": [],
   "source": []
  },
  {
   "cell_type": "code",
   "execution_count": null,
   "metadata": {},
   "outputs": [],
   "source": [
    "def drawChartFrame(h, df, cols): \n",
    "    import matplotlib.pyplot as plt\n",
    "    from mpl_toolkits.axes_grid1.inset_locator import inset_axes\n",
    "\n",
    "    tableau20 = [(31, 119, 180), (174, 199, 232), (247, 182, 210), (255, 187, 120),    \n",
    "                 (44, 160, 44), (140, 86, 75), (255, 152, 150),  (214, 39, 40),  \n",
    "                 (148, 103, 189), (197, 176, 213), (152, 223, 138), (196, 156, 148),    \n",
    "                 (227, 119, 194), (255, 127, 14), (127, 127, 127), (199, 199, 199),    \n",
    "                 (188, 189, 34), (219, 219, 141), (23, 190, 207), (158, 218, 229)] \n",
    "#     tableau20 = [(227, 119, 194), (148, 103, 189), (255, 127, 14), (44, 160, 44),    \n",
    "#                  (31, 119, 180), (140, 86, 75),  (214, 39, 40), (255, 152, 150),  \n",
    "#                  (174, 199, 232), (197, 176, 213), (152, 223, 138), (196, 156, 148),    \n",
    "#                  (255, 187, 120), (247, 182, 210), (127, 127, 127), (199, 199, 199),    \n",
    "#                  (188, 189, 34), (219, 219, 141), (23, 190, 207), (158, 218, 229)] \n",
    "\n",
    "    tableau20 = [(r / 255., g / 255., b / 255.) for r, g, b in tableau20]\n",
    "    \n",
    "    fig, (ax1, ax2) = plt.subplots(nrows=2, ncols=1, figsize=(22, 15), \n",
    "                                   gridspec_kw={'height_ratios': [5, 1]})\n",
    "    plt.rcParams.update({'font.size': 22})\n",
    "\n",
    "    df_filtered = df[df['encounterId'] == h].copy()\n",
    "    max_hour = int(df_filtered['timestamp'].max())\n",
    "    x_ticks = np.arange(0, max_hour+1, 12 if max_hour > 24 else 1)\n",
    "\n",
    "    # Predefine colors for 'inspTime' and 'PEEP(set)'\n",
    "    color_dict = {'inspTime': tableau20[3], 'PEEP(set)': tableau20[4]}  # adjust as needed\n",
    "\n",
    "    for i, vent_mode in enumerate(['ventMode_NoSupport', 'ventMode_NIV',  'ventMode_PS', 'ventMode_PC']):\n",
    "        if vent_mode in df_filtered.columns:\n",
    "            mask = df_filtered[vent_mode] == 1\n",
    "            df_filtered.loc[mask, 'group'] = (mask != mask.shift()).cumsum()\n",
    "            grouped = df_filtered[mask].groupby('group')\n",
    "            for _, group in grouped:\n",
    "                start_time = group['timestamp'].min()\n",
    "                end_time = group['timestamp'].max() + 1\n",
    "                ax1.fill_between([start_time, end_time], 0, 100, color=tableau20[i], alpha=0.2)\n",
    "                ax1.text(start_time, 102, vent_mode.replace('ventMode_', ''), color=tableau20[i], fontsize=20, rotation=45)\n",
    "\n",
    "    for i, v in enumerate(cols):\n",
    "        if v in df_filtered.columns:\n",
    "            color = color_dict.get(v, tableau20[(i + 6) % len(tableau20)])  # use predefined color if available\n",
    "            ax1.step(df_filtered['timestamp'], df_filtered[v], color=color, \n",
    "                     lw=1.5, where='post', label=v)\n",
    "    ax1.legend(bbox_to_anchor=(1.02, 1), loc=\"upper left\", fontsize=20)\n",
    "    ax1.set_yticks(np.arange(0, 120, 10))\n",
    "    ax1.set_xticks(x_ticks)\n",
    "    ax1.set_xticklabels([])\n",
    "    ax1.grid(True, which='major', color='gray', linestyle='--', linewidth=0.5)\n",
    "    \n",
    "    zoom_range = (0, 2.0)\n",
    "    zoom_range_len = int(zoom_range[1]-zoom_range[0])\n",
    "\n",
    "    for i, v in enumerate(['inspTime']):\n",
    "        if v in df_filtered.columns:\n",
    "            color = color_dict.get(v, tableau20[(i +6) % len(tableau20)])  # use predefined color if available\n",
    "            ax2.step(df_filtered['timestamp'], df_filtered[v], color=color, lw=2.5, where='post', label=v)\n",
    "\n",
    "    ax2.set_ylim(zoom_range)\n",
    "    ax2.set_yticks(np.linspace(zoom_range[0], zoom_range[1], 5))\n",
    "    ax2.set_xticks(x_ticks)\n",
    "    ax2.set_xticklabels(x_ticks, rotation=45, fontsize=20)\n",
    "    ax2.grid(True, which='major', color='gray', linestyle='--', linewidth=0.5)\n",
    "    ax2.legend(bbox_to_anchor=(1.02, 1), loc=\"upper left\", fontsize=20)\n",
    "\n",
    "    plt.tight_layout()\n",
    "    fig.text(0.45, 0.00, 'Episode Timestamp', ha='center', va='center', fontsize=26)\n",
    "    fig.text(0.00, 0.5, 'Measurement Value', ha='center', va='center', rotation='vertical', fontsize=26)\n",
    "\n",
    "    plt.show()\n"
   ]
  },
  {
   "cell_type": "code",
   "execution_count": null,
   "metadata": {},
   "outputs": [],
   "source": []
  },
  {
   "cell_type": "code",
   "execution_count": null,
   "metadata": {},
   "outputs": [],
   "source": []
  },
  {
   "cell_type": "code",
   "execution_count": null,
   "metadata": {},
   "outputs": [],
   "source": []
  },
  {
   "cell_type": "code",
   "execution_count": null,
   "metadata": {},
   "outputs": [],
   "source": [
    "numeric_action_col = ['FiO2', 'PIP', 'RR(set)', 'PEEP(set)', 'inspTime', 'PS']\n",
    "\n",
    "drawChartFrame(h='5473', df=df, cols=numeric_action_col)\n",
    "# drawChartFrame(h='10657', df=df, cols=numeric_action_col)\n"
   ]
  },
  {
   "cell_type": "markdown",
   "metadata": {},
   "source": [
    "### Get cluster results on df_test"
   ]
  },
  {
   "cell_type": "code",
   "execution_count": null,
   "metadata": {},
   "outputs": [],
   "source": []
  },
  {
   "cell_type": "code",
   "execution_count": null,
   "metadata": {},
   "outputs": [],
   "source": []
  }
 ],
 "metadata": {
  "kernelspec": {
   "display_name": "Python (TTE_env)",
   "language": "python",
   "name": "tte_env"
  },
  "language_info": {
   "codemirror_mode": {
    "name": "ipython",
    "version": 3
   },
   "file_extension": ".py",
   "mimetype": "text/x-python",
   "name": "python",
   "nbconvert_exporter": "python",
   "pygments_lexer": "ipython3",
   "version": "3.11.5"
  }
 },
 "nbformat": 4,
 "nbformat_minor": 1
}
